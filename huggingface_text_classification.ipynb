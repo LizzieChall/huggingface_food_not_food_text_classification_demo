{
  "cells": [
    {
      "cell_type": "markdown",
      "metadata": {
        "id": "view-in-github",
        "colab_type": "text"
      },
      "source": [
        "<a href=\"https://colab.research.google.com/github/LizzieChall/huggingface_food_not_food_text_classification_demo/blob/main/huggingface_text_classification.ipynb\" target=\"_parent\"><img src=\"https://colab.research.google.com/assets/colab-badge.svg\" alt=\"Open In Colab\"/></a>"
      ]
    },
    {
      "cell_type": "markdown",
      "metadata": {
        "id": "YCl4VtZOub7y"
      },
      "source": [
        "# Text Classification with Hugging Face Transformers.\n",
        "\n",
        "Welcome to the Hugging Face Text Classification project!\n",
        "\n",
        "We’re going to be bulding a `food/not_food` **text classification model.**\n",
        "\n",
        "Given a piece of a text (such as an image caption), our model will be able to predict if it’s about food or not.\n",
        "\n",
        "We’re going to start with a text dataset, build a model to classify text samples and then share our model as a demo others can use.\n",
        "\n",
        "To do so, we’ll be using a handful of helpful open-source tools from the Hugging Face ecosystem.\n",
        "\n",
        "We’re going to follow the workflow of:\n",
        "\n",
        "1. Create and preprocess data.\n",
        "2. Define the model we’d like to use with [transformers.AutoModelForSequenceClassification](https://huggingface.co/docs/transformers/en/model_doc/auto#transformers.AutoModelForSequenceClassification) (or another similar model class).\n",
        "3. Define training arguments (these are hyperparameters for our model) with [transformers.TrainingArguments.](https://huggingface.co/docs/transformers/en/main_classes/trainer#transformers.TrainingArguments)\n",
        "4. Pass `TrainingArguments` from 3 and target datasets to an instance of [transformers.Trainer.](https://huggingface.co/docs/transformers/en/main_classes/trainer)\n",
        "5. Train the model by calling [Trainer.train().](https://huggingface.co/docs/transformers/v4.40.2/en/main_classes/trainer#transformers.Trainer.train)\n",
        "6. Save the model (to our local machine or to the Hugging Face Hub).\n",
        "7. Evaluate the trained model by making and inspecting predctions on the test data.\n",
        "8. Turn the model into a shareable demo."
      ]
    },
    {
      "cell_type": "markdown",
      "metadata": {
        "id": "eFukpYD42_FE"
      },
      "source": [
        "## Importing the necessary libraries.\n",
        "\n",
        "We’ll need to install the following libraries from the Hugging Face ecosystem:\n",
        "\n",
        "* Transformers - comes pre-installed on Google Colab.\n",
        "* Datasets - a library for accessing and manipulating datasets on and off the Hugging Face Hub, we can install it via `pip install datasets`.\n",
        "* Evaluate - a library for evaluating machine learning model performance with various metrics, we can install it via `pip install evaluate`.\n",
        "* Accelerate - a library for training machine learning models faster, we can install it via `pip install accelerate`.\n",
        "* Gradio - a library for creating interactive demos of machine learning models, we can install it via `pip install gradio`."
      ]
    },
    {
      "cell_type": "code",
      "execution_count": null,
      "metadata": {
        "colab": {
          "base_uri": "https://localhost:8080/"
        },
        "id": "wwEeNMOst5t0",
        "outputId": "b9b1f233-a3ab-4632-e6d9-24c6e78070de"
      },
      "outputs": [
        {
          "name": "stdout",
          "output_type": "stream",
          "text": [
            "Using transformers version: 4.56.1\n",
            "Using torch version: 2.8.0+cu126\n",
            "Using datasets version: 4.1.1\n",
            "Using accelerate version: 1.10.1\n"
          ]
        }
      ],
      "source": [
        "# Install dependencies\n",
        "try:\n",
        "  import datasets, evaluate, accelerate\n",
        "  import gradio as gr\n",
        "except ModuleNotFoundError:\n",
        "  !pip install -U datasets evaluate accelerate gradio\n",
        "  import datasets, evaluate, accelerate, gradio\n",
        "  import gradio as gr\n",
        "\n",
        "import random\n",
        "\n",
        "import numpy as np\n",
        "import pandas as pd\n",
        "\n",
        "import torch\n",
        "import transformers\n",
        "\n",
        "print(f\"Using transformers version: {transformers.__version__}\")\n",
        "print(f\"Using torch version: {torch.__version__}\")\n",
        "print(f\"Using datasets version: {datasets.__version__}\")\n",
        "print(f\"Using accelerate version: {accelerate.__version__}\")\n"
      ]
    },
    {
      "cell_type": "markdown",
      "metadata": {
        "id": "muHBFEsW8Wfd"
      },
      "source": [
        "## Getting a dataset\n",
        "\n",
        "Building food / not food text classification model: need food / not food text dataset.\n",
        "\n"
      ]
    },
    {
      "cell_type": "code",
      "execution_count": null,
      "metadata": {
        "colab": {
          "base_uri": "https://localhost:8080/"
        },
        "id": "bNQd1b5I5HLl",
        "outputId": "d594806b-e804-4cef-f42b-999cb07271e8"
      },
      "outputs": [
        {
          "data": {
            "text/plain": [
              "DatasetDict({\n",
              "    train: Dataset({\n",
              "        features: ['text', 'label'],\n",
              "        num_rows: 250\n",
              "    })\n",
              "})"
            ]
          },
          "execution_count": 5,
          "metadata": {},
          "output_type": "execute_result"
        }
      ],
      "source": [
        "from datasets import load_dataset\n",
        "\n",
        "dataset = load_dataset(path=\"mrdbourke/learn_hf_food_not_food_image_captions\")\n",
        "dataset"
      ]
    },
    {
      "cell_type": "code",
      "execution_count": null,
      "metadata": {
        "colab": {
          "base_uri": "https://localhost:8080/"
        },
        "id": "QlYC_cMz-Qtd",
        "outputId": "1cfea71f-268f-4a93-be06-06e630c8c624"
      },
      "outputs": [
        {
          "data": {
            "text/plain": [
              "{'train': ['text', 'label']}"
            ]
          },
          "execution_count": 6,
          "metadata": {},
          "output_type": "execute_result"
        }
      ],
      "source": [
        "# what features are there?\n",
        "dataset.column_names"
      ]
    },
    {
      "cell_type": "code",
      "execution_count": null,
      "metadata": {
        "colab": {
          "base_uri": "https://localhost:8080/"
        },
        "id": "BRbmcoQv-biS",
        "outputId": "76e00520-66c2-430b-fd68-8556d07cf93a"
      },
      "outputs": [
        {
          "data": {
            "text/plain": [
              "Dataset({\n",
              "    features: ['text', 'label'],\n",
              "    num_rows: 250\n",
              "})"
            ]
          },
          "execution_count": 7,
          "metadata": {},
          "output_type": "execute_result"
        }
      ],
      "source": [
        "# Access the training split\n",
        "dataset[\"train\"]"
      ]
    },
    {
      "cell_type": "code",
      "execution_count": null,
      "metadata": {
        "colab": {
          "base_uri": "https://localhost:8080/"
        },
        "id": "luj7G5SS-jp6",
        "outputId": "1601f620-7627-4671-86a4-83b54681f58a"
      },
      "outputs": [
        {
          "data": {
            "text/plain": [
              "{'text': 'Creamy cauliflower curry with garlic naan, featuring tender cauliflower in a rich sauce with cream and spices, served with garlic naan bread.',\n",
              " 'label': 'food'}"
            ]
          },
          "execution_count": 8,
          "metadata": {},
          "output_type": "execute_result"
        }
      ],
      "source": [
        "dataset[\"train\"][0]"
      ]
    },
    {
      "cell_type": "markdown",
      "metadata": {
        "id": "xTytjJfP-zoC"
      },
      "source": [
        "### Inspect random samples"
      ]
    },
    {
      "cell_type": "code",
      "execution_count": null,
      "metadata": {
        "colab": {
          "base_uri": "https://localhost:8080/"
        },
        "id": "ZI5jzN7L-n38",
        "outputId": "e730d148-e766-4bf1-aa24-5ffdb2d4e2a4"
      },
      "outputs": [
        {
          "name": "stdout",
          "output_type": "stream",
          "text": [
            "[2, 205, 189, 176, 63]\n",
            "[INFO] Random samples from dataset:\n",
            "\n",
            "Text: Watching TV together, a family has their dog stretched out on the floor | Label: not_food\n",
            "Text: Black leather couch adding elegance to a living room | Label: not_food\n",
            "Text: Set of board games stacked on a shelf | Label: not_food\n",
            "Text: White porcelain sink with a shiny chrome faucet | Label: not_food\n",
            "Text: Spicy vindaloo curry with tender pork pieces, featuring a fiery sauce made with vinegar and chili peppers, perfect for bold flavor lovers. | Label: food\n"
          ]
        }
      ],
      "source": [
        "import random\n",
        "\n",
        "random_indexes = random.sample(range(len(dataset[\"train\"])), 5)\n",
        "print(random_indexes)\n",
        "\n",
        "random_samples = dataset[\"train\"][random_indexes]\n",
        "\n",
        "print(f\"[INFO] Random samples from dataset:\\n\")\n",
        "for text, label in zip(random_samples[\"text\"], random_samples[\"label\"]):\n",
        "  print(f\"Text: {text} | Label: {label}\")"
      ]
    },
    {
      "cell_type": "code",
      "execution_count": null,
      "metadata": {
        "colab": {
          "base_uri": "https://localhost:8080/"
        },
        "id": "7VRiai80-_HL",
        "outputId": "d4774c2d-35c5-479a-cf08-65f39034a68d"
      },
      "outputs": [
        {
          "data": {
            "text/plain": [
              "['food', 'not_food']"
            ]
          },
          "execution_count": 10,
          "metadata": {},
          "output_type": "execute_result"
        }
      ],
      "source": [
        "# Get unique label values\n",
        "dataset[\"train\"].unique(\"label\")"
      ]
    },
    {
      "cell_type": "code",
      "execution_count": null,
      "metadata": {
        "colab": {
          "base_uri": "https://localhost:8080/"
        },
        "id": "R2Aa42QJATR7",
        "outputId": "0bc016dd-0e4d-4ef9-8500-cc52fee640c0"
      },
      "outputs": [
        {
          "data": {
            "text/plain": [
              "Counter({'food': 125, 'not_food': 125})"
            ]
          },
          "execution_count": 11,
          "metadata": {},
          "output_type": "execute_result"
        }
      ],
      "source": [
        "# Check the count of each label\n",
        "from collections import Counter\n",
        "\n",
        "Counter(dataset[\"train\"][\"label\"])"
      ]
    },
    {
      "cell_type": "code",
      "execution_count": null,
      "metadata": {
        "colab": {
          "base_uri": "https://localhost:8080/",
          "height": 269
        },
        "id": "22-O-z7pAtLC",
        "outputId": "cd53306a-bd0f-48f7-d871-20e3fb985d00"
      },
      "outputs": [
        {
          "data": {
            "application/vnd.google.colaboratory.intrinsic+json": {
              "summary": "{\n  \"name\": \"food_not_food_df\",\n  \"rows\": 7,\n  \"fields\": [\n    {\n      \"column\": \"text\",\n      \"properties\": {\n        \"dtype\": \"string\",\n        \"num_unique_values\": 7,\n        \"samples\": [\n          \"Stainless steel refrigerator with a convenient water dispenser\",\n          \"Vintage record player spinning a vinyl record\",\n          \"King-size bed with a white comforter inviting a good night's sleep\"\n        ],\n        \"semantic_type\": \"\",\n        \"description\": \"\"\n      }\n    },\n    {\n      \"column\": \"label\",\n      \"properties\": {\n        \"dtype\": \"category\",\n        \"num_unique_values\": 2,\n        \"samples\": [\n          \"food\",\n          \"not_food\"\n        ],\n        \"semantic_type\": \"\",\n        \"description\": \"\"\n      }\n    }\n  ]\n}",
              "type": "dataframe"
            },
            "text/html": [
              "\n",
              "  <div id=\"df-1e94f643-d6b1-4d1b-8cf3-ffbf099f7af6\" class=\"colab-df-container\">\n",
              "    <div>\n",
              "<style scoped>\n",
              "    .dataframe tbody tr th:only-of-type {\n",
              "        vertical-align: middle;\n",
              "    }\n",
              "\n",
              "    .dataframe tbody tr th {\n",
              "        vertical-align: top;\n",
              "    }\n",
              "\n",
              "    .dataframe thead th {\n",
              "        text-align: right;\n",
              "    }\n",
              "</style>\n",
              "<table border=\"1\" class=\"dataframe\">\n",
              "  <thead>\n",
              "    <tr style=\"text-align: right;\">\n",
              "      <th></th>\n",
              "      <th>text</th>\n",
              "      <th>label</th>\n",
              "    </tr>\n",
              "  </thead>\n",
              "  <tbody>\n",
              "    <tr>\n",
              "      <th>224</th>\n",
              "      <td>Stainless steel refrigerator with a convenient...</td>\n",
              "      <td>not_food</td>\n",
              "    </tr>\n",
              "    <tr>\n",
              "      <th>226</th>\n",
              "      <td>Vintage record player spinning a vinyl record</td>\n",
              "      <td>not_food</td>\n",
              "    </tr>\n",
              "    <tr>\n",
              "      <th>132</th>\n",
              "      <td>Pizza with a seafood theme, featuring toppings...</td>\n",
              "      <td>food</td>\n",
              "    </tr>\n",
              "    <tr>\n",
              "      <th>101</th>\n",
              "      <td>Remote control placed on a couch cushion</td>\n",
              "      <td>not_food</td>\n",
              "    </tr>\n",
              "    <tr>\n",
              "      <th>212</th>\n",
              "      <td>Black and white checkered kitchen floor adding...</td>\n",
              "      <td>not_food</td>\n",
              "    </tr>\n",
              "    <tr>\n",
              "      <th>68</th>\n",
              "      <td>King-size bed with a white comforter inviting ...</td>\n",
              "      <td>not_food</td>\n",
              "    </tr>\n",
              "    <tr>\n",
              "      <th>137</th>\n",
              "      <td>A whole papaya on a white plate with two apple...</td>\n",
              "      <td>food</td>\n",
              "    </tr>\n",
              "  </tbody>\n",
              "</table>\n",
              "</div>\n",
              "    <div class=\"colab-df-buttons\">\n",
              "\n",
              "  <div class=\"colab-df-container\">\n",
              "    <button class=\"colab-df-convert\" onclick=\"convertToInteractive('df-1e94f643-d6b1-4d1b-8cf3-ffbf099f7af6')\"\n",
              "            title=\"Convert this dataframe to an interactive table.\"\n",
              "            style=\"display:none;\">\n",
              "\n",
              "  <svg xmlns=\"http://www.w3.org/2000/svg\" height=\"24px\" viewBox=\"0 -960 960 960\">\n",
              "    <path d=\"M120-120v-720h720v720H120Zm60-500h600v-160H180v160Zm220 220h160v-160H400v160Zm0 220h160v-160H400v160ZM180-400h160v-160H180v160Zm440 0h160v-160H620v160ZM180-180h160v-160H180v160Zm440 0h160v-160H620v160Z\"/>\n",
              "  </svg>\n",
              "    </button>\n",
              "\n",
              "  <style>\n",
              "    .colab-df-container {\n",
              "      display:flex;\n",
              "      gap: 12px;\n",
              "    }\n",
              "\n",
              "    .colab-df-convert {\n",
              "      background-color: #E8F0FE;\n",
              "      border: none;\n",
              "      border-radius: 50%;\n",
              "      cursor: pointer;\n",
              "      display: none;\n",
              "      fill: #1967D2;\n",
              "      height: 32px;\n",
              "      padding: 0 0 0 0;\n",
              "      width: 32px;\n",
              "    }\n",
              "\n",
              "    .colab-df-convert:hover {\n",
              "      background-color: #E2EBFA;\n",
              "      box-shadow: 0px 1px 2px rgba(60, 64, 67, 0.3), 0px 1px 3px 1px rgba(60, 64, 67, 0.15);\n",
              "      fill: #174EA6;\n",
              "    }\n",
              "\n",
              "    .colab-df-buttons div {\n",
              "      margin-bottom: 4px;\n",
              "    }\n",
              "\n",
              "    [theme=dark] .colab-df-convert {\n",
              "      background-color: #3B4455;\n",
              "      fill: #D2E3FC;\n",
              "    }\n",
              "\n",
              "    [theme=dark] .colab-df-convert:hover {\n",
              "      background-color: #434B5C;\n",
              "      box-shadow: 0px 1px 3px 1px rgba(0, 0, 0, 0.15);\n",
              "      filter: drop-shadow(0px 1px 2px rgba(0, 0, 0, 0.3));\n",
              "      fill: #FFFFFF;\n",
              "    }\n",
              "  </style>\n",
              "\n",
              "    <script>\n",
              "      const buttonEl =\n",
              "        document.querySelector('#df-1e94f643-d6b1-4d1b-8cf3-ffbf099f7af6 button.colab-df-convert');\n",
              "      buttonEl.style.display =\n",
              "        google.colab.kernel.accessAllowed ? 'block' : 'none';\n",
              "\n",
              "      async function convertToInteractive(key) {\n",
              "        const element = document.querySelector('#df-1e94f643-d6b1-4d1b-8cf3-ffbf099f7af6');\n",
              "        const dataTable =\n",
              "          await google.colab.kernel.invokeFunction('convertToInteractive',\n",
              "                                                    [key], {});\n",
              "        if (!dataTable) return;\n",
              "\n",
              "        const docLinkHtml = 'Like what you see? Visit the ' +\n",
              "          '<a target=\"_blank\" href=https://colab.research.google.com/notebooks/data_table.ipynb>data table notebook</a>'\n",
              "          + ' to learn more about interactive tables.';\n",
              "        element.innerHTML = '';\n",
              "        dataTable['output_type'] = 'display_data';\n",
              "        await google.colab.output.renderOutput(dataTable, element);\n",
              "        const docLink = document.createElement('div');\n",
              "        docLink.innerHTML = docLinkHtml;\n",
              "        element.appendChild(docLink);\n",
              "      }\n",
              "    </script>\n",
              "  </div>\n",
              "\n",
              "\n",
              "    <div id=\"df-1c4916ac-2f21-430a-bd67-5bb1af49b8e7\">\n",
              "      <button class=\"colab-df-quickchart\" onclick=\"quickchart('df-1c4916ac-2f21-430a-bd67-5bb1af49b8e7')\"\n",
              "                title=\"Suggest charts\"\n",
              "                style=\"display:none;\">\n",
              "\n",
              "<svg xmlns=\"http://www.w3.org/2000/svg\" height=\"24px\"viewBox=\"0 0 24 24\"\n",
              "     width=\"24px\">\n",
              "    <g>\n",
              "        <path d=\"M19 3H5c-1.1 0-2 .9-2 2v14c0 1.1.9 2 2 2h14c1.1 0 2-.9 2-2V5c0-1.1-.9-2-2-2zM9 17H7v-7h2v7zm4 0h-2V7h2v10zm4 0h-2v-4h2v4z\"/>\n",
              "    </g>\n",
              "</svg>\n",
              "      </button>\n",
              "\n",
              "<style>\n",
              "  .colab-df-quickchart {\n",
              "      --bg-color: #E8F0FE;\n",
              "      --fill-color: #1967D2;\n",
              "      --hover-bg-color: #E2EBFA;\n",
              "      --hover-fill-color: #174EA6;\n",
              "      --disabled-fill-color: #AAA;\n",
              "      --disabled-bg-color: #DDD;\n",
              "  }\n",
              "\n",
              "  [theme=dark] .colab-df-quickchart {\n",
              "      --bg-color: #3B4455;\n",
              "      --fill-color: #D2E3FC;\n",
              "      --hover-bg-color: #434B5C;\n",
              "      --hover-fill-color: #FFFFFF;\n",
              "      --disabled-bg-color: #3B4455;\n",
              "      --disabled-fill-color: #666;\n",
              "  }\n",
              "\n",
              "  .colab-df-quickchart {\n",
              "    background-color: var(--bg-color);\n",
              "    border: none;\n",
              "    border-radius: 50%;\n",
              "    cursor: pointer;\n",
              "    display: none;\n",
              "    fill: var(--fill-color);\n",
              "    height: 32px;\n",
              "    padding: 0;\n",
              "    width: 32px;\n",
              "  }\n",
              "\n",
              "  .colab-df-quickchart:hover {\n",
              "    background-color: var(--hover-bg-color);\n",
              "    box-shadow: 0 1px 2px rgba(60, 64, 67, 0.3), 0 1px 3px 1px rgba(60, 64, 67, 0.15);\n",
              "    fill: var(--button-hover-fill-color);\n",
              "  }\n",
              "\n",
              "  .colab-df-quickchart-complete:disabled,\n",
              "  .colab-df-quickchart-complete:disabled:hover {\n",
              "    background-color: var(--disabled-bg-color);\n",
              "    fill: var(--disabled-fill-color);\n",
              "    box-shadow: none;\n",
              "  }\n",
              "\n",
              "  .colab-df-spinner {\n",
              "    border: 2px solid var(--fill-color);\n",
              "    border-color: transparent;\n",
              "    border-bottom-color: var(--fill-color);\n",
              "    animation:\n",
              "      spin 1s steps(1) infinite;\n",
              "  }\n",
              "\n",
              "  @keyframes spin {\n",
              "    0% {\n",
              "      border-color: transparent;\n",
              "      border-bottom-color: var(--fill-color);\n",
              "      border-left-color: var(--fill-color);\n",
              "    }\n",
              "    20% {\n",
              "      border-color: transparent;\n",
              "      border-left-color: var(--fill-color);\n",
              "      border-top-color: var(--fill-color);\n",
              "    }\n",
              "    30% {\n",
              "      border-color: transparent;\n",
              "      border-left-color: var(--fill-color);\n",
              "      border-top-color: var(--fill-color);\n",
              "      border-right-color: var(--fill-color);\n",
              "    }\n",
              "    40% {\n",
              "      border-color: transparent;\n",
              "      border-right-color: var(--fill-color);\n",
              "      border-top-color: var(--fill-color);\n",
              "    }\n",
              "    60% {\n",
              "      border-color: transparent;\n",
              "      border-right-color: var(--fill-color);\n",
              "    }\n",
              "    80% {\n",
              "      border-color: transparent;\n",
              "      border-right-color: var(--fill-color);\n",
              "      border-bottom-color: var(--fill-color);\n",
              "    }\n",
              "    90% {\n",
              "      border-color: transparent;\n",
              "      border-bottom-color: var(--fill-color);\n",
              "    }\n",
              "  }\n",
              "</style>\n",
              "\n",
              "      <script>\n",
              "        async function quickchart(key) {\n",
              "          const quickchartButtonEl =\n",
              "            document.querySelector('#' + key + ' button');\n",
              "          quickchartButtonEl.disabled = true;  // To prevent multiple clicks.\n",
              "          quickchartButtonEl.classList.add('colab-df-spinner');\n",
              "          try {\n",
              "            const charts = await google.colab.kernel.invokeFunction(\n",
              "                'suggestCharts', [key], {});\n",
              "          } catch (error) {\n",
              "            console.error('Error during call to suggestCharts:', error);\n",
              "          }\n",
              "          quickchartButtonEl.classList.remove('colab-df-spinner');\n",
              "          quickchartButtonEl.classList.add('colab-df-quickchart-complete');\n",
              "        }\n",
              "        (() => {\n",
              "          let quickchartButtonEl =\n",
              "            document.querySelector('#df-1c4916ac-2f21-430a-bd67-5bb1af49b8e7 button');\n",
              "          quickchartButtonEl.style.display =\n",
              "            google.colab.kernel.accessAllowed ? 'block' : 'none';\n",
              "        })();\n",
              "      </script>\n",
              "    </div>\n",
              "\n",
              "    </div>\n",
              "  </div>\n"
            ],
            "text/plain": [
              "                                                  text     label\n",
              "224  Stainless steel refrigerator with a convenient...  not_food\n",
              "226      Vintage record player spinning a vinyl record  not_food\n",
              "132  Pizza with a seafood theme, featuring toppings...      food\n",
              "101           Remote control placed on a couch cushion  not_food\n",
              "212  Black and white checkered kitchen floor adding...  not_food\n",
              "68   King-size bed with a white comforter inviting ...  not_food\n",
              "137  A whole papaya on a white plate with two apple...      food"
            ]
          },
          "execution_count": 12,
          "metadata": {},
          "output_type": "execute_result"
        }
      ],
      "source": [
        "# Turn our dataset into a dataframe and get a random sample\n",
        "food_not_food_df = pd.DataFrame(dataset[\"train\"])\n",
        "food_not_food_df.sample(7)"
      ]
    },
    {
      "cell_type": "code",
      "execution_count": null,
      "metadata": {
        "colab": {
          "base_uri": "https://localhost:8080/",
          "height": 178
        },
        "id": "hpFzb95gA_x9",
        "outputId": "d6c2562b-2bcd-448b-fbcf-aa71f807c9e8"
      },
      "outputs": [
        {
          "data": {
            "text/html": [
              "<div>\n",
              "<style scoped>\n",
              "    .dataframe tbody tr th:only-of-type {\n",
              "        vertical-align: middle;\n",
              "    }\n",
              "\n",
              "    .dataframe tbody tr th {\n",
              "        vertical-align: top;\n",
              "    }\n",
              "\n",
              "    .dataframe thead th {\n",
              "        text-align: right;\n",
              "    }\n",
              "</style>\n",
              "<table border=\"1\" class=\"dataframe\">\n",
              "  <thead>\n",
              "    <tr style=\"text-align: right;\">\n",
              "      <th></th>\n",
              "      <th>count</th>\n",
              "    </tr>\n",
              "    <tr>\n",
              "      <th>label</th>\n",
              "      <th></th>\n",
              "    </tr>\n",
              "  </thead>\n",
              "  <tbody>\n",
              "    <tr>\n",
              "      <th>food</th>\n",
              "      <td>125</td>\n",
              "    </tr>\n",
              "    <tr>\n",
              "      <th>not_food</th>\n",
              "      <td>125</td>\n",
              "    </tr>\n",
              "  </tbody>\n",
              "</table>\n",
              "</div><br><label><b>dtype:</b> int64</label>"
            ],
            "text/plain": [
              "label\n",
              "food        125\n",
              "not_food    125\n",
              "Name: count, dtype: int64"
            ]
          },
          "execution_count": 13,
          "metadata": {},
          "output_type": "execute_result"
        }
      ],
      "source": [
        "food_not_food_df[\"label\"].value_counts()"
      ]
    },
    {
      "cell_type": "markdown",
      "metadata": {
        "id": "8GBV-aaRBRtZ"
      },
      "source": [
        "## Preparing data for text classification\n",
        "\n",
        "We’ve got our data ready but there are a few steps we’ll need to take before we can model it.\n",
        "\n",
        "The main two being:\n",
        "\n",
        "1. **Tokenization** - turning our text into a numerical representation (machines prefer numbers rather than words), for example, {\"a\": 0, \"b\": 1, \"c\": 2...}.\n",
        "2. **Creating a train/test split** - right now our data is in a training split only but we’ll create a test set to evaluate our model’s performance."
      ]
    },
    {
      "cell_type": "code",
      "execution_count": null,
      "metadata": {
        "colab": {
          "base_uri": "https://localhost:8080/"
        },
        "id": "D_Uu0SH9BGfK",
        "outputId": "903cc904-7c58-4af1-bfe4-0dac97d6dfba"
      },
      "outputs": [
        {
          "name": "stdout",
          "output_type": "stream",
          "text": [
            "{0: 'not_food', 1: 'food'}\n",
            "{'not_food': 0, 'food': 1}\n"
          ]
        }
      ],
      "source": [
        "# Create a mapping for labels to numeric value\n",
        "id2label = {0: \"not_food\", 1: \"food\"}\n",
        "label2id = {\"not_food\": 0, \"food\": 1}\n",
        "\n",
        "print(id2label)\n",
        "print(label2id)"
      ]
    },
    {
      "cell_type": "code",
      "execution_count": null,
      "metadata": {
        "colab": {
          "base_uri": "https://localhost:8080/"
        },
        "id": "dOVtqdFbCQwH",
        "outputId": "ea540911-b99c-4fc2-ebe3-9ebb217a1643"
      },
      "outputs": [
        {
          "name": "stdout",
          "output_type": "stream",
          "text": [
            "{0: 'not_food', 1: 'food'}\n",
            "{'not_food': 0, 'food': 1}\n"
          ]
        }
      ],
      "source": [
        "# Create mappings programmatically from dataset\n",
        "id2label = {idx: label for idx, label in enumerate(dataset[\"train\"].unique(\"label\")[::-1])}\n",
        "label2id = {label: idx for idx, label in id2label.items()}\n",
        "print(id2label)\n",
        "print(label2id)"
      ]
    },
    {
      "cell_type": "code",
      "execution_count": null,
      "metadata": {
        "colab": {
          "base_uri": "https://localhost:8080/"
        },
        "id": "xp7kkGBuCo3P",
        "outputId": "f5ba7e72-1359-4c84-fc14-d339f6f2f78e"
      },
      "outputs": [
        {
          "name": "stdout",
          "output_type": "stream",
          "text": [
            "0 not_food\n",
            "1 food\n"
          ]
        }
      ],
      "source": [
        "id2label = {}\n",
        "for idx, label in enumerate(dataset[\"train\"].unique(\"label\")[::-1]):\n",
        "  print(idx, label)\n",
        "  id2label[idx] = label"
      ]
    },
    {
      "cell_type": "code",
      "execution_count": null,
      "metadata": {
        "colab": {
          "base_uri": "https://localhost:8080/"
        },
        "id": "auK2GP4bD3Id",
        "outputId": "d87a8a1a-2185-4582-899d-7c0e24dd9ba3"
      },
      "outputs": [
        {
          "data": {
            "text/plain": [
              "{'text': 'This is a sentence about my favorite food: pizza', 'label': 1}"
            ]
          },
          "execution_count": 17,
          "metadata": {},
          "output_type": "execute_result"
        }
      ],
      "source": [
        "# Turn labels into 0 or 1\n",
        "def map_labels_to_number(example):\n",
        "  example[\"label\"] = label2id[example[\"label\"]]\n",
        "  return example\n",
        "\n",
        "example_sample = {\"text\": \"This is a sentence about my favorite food: pizza\", \"label\": \"food\"}\n",
        "\n",
        "# Test our function\n",
        "map_labels_to_number(example_sample)"
      ]
    },
    {
      "cell_type": "code",
      "execution_count": null,
      "metadata": {
        "colab": {
          "base_uri": "https://localhost:8080/",
          "height": 171,
          "referenced_widgets": [
            "d6f0808951184d078e0244b690fba262",
            "3f305c23b9ff4058b01fae5b4a9e6603",
            "fbe84406ed5b42a0a8b06f73f865b971",
            "deffa15ae6c24c2da0a182c86d154127",
            "dc41811744644b6abd17a61b1f31e4c1",
            "d84a7a956d9446b1988ae17a3a9fa808",
            "7f98bf92cba64f4386a8c485f0040288",
            "1dde83207c76485d9a7b44183dddc50e",
            "55c147487f4945c38da916d4ede77e07",
            "0cc963dfed2a4b8eb47801254d8bede6",
            "add3466420a84d1d868b350f745cd208"
          ]
        },
        "id": "4IS4z6zxFA_N",
        "outputId": "6444c304-28ac-440c-d8f9-59df5ed1c440"
      },
      "outputs": [
        {
          "data": {
            "application/vnd.jupyter.widget-view+json": {
              "model_id": "d6f0808951184d078e0244b690fba262",
              "version_major": 2,
              "version_minor": 0
            },
            "text/plain": [
              "Map:   0%|          | 0/250 [00:00<?, ? examples/s]"
            ]
          },
          "metadata": {},
          "output_type": "display_data"
        },
        {
          "data": {
            "text/plain": [
              "{'text': ['Creamy cauliflower curry with garlic naan, featuring tender cauliflower in a rich sauce with cream and spices, served with garlic naan bread.',\n",
              "  'Set of books stacked on a desk',\n",
              "  'Watching TV together, a family has their dog stretched out on the floor',\n",
              "  'Wooden dresser with a mirror reflecting the room',\n",
              "  'Lawn mower stored in a shed'],\n",
              " 'label': [1, 0, 0, 0, 0]}"
            ]
          },
          "execution_count": 18,
          "metadata": {},
          "output_type": "execute_result"
        }
      ],
      "source": [
        "# Map our dataset labels to numbers (the whole dataset)\n",
        "# We do this with dataset.map()\n",
        "dataset = dataset[\"train\"].map(map_labels_to_number)\n",
        "dataset[:5]"
      ]
    },
    {
      "cell_type": "code",
      "execution_count": null,
      "metadata": {
        "colab": {
          "base_uri": "https://localhost:8080/"
        },
        "id": "qThpS8GKGB6f",
        "outputId": "5ff12eb9-67b9-4344-f75a-2745427ef9e3"
      },
      "outputs": [
        {
          "data": {
            "text/plain": [
              "{'text': ['A bowl of sliced kiwi with a sprinkle of sugar and a side of yogurt',\n",
              "  'Bicycle leaning casually against a wall',\n",
              "  'Set of candles arranged on a mantel',\n",
              "  'Set of straws held in a holder',\n",
              "  'Crunchy sushi roll with tempura flakes or panko breadcrumbs.'],\n",
              " 'label': [1, 0, 0, 0, 1]}"
            ]
          },
          "execution_count": 19,
          "metadata": {},
          "output_type": "execute_result"
        }
      ],
      "source": [
        "# Shuffle data and look at 5 more random samples\n",
        "dataset.shuffle()[:5]"
      ]
    },
    {
      "cell_type": "markdown",
      "metadata": {
        "id": "k7ffPJo0GjtL"
      },
      "source": [
        "## Split the dataset into training and test sets\n",
        "\n",
        "* Train set - the model will learn patterns on this dataset.\n",
        "\n",
        "* Validation set (optional) - we can tune our model's hyperparameters on this set (because we are using a small dataset we can leave this out and just have a train and a test set).\n",
        "\n",
        "* Test set - the model will evaluate patterns on this dataset.\n",
        "\n",
        "We can split our dataset using `datasets.Dataset.train_test_split()`"
      ]
    },
    {
      "cell_type": "code",
      "execution_count": null,
      "metadata": {
        "colab": {
          "base_uri": "https://localhost:8080/"
        },
        "id": "6DD4MX25Gdek",
        "outputId": "1df44f4f-9c13-4d39-da7c-ac275668ff4c"
      },
      "outputs": [
        {
          "data": {
            "text/plain": [
              "DatasetDict({\n",
              "    train: Dataset({\n",
              "        features: ['text', 'label'],\n",
              "        num_rows: 200\n",
              "    })\n",
              "    test: Dataset({\n",
              "        features: ['text', 'label'],\n",
              "        num_rows: 50\n",
              "    })\n",
              "})"
            ]
          },
          "execution_count": 20,
          "metadata": {},
          "output_type": "execute_result"
        }
      ],
      "source": [
        "# Split our dataset in train/test/split\n",
        "dataset = dataset.train_test_split(test_size=0.2, seed=42)\n",
        "dataset"
      ]
    },
    {
      "cell_type": "code",
      "execution_count": null,
      "metadata": {
        "colab": {
          "base_uri": "https://localhost:8080/"
        },
        "id": "bIeA4BG0Ijh7",
        "outputId": "aa1b6551-4fc4-4b54-e682-e68530100d25"
      },
      "outputs": [
        {
          "data": {
            "text/plain": [
              "{'text': 'A pair of slices from a barbecue chicken pizza', 'label': 1}"
            ]
          },
          "execution_count": 21,
          "metadata": {},
          "output_type": "execute_result"
        }
      ],
      "source": [
        "random_idx_train = random.randint(0, len(dataset[\"train\"]))\n",
        "random_sample_train = dataset[\"train\"][random_idx_train]\n",
        "random_sample_train"
      ]
    },
    {
      "cell_type": "code",
      "execution_count": null,
      "metadata": {
        "colab": {
          "base_uri": "https://localhost:8080/"
        },
        "id": "U7OiG5oiJS_L",
        "outputId": "6c1471e9-a57c-48c2-87f8-62f52f667fe6"
      },
      "outputs": [
        {
          "data": {
            "text/plain": [
              "{'text': 'A bowl of sliced kiwi with a sprinkle of sugar and a side of yogurt',\n",
              " 'label': 1}"
            ]
          },
          "execution_count": 22,
          "metadata": {},
          "output_type": "execute_result"
        }
      ],
      "source": [
        "random_idx_test = random.randint(0, len(dataset[\"test\"]))\n",
        "random_sample_test = dataset[\"test\"][random_idx_test]\n",
        "random_sample_test"
      ]
    },
    {
      "cell_type": "markdown",
      "metadata": {
        "id": "SMHAOk7KJxmH"
      },
      "source": [
        "### Tokenizing text data (turning text into numbers)\n",
        "\n",
        "The premise of tokenization is to turn words into numbers.\n",
        "\n",
        "For example: \"I love ice cream\" -> [40, 150, 789, 500]\n",
        "\n",
        "_\n",
        "\n",
        "The transformers library has in-built support for HuggingFace `Tokenizers`.\n",
        "\n",
        "And the class `transformers.AutoTokenizer` helps pair a model to a tokenizer.\n"
      ]
    },
    {
      "cell_type": "code",
      "execution_count": null,
      "metadata": {
        "colab": {
          "base_uri": "https://localhost:8080/"
        },
        "id": "y0M5w8bfJlE7",
        "outputId": "1417c7a2-5ed3-449f-af19-d7bcdf2974ae"
      },
      "outputs": [
        {
          "data": {
            "text/plain": [
              "DistilBertTokenizerFast(name_or_path='distilbert/distilbert-base-uncased', vocab_size=30522, model_max_length=512, is_fast=True, padding_side='right', truncation_side='right', special_tokens={'unk_token': '[UNK]', 'sep_token': '[SEP]', 'pad_token': '[PAD]', 'cls_token': '[CLS]', 'mask_token': '[MASK]'}, clean_up_tokenization_spaces=False, added_tokens_decoder={\n",
              "\t0: AddedToken(\"[PAD]\", rstrip=False, lstrip=False, single_word=False, normalized=False, special=True),\n",
              "\t100: AddedToken(\"[UNK]\", rstrip=False, lstrip=False, single_word=False, normalized=False, special=True),\n",
              "\t101: AddedToken(\"[CLS]\", rstrip=False, lstrip=False, single_word=False, normalized=False, special=True),\n",
              "\t102: AddedToken(\"[SEP]\", rstrip=False, lstrip=False, single_word=False, normalized=False, special=True),\n",
              "\t103: AddedToken(\"[MASK]\", rstrip=False, lstrip=False, single_word=False, normalized=False, special=True),\n",
              "}\n",
              ")"
            ]
          },
          "execution_count": 23,
          "metadata": {},
          "output_type": "execute_result"
        }
      ],
      "source": [
        "from transformers import AutoTokenizer\n",
        "\n",
        "tokenizer = AutoTokenizer.from_pretrained(pretrained_model_name_or_path=\"distilbert/distilbert-base-uncased\",\n",
        "                                          use_fast=True)\n",
        "tokenizer"
      ]
    },
    {
      "cell_type": "code",
      "execution_count": null,
      "metadata": {
        "colab": {
          "base_uri": "https://localhost:8080/"
        },
        "id": "Tal3J3bWLl7b",
        "outputId": "210b6cac-2d5d-4d41-b1e7-c518cd6352d5"
      },
      "outputs": [
        {
          "data": {
            "text/plain": [
              "{'input_ids': [101, 1045, 2293, 10733, 102], 'attention_mask': [1, 1, 1, 1, 1]}"
            ]
          },
          "execution_count": 24,
          "metadata": {},
          "output_type": "execute_result"
        }
      ],
      "source": [
        "# Test out the tokenizer\n",
        "tokenizer(\"I love pizza\")"
      ]
    },
    {
      "cell_type": "markdown",
      "metadata": {
        "id": "vfoRyaWtMR7m"
      },
      "source": [
        "* `input_ids` = our text turned into numbers. [CLS, I, love, pizza, SEP]\n",
        "* `attention_mask` = whether or not to pay attention to certain tokens (1 = yes pay attention, 0 = no, don't pay attention)"
      ]
    },
    {
      "cell_type": "code",
      "execution_count": null,
      "metadata": {
        "colab": {
          "base_uri": "https://localhost:8080/"
        },
        "id": "8DvzaS4HMJGq",
        "outputId": "a33b8a1d-775e-4d70-fa55-f18a702b30df"
      },
      "outputs": [
        {
          "data": {
            "text/plain": [
              "{'input_ids': [101, 1045, 2293, 10733, 999, 102], 'attention_mask': [1, 1, 1, 1, 1, 1]}"
            ]
          },
          "execution_count": 25,
          "metadata": {},
          "output_type": "execute_result"
        }
      ],
      "source": [
        "tokenizer(\"I love pizza!\")"
      ]
    },
    {
      "cell_type": "code",
      "execution_count": null,
      "metadata": {
        "colab": {
          "base_uri": "https://localhost:8080/"
        },
        "id": "7ot986WTNvoz",
        "outputId": "8a651440-2ff0-4a76-d719-edb372661b68"
      },
      "outputs": [
        {
          "name": "stdout",
          "output_type": "stream",
          "text": [
            "[INFO]: Number of items in our tokenizer vocab: 30522\n",
            "[INFO] Max tokenizer input sequence length: 512\n"
          ]
        }
      ],
      "source": [
        "# Get the length of our tokenizer vocab\n",
        "length_of_tokenizer_vocab = len(tokenizer.vocab)\n",
        "print(f\"[INFO]: Number of items in our tokenizer vocab: {length_of_tokenizer_vocab}\")\n",
        "\n",
        "# Get the maximum sequence length the tokenizer can handle\n",
        "max_tokenizer_input_sequence_length = tokenizer.model_max_length\n",
        "print(f\"[INFO] Max tokenizer input sequence length: {max_tokenizer_input_sequence_length}\")"
      ]
    },
    {
      "cell_type": "code",
      "execution_count": null,
      "metadata": {
        "colab": {
          "base_uri": "https://localhost:8080/"
        },
        "id": "TIWbvW4YOjCj",
        "outputId": "1837376a-62dc-449a-e0d9-8d78e1e1bb96"
      },
      "outputs": [
        {
          "data": {
            "text/plain": [
              "7592"
            ]
          },
          "execution_count": 27,
          "metadata": {},
          "output_type": "execute_result"
        }
      ],
      "source": [
        "# Does \"Elizabeth\" occur in the vocab?\n",
        "tokenizer.vocab[\"hello\"]"
      ]
    },
    {
      "cell_type": "code",
      "execution_count": null,
      "metadata": {
        "colab": {
          "base_uri": "https://localhost:8080/"
        },
        "id": "H7rmPWAOPL7a",
        "outputId": "a268e6f5-100b-4953-edc0-71375af0aa5d"
      },
      "outputs": [
        {
          "data": {
            "text/plain": [
              "{'input_ids': [101, 3870, 102], 'attention_mask': [1, 1, 1]}"
            ]
          },
          "execution_count": 28,
          "metadata": {},
          "output_type": "execute_result"
        }
      ],
      "source": [
        "tokenizer(\"Elizabeth\")"
      ]
    },
    {
      "cell_type": "code",
      "execution_count": null,
      "metadata": {
        "colab": {
          "base_uri": "https://localhost:8080/"
        },
        "id": "DrtDlHx-PkJ7",
        "outputId": "eb763a2d-2645-46ca-b9ec-fb39092777cc"
      },
      "outputs": [
        {
          "data": {
            "text/plain": [
              "['[CLS]', 'elizabeth', '[SEP]']"
            ]
          },
          "execution_count": 29,
          "metadata": {},
          "output_type": "execute_result"
        }
      ],
      "source": [
        "tokenizer.convert_ids_to_tokens(tokenizer(\"Elizabeth\").input_ids)"
      ]
    },
    {
      "cell_type": "code",
      "execution_count": null,
      "metadata": {
        "colab": {
          "base_uri": "https://localhost:8080/"
        },
        "id": "ILhXEIFrPuAj",
        "outputId": "f7308f6f-33e1-4211-93a5-64d097166667"
      },
      "outputs": [
        {
          "data": {
            "text/plain": [
              "['[CLS]', '[UNK]', '[SEP]']"
            ]
          },
          "execution_count": 30,
          "metadata": {},
          "output_type": "execute_result"
        }
      ],
      "source": [
        "# Try to tokenize an emoji\n",
        "tokenizer.convert_ids_to_tokens(tokenizer(\"😊\").input_ids)"
      ]
    },
    {
      "cell_type": "code",
      "execution_count": null,
      "metadata": {
        "colab": {
          "base_uri": "https://localhost:8080/"
        },
        "id": "5IlER42VQGOC",
        "outputId": "8b896cf3-fc51-4bd7-d400-f25f339a1628"
      },
      "outputs": [
        {
          "data": {
            "text/plain": [
              "[('!', 999), ('\"', 1000), ('#', 1001), ('##!', 29612), ('##\"', 29613)]"
            ]
          },
          "execution_count": 31,
          "metadata": {},
          "output_type": "execute_result"
        }
      ],
      "source": [
        "# Get the first 5 items in the tokenizer vocab\n",
        "sorted(tokenizer.vocab.items())[:5]"
      ]
    },
    {
      "cell_type": "code",
      "execution_count": null,
      "metadata": {
        "colab": {
          "base_uri": "https://localhost:8080/"
        },
        "id": "9cIvnF8lQVD6",
        "outputId": "c94a9286-6978-4247-ae21-3db8e05ba03a"
      },
      "outputs": [
        {
          "data": {
            "text/plain": [
              "[('minus', 15718),\n",
              " ('sedimentary', 25503),\n",
              " ('bedrock', 28272),\n",
              " ('eater', 28496),\n",
              " ('##rlin', 19403)]"
            ]
          },
          "execution_count": 32,
          "metadata": {},
          "output_type": "execute_result"
        }
      ],
      "source": [
        "import random\n",
        "random.sample(sorted(tokenizer.vocab.items()), k=5)"
      ]
    },
    {
      "cell_type": "markdown",
      "metadata": {
        "id": "4xEgQqGDQ5xW"
      },
      "source": [
        "### Making a preprocessing function to tokenize text.\n",
        "\n",
        "We want to make it easy to go from sample to tokenized_sample.\n"
      ]
    },
    {
      "cell_type": "code",
      "execution_count": null,
      "metadata": {
        "id": "kMla2VBIQhYD"
      },
      "outputs": [],
      "source": [
        "def tokenize_text(examples):\n",
        "  \"\"\"\n",
        "  Tokenize given example text and return the tokenized text.\n",
        "  \"\"\"\n",
        "  return tokenizer(examples[\"text\"],\n",
        "                   padding=True,\n",
        "                   truncation=True)"
      ]
    },
    {
      "cell_type": "code",
      "execution_count": null,
      "metadata": {
        "colab": {
          "base_uri": "https://localhost:8080/"
        },
        "id": "VPM7x_Z3Rkqz",
        "outputId": "683a5f7b-af4f-4e09-cf92-c653cbfd760b"
      },
      "outputs": [
        {
          "data": {
            "text/plain": [
              "{'input_ids': [101, 1045, 2293, 10733, 102], 'attention_mask': [1, 1, 1, 1, 1]}"
            ]
          },
          "execution_count": 34,
          "metadata": {},
          "output_type": "execute_result"
        }
      ],
      "source": [
        "example_sample_2 = {\"text\": \"I love pizza\", \"label\": 1}\n",
        "\n",
        "# Test the function\n",
        "tokenize_text(example_sample_2)"
      ]
    },
    {
      "cell_type": "code",
      "execution_count": null,
      "metadata": {
        "colab": {
          "base_uri": "https://localhost:8080/"
        },
        "id": "i3Kvh-gkSX4r",
        "outputId": "2095f25d-46a9-4589-8a5f-6d056b6e5617"
      },
      "outputs": [
        {
          "data": {
            "text/plain": [
              "13000"
            ]
          },
          "execution_count": 35,
          "metadata": {},
          "output_type": "execute_result"
        }
      ],
      "source": [
        "long_text = \"I love pizza \" * 1000\n",
        "len(long_text)"
      ]
    },
    {
      "cell_type": "code",
      "execution_count": null,
      "metadata": {
        "colab": {
          "base_uri": "https://localhost:8080/"
        },
        "id": "xZkqXY43SiFz",
        "outputId": "650b6e8c-8500-4768-bf06-c52360a86b7d"
      },
      "outputs": [
        {
          "data": {
            "text/plain": [
              "512"
            ]
          },
          "execution_count": 36,
          "metadata": {},
          "output_type": "execute_result"
        }
      ],
      "source": [
        "tokenized_long_text = tokenize_text({\"text\": long_text, \"label\": 1})\n",
        "len(tokenized_long_text[\"input_ids\"])"
      ]
    },
    {
      "cell_type": "code",
      "execution_count": null,
      "metadata": {
        "colab": {
          "base_uri": "https://localhost:8080/",
          "height": 255,
          "referenced_widgets": [
            "87d6f9961cb7466398aec33c78391a6b",
            "8005d5ed3040496eb64a56cfca41c9ea",
            "0bfc7a8ec032428da946996b3e3fe6c5",
            "1953125850724a20af9aaf8ca484caa1",
            "0db1a66f9a5e46cab2c9285a02483139",
            "b798997880394cbebd5d3cc4757ca662",
            "38c36fc648494672b86c28b63a6e2cab",
            "2daae05d747a4efd989e4b09cf0830a2",
            "180f4ddb076548128b4b79063f7d21a3",
            "9760fe8dc015400295bcad2eb4adb6ee",
            "a8c401d54fa3419a80c0495971200cd1",
            "d9b3e81d21814191881a14467f89935f",
            "9182b1d8f0414fe79244287038dd9cbe",
            "e88f8c7ca1db4100b8c73c00adfc6b1d",
            "d441e860d4e6436fbe126b971b85a189",
            "5cecfa89886f47189d7d5c7f9a36da50",
            "5eaae5cf75a945178ed2d46313d2398d",
            "0c24ce0b69a7458f9ba2c86404c9d08b",
            "88834097cf3b4b86aaef5b4cd0e924e2",
            "a76f1f07599e4b619c78d780c8984fe1",
            "c5f4cb92bf1f49cba7a8f5ffc17db59e",
            "31e85e35958d4409a125a67b0ac40238"
          ]
        },
        "id": "ZuOSxXWLS_yj",
        "outputId": "b420d8a5-63c6-4cf8-ee90-0fb6d9b96fa8"
      },
      "outputs": [
        {
          "data": {
            "application/vnd.jupyter.widget-view+json": {
              "model_id": "87d6f9961cb7466398aec33c78391a6b",
              "version_major": 2,
              "version_minor": 0
            },
            "text/plain": [
              "Map:   0%|          | 0/200 [00:00<?, ? examples/s]"
            ]
          },
          "metadata": {},
          "output_type": "display_data"
        },
        {
          "data": {
            "application/vnd.jupyter.widget-view+json": {
              "model_id": "d9b3e81d21814191881a14467f89935f",
              "version_major": 2,
              "version_minor": 0
            },
            "text/plain": [
              "Map:   0%|          | 0/50 [00:00<?, ? examples/s]"
            ]
          },
          "metadata": {},
          "output_type": "display_data"
        },
        {
          "data": {
            "text/plain": [
              "DatasetDict({\n",
              "    train: Dataset({\n",
              "        features: ['text', 'label', 'input_ids', 'attention_mask'],\n",
              "        num_rows: 200\n",
              "    })\n",
              "    test: Dataset({\n",
              "        features: ['text', 'label', 'input_ids', 'attention_mask'],\n",
              "        num_rows: 50\n",
              "    })\n",
              "})"
            ]
          },
          "execution_count": 37,
          "metadata": {},
          "output_type": "execute_result"
        }
      ],
      "source": [
        "# Map our tokenized text function to the dataset\n",
        "tokenized_dataset = dataset.map(function=tokenize_text,\n",
        "                                batched=True,\n",
        "                                batch_size=1000)\n",
        "tokenized_dataset"
      ]
    },
    {
      "cell_type": "code",
      "execution_count": null,
      "metadata": {
        "colab": {
          "base_uri": "https://localhost:8080/"
        },
        "id": "QelHwiY2TaL6",
        "outputId": "8aa747d4-d763-4be3-cdb0-0bcd58a11060"
      },
      "outputs": [
        {
          "name": "stdout",
          "output_type": "stream",
          "text": [
            "[INFO] Key: text\n",
            "Train Sample: Set of headphones placed on a desk\n",
            "Test Sample: A slice of pepperoni pizza with a layer of melted cheese\n",
            "\n",
            "[INFO] Key: label\n",
            "Train Sample: 0\n",
            "Test Sample: 1\n",
            "\n",
            "[INFO] Key: input_ids\n",
            "Train Sample: [101, 2275, 1997, 2132, 19093, 2872, 2006, 1037, 4624, 102, 0, 0, 0, 0, 0, 0, 0, 0, 0, 0, 0, 0, 0, 0, 0, 0, 0, 0, 0, 0, 0, 0, 0, 0, 0]\n",
            "Test Sample: [101, 1037, 14704, 1997, 11565, 10698, 10733, 2007, 1037, 6741, 1997, 12501, 8808, 102, 0, 0, 0, 0, 0, 0, 0, 0, 0, 0, 0, 0, 0, 0, 0, 0, 0, 0, 0, 0, 0, 0]\n",
            "\n",
            "[INFO] Key: attention_mask\n",
            "Train Sample: [1, 1, 1, 1, 1, 1, 1, 1, 1, 1, 0, 0, 0, 0, 0, 0, 0, 0, 0, 0, 0, 0, 0, 0, 0, 0, 0, 0, 0, 0, 0, 0, 0, 0, 0]\n",
            "Test Sample: [1, 1, 1, 1, 1, 1, 1, 1, 1, 1, 1, 1, 1, 1, 0, 0, 0, 0, 0, 0, 0, 0, 0, 0, 0, 0, 0, 0, 0, 0, 0, 0, 0, 0, 0, 0]\n",
            "\n"
          ]
        }
      ],
      "source": [
        "# Get two samples from the tokenized datasets\n",
        "train_tokenized_sample = tokenized_dataset[\"train\"][0]\n",
        "test_tokenized_sample = tokenized_dataset[\"test\"][0]\n",
        "\n",
        "for key in train_tokenized_sample.keys():\n",
        "  print(f\"[INFO] Key: {key}\")\n",
        "  print(f\"Train Sample: {train_tokenized_sample[key]}\")\n",
        "  print(f\"Test Sample: {test_tokenized_sample[key]}\")\n",
        "  print()"
      ]
    },
    {
      "cell_type": "markdown",
      "metadata": {
        "id": "vs9l8ZiaVzTw"
      },
      "source": [
        "### Tokenization takeaways\n",
        "\n",
        "1. Tokenizers = turn data into numbers (e.g. text -> map to number)\n",
        "2. Many models are out there and have different tokenizers, HuggingFace's `Auto` (e.g. `AutoTokenizer`, `AutoProcessor`, `AutoModel`, etc help to match tokenizers to models)\n",
        "3. Tokenizers can happen in parallel using `map` and `batched` functions."
      ]
    },
    {
      "cell_type": "markdown",
      "metadata": {
        "id": "lhAp10zNWzq-"
      },
      "source": [
        "## Setting up an evaluation metric.\n",
        "\n",
        "We want to use the evaluation metric to get a numerical idea of how our model is performing.\n",
        "\n",
        "Some common evaluation metrics for classification are:\n",
        "* Accuracy (how many examples out of 100 did you get correct?)\n",
        "* Precision\n",
        "* Recall\n",
        "* F1 Score\n",
        "\n",
        "Evaluation metric is important because some projects may have an evaluation threshold to fulfill.\n",
        "\n",
        "\n",
        "E.g. May require 98%+ test accuracy to be commercially viable."
      ]
    },
    {
      "cell_type": "code",
      "execution_count": null,
      "metadata": {
        "id": "IPanXWVRUjuy"
      },
      "outputs": [],
      "source": [
        "import evaluate\n",
        "import numpy as np\n",
        "from typing import Tuple\n",
        "\n",
        "accuracy_metric = evaluate.load(\"accuracy\")\n",
        "\n",
        "def compute_accuracy(predictions_and_labels: Tuple[np.array, np.array]):\n",
        "  \"\"\"\n",
        "  Computes the accuracy of a model by comparing the predictions and labels.\n",
        "  \"\"\"\n",
        "  predictions, labels = predictions_and_labels\n",
        "\n",
        "  return accuracy_metric.compute(predictions=predictions, references=labels)"
      ]
    },
    {
      "cell_type": "code",
      "execution_count": null,
      "metadata": {
        "colab": {
          "base_uri": "https://localhost:8080/"
        },
        "id": "dAb7ZZVta9Ls",
        "outputId": "14d81e68-bcae-4a4d-929c-e662541d5ebf"
      },
      "outputs": [
        {
          "name": "stdout",
          "output_type": "stream",
          "text": [
            "Accuracy when all predictions are correct: {'accuracy': 1.0}\n",
            "Accuracy when one prediction is incorrect: {'accuracy': 0.9}\n"
          ]
        }
      ],
      "source": [
        "# Example predictions and accuracy score\n",
        "example_preds_all_correct = np.array([0, 0, 0, 0, 0, 0, 0, 0, 0, 0])\n",
        "example_preds_one_incorrect = np.array([0, 0, 0, 0, 0, 0, 1, 0, 0, 0])\n",
        "example_labels = np.array([0, 0, 0, 0, 0, 0, 0, 0, 0, 0])\n",
        "\n",
        "# Test the function\n",
        "print(f\"Accuracy when all predictions are correct: {compute_accuracy((example_preds_all_correct, example_labels))}\")\n",
        "print(f\"Accuracy when one prediction is incorrect: {compute_accuracy((example_preds_one_incorrect, example_labels))}\")\n"
      ]
    },
    {
      "cell_type": "markdown",
      "metadata": {
        "id": "8tmXQRNrb3Vt"
      },
      "source": [
        "## Setting up a model for training.\n",
        "\n",
        "* We're going to be using transfer learning.\n",
        "* Transfer learning is a powerful technique, unique to deep learning models, that enables us to use the patterns one model has learned on another problem for our own problem.\n",
        "\n",
        "\n",
        "Workflow for training:\n",
        "1. Create and preprocess data ✅\n",
        "2. Define the model we'd like to use for our problem (in our case it will be the `distilbert/distilbert-base-uncased` model found here:   https://huggingface.co/distilbert/distilbert-base-uncased)\n",
        "3. Define training arguments for training our model using `transformers.TrainingArguments`\n",
        "4. Pass `TrainingArguments` to an instance of `transformers.Trainer`\n",
        "5. Train the model by calling `Trainer.train()`\n",
        "6. Save the model (to our local machine or to the HuggingFace Hub)\n",
        "7. Evaluate the trained model by making and inspecting predictions on the test data (and our own custom data)\n",
        "8. Turn the model into a shareable demo"
      ]
    },
    {
      "cell_type": "code",
      "execution_count": null,
      "metadata": {
        "colab": {
          "base_uri": "https://localhost:8080/",
          "height": 104,
          "referenced_widgets": [
            "7ac9801519484ced8d76f90811c4dd2a",
            "f2f4eba2777244c8a4e6788d05f5e483",
            "73d4d4f3fee54120b50f75aa03607ec5",
            "69c3fef1daec49e39fe1a18a37f613f8",
            "b42729c043aa453580f2a4eafa8269b3",
            "6112e33a598d4689a70638284eb40dc7",
            "6a666cc1e6024896bd8ee8ba24a42101",
            "5f9e934b814b4153b1baf6ce12ee60db",
            "1d91708521594d74bc666d66150ab95f",
            "50b805cafab840f5864ae0b66fd7a4a1",
            "3c91871dbd6b4dcb8939d11d15675721"
          ]
        },
        "id": "i19af1GAbvWK",
        "outputId": "ad7c6f40-4128-41b5-85ec-ac1b5e9ab5e4"
      },
      "outputs": [
        {
          "data": {
            "application/vnd.jupyter.widget-view+json": {
              "model_id": "7ac9801519484ced8d76f90811c4dd2a",
              "version_major": 2,
              "version_minor": 0
            },
            "text/plain": [
              "model.safetensors:   0%|          | 0.00/268M [00:00<?, ?B/s]"
            ]
          },
          "metadata": {},
          "output_type": "display_data"
        },
        {
          "name": "stderr",
          "output_type": "stream",
          "text": [
            "Some weights of DistilBertForSequenceClassification were not initialized from the model checkpoint at distilbert/distilbert-base-uncased and are newly initialized: ['classifier.bias', 'classifier.weight', 'pre_classifier.bias', 'pre_classifier.weight']\n",
            "You should probably TRAIN this model on a down-stream task to be able to use it for predictions and inference.\n"
          ]
        }
      ],
      "source": [
        "from transformers import AutoModelForSequenceClassification\n",
        "\n",
        "model = AutoModelForSequenceClassification.from_pretrained(\n",
        "    pretrained_model_name_or_path=\"distilbert/distilbert-base-uncased\",\n",
        "    num_labels=2,\n",
        "    id2label=id2label,\n",
        "    label2id=label2id\n",
        ")"
      ]
    },
    {
      "cell_type": "code",
      "execution_count": null,
      "metadata": {
        "colab": {
          "base_uri": "https://localhost:8080/"
        },
        "id": "rqrU_lIyzur0",
        "outputId": "d067b14c-2bdb-4573-fd2b-8ec9fb097a30"
      },
      "outputs": [
        {
          "data": {
            "text/plain": [
              "DistilBertForSequenceClassification(\n",
              "  (distilbert): DistilBertModel(\n",
              "    (embeddings): Embeddings(\n",
              "      (word_embeddings): Embedding(30522, 768, padding_idx=0)\n",
              "      (position_embeddings): Embedding(512, 768)\n",
              "      (LayerNorm): LayerNorm((768,), eps=1e-12, elementwise_affine=True)\n",
              "      (dropout): Dropout(p=0.1, inplace=False)\n",
              "    )\n",
              "    (transformer): Transformer(\n",
              "      (layer): ModuleList(\n",
              "        (0-5): 6 x TransformerBlock(\n",
              "          (attention): DistilBertSdpaAttention(\n",
              "            (dropout): Dropout(p=0.1, inplace=False)\n",
              "            (q_lin): Linear(in_features=768, out_features=768, bias=True)\n",
              "            (k_lin): Linear(in_features=768, out_features=768, bias=True)\n",
              "            (v_lin): Linear(in_features=768, out_features=768, bias=True)\n",
              "            (out_lin): Linear(in_features=768, out_features=768, bias=True)\n",
              "          )\n",
              "          (sa_layer_norm): LayerNorm((768,), eps=1e-12, elementwise_affine=True)\n",
              "          (ffn): FFN(\n",
              "            (dropout): Dropout(p=0.1, inplace=False)\n",
              "            (lin1): Linear(in_features=768, out_features=3072, bias=True)\n",
              "            (lin2): Linear(in_features=3072, out_features=768, bias=True)\n",
              "            (activation): GELUActivation()\n",
              "          )\n",
              "          (output_layer_norm): LayerNorm((768,), eps=1e-12, elementwise_affine=True)\n",
              "        )\n",
              "      )\n",
              "    )\n",
              "  )\n",
              "  (pre_classifier): Linear(in_features=768, out_features=768, bias=True)\n",
              "  (classifier): Linear(in_features=768, out_features=2, bias=True)\n",
              "  (dropout): Dropout(p=0.2, inplace=False)\n",
              ")"
            ]
          },
          "execution_count": 42,
          "metadata": {},
          "output_type": "execute_result"
        }
      ],
      "source": [
        "model"
      ]
    },
    {
      "cell_type": "markdown",
      "metadata": {
        "id": "OTBBFRgY0bR5"
      },
      "source": [
        "Our model is comprised of the following parts:\n",
        "\n",
        "1. `Embeddings` - embeddings are a form of learned representation of tokens. So if tokens are a direct mapping from token to number, embeddings are a learned vector representation.\n",
        "2. `Transformer` - our model architecture backbone, this has discovered patterns/relationships in the embeddings.\n",
        "3. `Classifier` - we need to customize this layer to suit our problem."
      ]
    },
    {
      "cell_type": "markdown",
      "metadata": {
        "id": "EsC7jOCQ1aId"
      },
      "source": [
        "### Counting the parameters of our model.\n",
        "\n",
        "Weights/parameters = small numeric opportunities for a model to learn patterns in data."
      ]
    },
    {
      "cell_type": "code",
      "execution_count": null,
      "metadata": {
        "colab": {
          "base_uri": "https://localhost:8080/"
        },
        "id": "5XKlN72t0TVb",
        "outputId": "9bcd060d-57ef-429e-fefb-c636302745e0"
      },
      "outputs": [
        {
          "data": {
            "text/plain": [
              "{'trainable_parameters': 66955010, 'total_parameters': 66955010}"
            ]
          },
          "execution_count": 43,
          "metadata": {},
          "output_type": "execute_result"
        }
      ],
      "source": [
        "def count_params(model):\n",
        "  \"\"\"\n",
        "  Count the parameters of a PyTorch model.\n",
        "  \"\"\"\n",
        "  trainable_parameters = sum(param.numel() for param in model.parameters() if param.requires_grad)\n",
        "  total_parameters = sum(param.numel() for param in model.parameters())\n",
        "\n",
        "  return {\"trainable_parameters\": trainable_parameters,\n",
        "          \"total_parameters\": total_parameters}\n",
        "\n",
        "count_params(model)\n"
      ]
    },
    {
      "cell_type": "markdown",
      "metadata": {
        "id": "Cb0BsbXD4Q6M"
      },
      "source": [
        "Looks like our model has 67M parameters and **all** of them are trainable.\n",
        "\n",
        "* Generally, the more parameters a model has, the more capacity it has to learn.\n",
        "* For the best possible performance, more parameters is better (generally).\n",
        "  - However, more parameters requires more compute and time.\n",
        "  - A smaller model with specific data can perfrom just as well."
      ]
    },
    {
      "cell_type": "markdown",
      "metadata": {
        "id": "6mU5FKcM52Sj"
      },
      "source": [
        "### Create a folder or directory for saving models\n",
        "\n"
      ]
    },
    {
      "cell_type": "code",
      "execution_count": null,
      "metadata": {
        "colab": {
          "base_uri": "https://localhost:8080/"
        },
        "id": "l5FSSPZQ3oJU",
        "outputId": "35dc9b7f-f487-4753-9853-1a3603ea5265"
      },
      "outputs": [
        {
          "data": {
            "text/plain": [
              "PosixPath('models/food_not_food_distilbert-base-uncased_text_classification_model')"
            ]
          },
          "execution_count": 44,
          "metadata": {},
          "output_type": "execute_result"
        }
      ],
      "source": [
        "# Create model output directory\n",
        "from pathlib import Path\n",
        "\n",
        "# Create models dir\n",
        "models_dir = Path(\"models\")\n",
        "models_dir.mkdir(exist_ok=True)\n",
        "\n",
        "# Create model save name\n",
        "model_save_name = \"food_not_food_distilbert-base-uncased_text_classification_model\"\n",
        "\n",
        "# Create model save path\n",
        "model_save_dir = Path(models_dir, model_save_name)\n",
        "\n",
        "model_save_dir"
      ]
    },
    {
      "cell_type": "markdown",
      "metadata": {
        "id": "9ZD9WwtP63JV"
      },
      "source": [
        "### Setting up hyperparameters with TrainingArguments\n",
        "\n",
        "Workflow for training:\n",
        "1. ✅ Create and preprocess data\n",
        "2. ✅ Define the model we'd like to use for our problem (in our case it will be the `distilbert/distilbert-base-uncased` model found here:   https://huggingface.co/distilbert/distilbert-base-uncased)\n",
        "3. Define training arguments for training our model using `transformers.TrainingArguments`\n",
        "\n",
        "   - These are also known as \"hyperparameters\" = settings on your model that you can adjust\n",
        "   - Parameters = weightes/patterns in the model that get updated automatically\n",
        "\n",
        "4. Pass `TrainingArguments` to an instance of `transformers.Trainer`\n",
        "5. Train the model by calling `Trainer.train()`\n",
        "6. Save the model (to our local machine or to the HuggingFace Hub)\n",
        "7. Evaluate the trained model by making and inspecting predictions on the test data (and our own custom data)\n",
        "8. Turn the model into a shareable demo"
      ]
    },
    {
      "cell_type": "code",
      "execution_count": null,
      "metadata": {
        "colab": {
          "base_uri": "https://localhost:8080/"
        },
        "id": "iEJ1qpg66sgt",
        "outputId": "1a58a812-6ee1-4e52-f2b0-34292f97dcd2"
      },
      "outputs": [
        {
          "name": "stdout",
          "output_type": "stream",
          "text": [
            "[INFO] Saving model checkpoints to: models/food_not_food_distilbert-base-uncased_text_classification_model\n"
          ]
        }
      ],
      "source": [
        "from transformers import TrainingArguments\n",
        "\n",
        "print(f\"[INFO] Saving model checkpoints to: {model_save_dir}\")\n",
        "\n",
        "BATCH_SIZE = 32\n",
        "\n",
        "# Create training arguments\n",
        "training_args = TrainingArguments(\n",
        "    output_dir=model_save_dir,\n",
        "    learning_rate=0.0001,\n",
        "    per_device_train_batch_size=BATCH_SIZE,\n",
        "    per_device_eval_batch_size=BATCH_SIZE,\n",
        "    num_train_epochs=10,\n",
        "    eval_strategy=\"epoch\",\n",
        "    save_strategy=\"epoch\",\n",
        "    save_total_limit=3,\n",
        "    use_cpu=False,\n",
        "    seed=42,\n",
        "    load_best_model_at_end=True,\n",
        "    logging_strategy=\"epoch\",\n",
        "    report_to=\"none\",\n",
        "    hub_private_repo=False,\n",
        ")"
      ]
    },
    {
      "cell_type": "code",
      "execution_count": null,
      "metadata": {
        "colab": {
          "base_uri": "https://localhost:8080/"
        },
        "collapsed": true,
        "id": "sx_2J1oY_bh7",
        "outputId": "296c1df2-81a2-4e99-9849-c7202574443e"
      },
      "outputs": [
        {
          "data": {
            "text/plain": [
              "TrainingArguments(\n",
              "_n_gpu=1,\n",
              "accelerator_config={'split_batches': False, 'dispatch_batches': None, 'even_batches': True, 'use_seedable_sampler': True, 'non_blocking': False, 'gradient_accumulation_kwargs': None, 'use_configured_state': False},\n",
              "adafactor=False,\n",
              "adam_beta1=0.9,\n",
              "adam_beta2=0.999,\n",
              "adam_epsilon=1e-08,\n",
              "auto_find_batch_size=False,\n",
              "average_tokens_across_devices=False,\n",
              "batch_eval_metrics=False,\n",
              "bf16=False,\n",
              "bf16_full_eval=False,\n",
              "data_seed=None,\n",
              "dataloader_drop_last=False,\n",
              "dataloader_num_workers=0,\n",
              "dataloader_persistent_workers=False,\n",
              "dataloader_pin_memory=True,\n",
              "dataloader_prefetch_factor=None,\n",
              "ddp_backend=None,\n",
              "ddp_broadcast_buffers=None,\n",
              "ddp_bucket_cap_mb=None,\n",
              "ddp_find_unused_parameters=None,\n",
              "ddp_timeout=1800,\n",
              "debug=[],\n",
              "deepspeed=None,\n",
              "disable_tqdm=False,\n",
              "do_eval=True,\n",
              "do_predict=False,\n",
              "do_train=False,\n",
              "eval_accumulation_steps=None,\n",
              "eval_delay=0,\n",
              "eval_do_concat_batches=True,\n",
              "eval_on_start=False,\n",
              "eval_steps=None,\n",
              "eval_strategy=IntervalStrategy.EPOCH,\n",
              "eval_use_gather_object=False,\n",
              "fp16=False,\n",
              "fp16_backend=auto,\n",
              "fp16_full_eval=False,\n",
              "fp16_opt_level=O1,\n",
              "fsdp=[],\n",
              "fsdp_config={'min_num_params': 0, 'xla': False, 'xla_fsdp_v2': False, 'xla_fsdp_grad_ckpt': False},\n",
              "fsdp_min_num_params=0,\n",
              "fsdp_transformer_layer_cls_to_wrap=None,\n",
              "full_determinism=False,\n",
              "gradient_accumulation_steps=1,\n",
              "gradient_checkpointing=False,\n",
              "gradient_checkpointing_kwargs=None,\n",
              "greater_is_better=False,\n",
              "group_by_length=False,\n",
              "half_precision_backend=auto,\n",
              "hub_always_push=False,\n",
              "hub_model_id=None,\n",
              "hub_private_repo=False,\n",
              "hub_revision=None,\n",
              "hub_strategy=HubStrategy.EVERY_SAVE,\n",
              "hub_token=<HUB_TOKEN>,\n",
              "ignore_data_skip=False,\n",
              "include_for_metrics=[],\n",
              "include_inputs_for_metrics=False,\n",
              "include_num_input_tokens_seen=False,\n",
              "include_tokens_per_second=False,\n",
              "jit_mode_eval=False,\n",
              "label_names=None,\n",
              "label_smoothing_factor=0.0,\n",
              "learning_rate=0.0001,\n",
              "length_column_name=length,\n",
              "liger_kernel_config=None,\n",
              "load_best_model_at_end=True,\n",
              "local_rank=0,\n",
              "log_level=passive,\n",
              "log_level_replica=warning,\n",
              "log_on_each_node=True,\n",
              "logging_dir=models/food_not_food_distilbert-base-uncased_text_classification_model/runs/Sep29_19-49-59_7163b1f2f128,\n",
              "logging_first_step=False,\n",
              "logging_nan_inf_filter=True,\n",
              "logging_steps=500,\n",
              "logging_strategy=IntervalStrategy.EPOCH,\n",
              "lr_scheduler_kwargs={},\n",
              "lr_scheduler_type=SchedulerType.LINEAR,\n",
              "max_grad_norm=1.0,\n",
              "max_steps=-1,\n",
              "metric_for_best_model=loss,\n",
              "mp_parameters=,\n",
              "neftune_noise_alpha=None,\n",
              "no_cuda=False,\n",
              "num_train_epochs=10,\n",
              "optim=OptimizerNames.ADAMW_TORCH_FUSED,\n",
              "optim_args=None,\n",
              "optim_target_modules=None,\n",
              "output_dir=models/food_not_food_distilbert-base-uncased_text_classification_model,\n",
              "overwrite_output_dir=False,\n",
              "parallelism_config=None,\n",
              "past_index=-1,\n",
              "per_device_eval_batch_size=32,\n",
              "per_device_train_batch_size=32,\n",
              "prediction_loss_only=False,\n",
              "push_to_hub=False,\n",
              "push_to_hub_model_id=None,\n",
              "push_to_hub_organization=None,\n",
              "push_to_hub_token=<PUSH_TO_HUB_TOKEN>,\n",
              "ray_scope=last,\n",
              "remove_unused_columns=True,\n",
              "report_to=[],\n",
              "restore_callback_states_from_checkpoint=False,\n",
              "resume_from_checkpoint=None,\n",
              "run_name=None,\n",
              "save_on_each_node=False,\n",
              "save_only_model=False,\n",
              "save_safetensors=True,\n",
              "save_steps=500,\n",
              "save_strategy=SaveStrategy.EPOCH,\n",
              "save_total_limit=3,\n",
              "seed=42,\n",
              "skip_memory_metrics=True,\n",
              "tf32=None,\n",
              "torch_compile=False,\n",
              "torch_compile_backend=None,\n",
              "torch_compile_mode=None,\n",
              "torch_empty_cache_steps=None,\n",
              "torchdynamo=None,\n",
              "tpu_metrics_debug=False,\n",
              "tpu_num_cores=None,\n",
              "use_cpu=False,\n",
              "use_ipex=False,\n",
              "use_legacy_prediction_loop=False,\n",
              "use_liger_kernel=False,\n",
              "use_mps_device=False,\n",
              "warmup_ratio=0.0,\n",
              "warmup_steps=0,\n",
              "weight_decay=0.0,\n",
              ")"
            ]
          },
          "execution_count": 46,
          "metadata": {},
          "output_type": "execute_result"
        }
      ],
      "source": [
        "training_args"
      ]
    },
    {
      "cell_type": "markdown",
      "metadata": {
        "id": "Jftq6FnxjbJC"
      },
      "source": [
        "### Setting up an instance of Trainer\n",
        "\n",
        "Workflow for training:\n",
        "1. ✅ Create and preprocess data\n",
        "2. ✅ Define the model we'd like to use for our problem (in our case it will be the `distilbert/distilbert-base-uncased` model found here:   https://huggingface.co/distilbert/distilbert-base-uncased)\n",
        "3. ✅ Define training arguments for training our model using `transformers.TrainingArguments`\n",
        "\n",
        "   - These are also known as \"hyperparameters\" = settings on your model that you can adjust\n",
        "   - Parameters = weightes/patterns in the model that get updated automatically\n",
        "\n",
        "4. Pass `TrainingArguments` to an instance of `transformers.Trainer`\n",
        "5. Train the model by calling `Trainer.train()`\n",
        "6. Save the model (to our local machine or to the HuggingFace Hub)\n",
        "7. Evaluate the trained model by making and inspecting predictions on the test data (and our own custom data)\n",
        "8. Turn the model into a shareable demo"
      ]
    },
    {
      "cell_type": "code",
      "execution_count": null,
      "metadata": {
        "id": "7sT4gUmimnJV"
      },
      "outputs": [],
      "source": [
        "import evaluate\n",
        "import numpy as np\n",
        "from typing import Tuple\n",
        "\n",
        "accuracy_metric = evaluate.load(\"accuracy\")\n",
        "\n",
        "def compute_accuracy(predictions_and_labels: Tuple[np.array, np.array]):\n",
        "  \"\"\"\n",
        "  Computes the accuracy of a model by comparing the predictions and labels.\n",
        "  \"\"\"\n",
        "  predictions, labels = predictions_and_labels\n",
        "\n",
        "  if len(predictions.shape) >= 2:\n",
        "    predictions = np.argmax(predictions, axis=1)\n",
        "\n",
        "  return accuracy_metric.compute(predictions=predictions, references=labels)"
      ]
    },
    {
      "cell_type": "code",
      "execution_count": null,
      "metadata": {
        "colab": {
          "base_uri": "https://localhost:8080/"
        },
        "id": "mxRBeIRg_dSj",
        "outputId": "bb29c30e-f685-464b-b613-209350e66059"
      },
      "outputs": [
        {
          "name": "stderr",
          "output_type": "stream",
          "text": [
            "/tmp/ipython-input-247060917.py:4: FutureWarning: `tokenizer` is deprecated and will be removed in version 5.0.0 for `Trainer.__init__`. Use `processing_class` instead.\n",
            "  trainer = Trainer(\n"
          ]
        },
        {
          "data": {
            "text/plain": [
              "<transformers.trainer.Trainer at 0x7ad8443663f0>"
            ]
          },
          "execution_count": 48,
          "metadata": {},
          "output_type": "execute_result"
        }
      ],
      "source": [
        "from transformers import Trainer\n",
        "\n",
        "# Setup Trainer instance\n",
        "trainer = Trainer(\n",
        "    model=model,\n",
        "    args=training_args,\n",
        "    train_dataset=tokenized_dataset[\"train\"],\n",
        "    eval_dataset=tokenized_dataset[\"test\"],\n",
        "    tokenizer=tokenizer,\n",
        "    compute_metrics=compute_accuracy\n",
        ")\n",
        "\n",
        "trainer"
      ]
    },
    {
      "cell_type": "markdown",
      "metadata": {
        "id": "lTEKn-kOlMq3"
      },
      "source": [
        "### Train the model by calling `Trainer.train`\n",
        "\n",
        "Workflow for training:\n",
        "1. ✅ Create and preprocess data\n",
        "2. ✅ Define the model we'd like to use for our problem (in our case it will be the `distilbert/distilbert-base-uncased` model found here:   https://huggingface.co/distilbert/distilbert-base-uncased)\n",
        "3. ✅ Define training arguments for training our model using `transformers.TrainingArguments`\n",
        "\n",
        "   - These are also known as \"hyperparameters\" = settings on your model that you can adjust\n",
        "   - Parameters = weightes/patterns in the model that get updated automatically\n",
        "\n",
        "4. ✅ Pass `TrainingArguments` to an instance of `transformers.Trainer`\n",
        "5. Train the model by calling `Trainer.train()`\n",
        "6. Save the model (to our local machine or to the HuggingFace Hub)\n",
        "7. Evaluate the trained model by making and inspecting predictions on the test data (and our own custom data)\n",
        "8. Turn the model into a shareable demo"
      ]
    },
    {
      "cell_type": "code",
      "execution_count": null,
      "metadata": {
        "colab": {
          "base_uri": "https://localhost:8080/"
        },
        "id": "YSLAAzBcl0-E",
        "outputId": "75140e33-386b-46a0-fac6-b6585e1fd924"
      },
      "outputs": [
        {
          "data": {
            "text/plain": [
              "array([1])"
            ]
          },
          "execution_count": 49,
          "metadata": {},
          "output_type": "execute_result"
        }
      ],
      "source": [
        "input_predictions = np.array([[-1.5652031, 1.4852538 ]])\n",
        "input_references = np.array([0])\n",
        "\n",
        "# Need to get the maximum value from the model output (the index) as this is the most likely label according to the model\n",
        "if len(input_predictions.shape) >= 2:\n",
        "    input_predictions = np.argmax(input_predictions, axis=1)\n",
        "\n",
        "input_predictions"
      ]
    },
    {
      "cell_type": "code",
      "execution_count": null,
      "metadata": {
        "colab": {
          "base_uri": "https://localhost:8080/"
        },
        "id": "w1-ZmH8lmozw",
        "outputId": "2a5d8d56-67dc-46ac-a623-721de26041de"
      },
      "outputs": [
        {
          "data": {
            "text/plain": [
              "{'accuracy': 0.0}"
            ]
          },
          "execution_count": 50,
          "metadata": {},
          "output_type": "execute_result"
        }
      ],
      "source": [
        "compute_accuracy(predictions_and_labels=(input_predictions, input_references))"
      ]
    },
    {
      "cell_type": "code",
      "execution_count": null,
      "metadata": {
        "colab": {
          "base_uri": "https://localhost:8080/",
          "height": 389
        },
        "id": "PNy9svAalLWF",
        "outputId": "f9c72abd-858b-4e7b-fa50-f0190fd4ae10"
      },
      "outputs": [
        {
          "data": {
            "text/html": [
              "\n",
              "    <div>\n",
              "      \n",
              "      <progress value='70' max='70' style='width:300px; height:20px; vertical-align: middle;'></progress>\n",
              "      [70/70 02:26, Epoch 10/10]\n",
              "    </div>\n",
              "    <table border=\"1\" class=\"dataframe\">\n",
              "  <thead>\n",
              " <tr style=\"text-align: left;\">\n",
              "      <th>Epoch</th>\n",
              "      <th>Training Loss</th>\n",
              "      <th>Validation Loss</th>\n",
              "      <th>Accuracy</th>\n",
              "    </tr>\n",
              "  </thead>\n",
              "  <tbody>\n",
              "    <tr>\n",
              "      <td>1</td>\n",
              "      <td>0.383300</td>\n",
              "      <td>0.052889</td>\n",
              "      <td>1.000000</td>\n",
              "    </tr>\n",
              "    <tr>\n",
              "      <td>2</td>\n",
              "      <td>0.022700</td>\n",
              "      <td>0.005671</td>\n",
              "      <td>1.000000</td>\n",
              "    </tr>\n",
              "    <tr>\n",
              "      <td>3</td>\n",
              "      <td>0.003800</td>\n",
              "      <td>0.001966</td>\n",
              "      <td>1.000000</td>\n",
              "    </tr>\n",
              "    <tr>\n",
              "      <td>4</td>\n",
              "      <td>0.001600</td>\n",
              "      <td>0.001104</td>\n",
              "      <td>1.000000</td>\n",
              "    </tr>\n",
              "    <tr>\n",
              "      <td>5</td>\n",
              "      <td>0.001000</td>\n",
              "      <td>0.000771</td>\n",
              "      <td>1.000000</td>\n",
              "    </tr>\n",
              "    <tr>\n",
              "      <td>6</td>\n",
              "      <td>0.000800</td>\n",
              "      <td>0.000623</td>\n",
              "      <td>1.000000</td>\n",
              "    </tr>\n",
              "    <tr>\n",
              "      <td>7</td>\n",
              "      <td>0.000600</td>\n",
              "      <td>0.000545</td>\n",
              "      <td>1.000000</td>\n",
              "    </tr>\n",
              "    <tr>\n",
              "      <td>8</td>\n",
              "      <td>0.000600</td>\n",
              "      <td>0.000505</td>\n",
              "      <td>1.000000</td>\n",
              "    </tr>\n",
              "    <tr>\n",
              "      <td>9</td>\n",
              "      <td>0.000500</td>\n",
              "      <td>0.000484</td>\n",
              "      <td>1.000000</td>\n",
              "    </tr>\n",
              "    <tr>\n",
              "      <td>10</td>\n",
              "      <td>0.000500</td>\n",
              "      <td>0.000477</td>\n",
              "      <td>1.000000</td>\n",
              "    </tr>\n",
              "  </tbody>\n",
              "</table><p>"
            ],
            "text/plain": [
              "<IPython.core.display.HTML object>"
            ]
          },
          "metadata": {},
          "output_type": "display_data"
        }
      ],
      "source": [
        "results = trainer.train()"
      ]
    },
    {
      "cell_type": "code",
      "execution_count": null,
      "metadata": {
        "colab": {
          "base_uri": "https://localhost:8080/"
        },
        "id": "25DzkbEmplmK",
        "outputId": "4111211f-224b-48ef-8927-1ab11e696aed"
      },
      "outputs": [
        {
          "name": "stdout",
          "output_type": "stream",
          "text": [
            "train_runtime : 148.0771\n",
            "train_samples_per_second : 13.506\n",
            "train_steps_per_second : 0.473\n",
            "total_flos : 18110777160000.0\n",
            "train_loss : 0.04154794096747147\n",
            "epoch : 10.0\n"
          ]
        }
      ],
      "source": [
        "# Inspect training metrics\n",
        "for key, value in results.metrics.items():\n",
        "  print(f\"{key} : {value}\")"
      ]
    },
    {
      "cell_type": "markdown",
      "metadata": {
        "id": "ZYMyeh9op7US"
      },
      "source": [
        "### Save the model for later use\n",
        "\n"
      ]
    },
    {
      "cell_type": "code",
      "execution_count": null,
      "metadata": {
        "colab": {
          "base_uri": "https://localhost:8080/"
        },
        "id": "IciQih0bqDK4",
        "outputId": "3dab7462-eae2-4c61-8c92-d4031389f6e3"
      },
      "outputs": [
        {
          "name": "stdout",
          "output_type": "stream",
          "text": [
            "Saving model to models/food_not_food_distilbert-base-uncased_text_classification_model\n"
          ]
        }
      ],
      "source": [
        "# Save model\n",
        "print(f\"Saving model to {model_save_dir}\")\n",
        "trainer.save_model(output_dir=model_save_dir)"
      ]
    },
    {
      "cell_type": "markdown",
      "metadata": {
        "id": "AioHw6rEqaW9"
      },
      "source": [
        "### Inspect the model training metrics"
      ]
    },
    {
      "cell_type": "code",
      "execution_count": null,
      "metadata": {
        "colab": {
          "base_uri": "https://localhost:8080/"
        },
        "id": "5hopNmTRrn3B",
        "outputId": "3b80ded1-9547-469a-942d-4498263fd1e6"
      },
      "outputs": [
        {
          "data": {
            "text/plain": [
              "[{'loss': 0.3833,\n",
              "  'grad_norm': 1.1399788856506348,\n",
              "  'learning_rate': 9.142857142857143e-05,\n",
              "  'epoch': 1.0,\n",
              "  'step': 7},\n",
              " {'eval_loss': 0.052889384329319,\n",
              "  'eval_accuracy': 1.0,\n",
              "  'eval_runtime': 0.0588,\n",
              "  'eval_samples_per_second': 849.682,\n",
              "  'eval_steps_per_second': 33.987,\n",
              "  'epoch': 1.0,\n",
              "  'step': 7},\n",
              " {'loss': 0.0227,\n",
              "  'grad_norm': 0.1430487185716629,\n",
              "  'learning_rate': 8.142857142857143e-05,\n",
              "  'epoch': 2.0,\n",
              "  'step': 14}]"
            ]
          },
          "execution_count": 54,
          "metadata": {},
          "output_type": "execute_result"
        }
      ],
      "source": [
        "# Get training history\n",
        "trainer_history_all = trainer.state.log_history\n",
        "trainer_history_metrics = trainer_history_all[:-1]\n",
        "trainer_history_training_time = trainer_history_all[-1]\n",
        "\n",
        "# View the first 3\n",
        "trainer_history_metrics[:3]"
      ]
    },
    {
      "cell_type": "code",
      "execution_count": null,
      "metadata": {
        "colab": {
          "base_uri": "https://localhost:8080/"
        },
        "id": "AefwKbWCr9Oi",
        "outputId": "1c7fd3c4-ed16-4f57-a1a5-74b66d6d94a4"
      },
      "outputs": [
        {
          "name": "stdout",
          "output_type": "stream",
          "text": [
            "First two in training set:\n",
            "[{'epoch': 1.0,\n",
            "  'grad_norm': 1.1399788856506348,\n",
            "  'learning_rate': 9.142857142857143e-05,\n",
            "  'loss': 0.3833,\n",
            "  'step': 7},\n",
            " {'epoch': 2.0,\n",
            "  'grad_norm': 0.1430487185716629,\n",
            "  'learning_rate': 8.142857142857143e-05,\n",
            "  'loss': 0.0227,\n",
            "  'step': 14}]\n",
            "\n",
            "First two in eval epochs:\n",
            "[{'epoch': 1.0,\n",
            "  'eval_accuracy': 1.0,\n",
            "  'eval_loss': 0.052889384329319,\n",
            "  'eval_runtime': 0.0588,\n",
            "  'eval_samples_per_second': 849.682,\n",
            "  'eval_steps_per_second': 33.987,\n",
            "  'step': 7},\n",
            " {'epoch': 2.0,\n",
            "  'eval_accuracy': 1.0,\n",
            "  'eval_loss': 0.005671250633895397,\n",
            "  'eval_runtime': 0.1088,\n",
            "  'eval_samples_per_second': 459.721,\n",
            "  'eval_steps_per_second': 18.389,\n",
            "  'step': 14}]\n"
          ]
        }
      ],
      "source": [
        "import pprint\n",
        "\n",
        "# Extract eval and training metrics\n",
        "trainer_history_training_set = []\n",
        "trainer_history_eval_set = []\n",
        "\n",
        "# Loop through our metrics\n",
        "for item in trainer_history_metrics:\n",
        "  item_keys = list(item.keys())\n",
        "  if any(\"eval\" in item for item in item_keys):\n",
        "    trainer_history_eval_set.append(item)\n",
        "  else:\n",
        "    trainer_history_training_set.append(item)\n",
        "\n",
        "# View the first from each\n",
        "print(f\"First two in training set:\")\n",
        "pprint.pprint(trainer_history_training_set[:2])\n",
        "\n",
        "print(f\"\\nFirst two in eval epochs:\")\n",
        "pprint.pprint(trainer_history_eval_set[:2])"
      ]
    },
    {
      "cell_type": "markdown",
      "metadata": {
        "id": "MH7fs3TBuRjd"
      },
      "source": [
        "### Taking a look at the loss curves\n",
        "\n",
        "Loss curves are a good visualization of your model's performance over time, and ideally will trend downwards."
      ]
    },
    {
      "cell_type": "code",
      "execution_count": null,
      "metadata": {
        "colab": {
          "base_uri": "https://localhost:8080/",
          "height": 206
        },
        "id": "VgXYZe37s04y",
        "outputId": "18b97d73-e857-4cd9-8abd-46300f5a6233"
      },
      "outputs": [
        {
          "data": {
            "application/vnd.google.colaboratory.intrinsic+json": {
              "summary": "{\n  \"name\": \"trainer_history_train_df\",\n  \"rows\": 10,\n  \"fields\": [\n    {\n      \"column\": \"loss\",\n      \"properties\": {\n        \"dtype\": \"number\",\n        \"std\": 0.12027668287928645,\n        \"min\": 0.0005,\n        \"max\": 0.3833,\n        \"num_unique_values\": 8,\n        \"samples\": [\n          0.0227,\n          0.0008,\n          0.3833\n        ],\n        \"semantic_type\": \"\",\n        \"description\": \"\"\n      }\n    },\n    {\n      \"column\": \"grad_norm\",\n      \"properties\": {\n        \"dtype\": \"number\",\n        \"std\": 0.35335320378670626,\n        \"min\": 0.007425125688314438,\n        \"max\": 1.1399788856506348,\n        \"num_unique_values\": 10,\n        \"samples\": [\n          0.007425125688314438,\n          0.1430487185716629,\n          0.018296420574188232\n        ],\n        \"semantic_type\": \"\",\n        \"description\": \"\"\n      }\n    },\n    {\n      \"column\": \"learning_rate\",\n      \"properties\": {\n        \"dtype\": \"number\",\n        \"std\": 3.0276503540974917e-05,\n        \"min\": 1.4285714285714286e-06,\n        \"max\": 9.142857142857143e-05,\n        \"num_unique_values\": 10,\n        \"samples\": [\n          1.1428571428571429e-05,\n          8.142857142857143e-05,\n          4.1428571428571437e-05\n        ],\n        \"semantic_type\": \"\",\n        \"description\": \"\"\n      }\n    },\n    {\n      \"column\": \"epoch\",\n      \"properties\": {\n        \"dtype\": \"number\",\n        \"std\": 3.0276503540974917,\n        \"min\": 1.0,\n        \"max\": 10.0,\n        \"num_unique_values\": 10,\n        \"samples\": [\n          9.0,\n          2.0,\n          6.0\n        ],\n        \"semantic_type\": \"\",\n        \"description\": \"\"\n      }\n    },\n    {\n      \"column\": \"step\",\n      \"properties\": {\n        \"dtype\": \"number\",\n        \"std\": 21,\n        \"min\": 7,\n        \"max\": 70,\n        \"num_unique_values\": 10,\n        \"samples\": [\n          63,\n          14,\n          42\n        ],\n        \"semantic_type\": \"\",\n        \"description\": \"\"\n      }\n    }\n  ]\n}",
              "type": "dataframe",
              "variable_name": "trainer_history_train_df"
            },
            "text/html": [
              "\n",
              "  <div id=\"df-7aac2b02-65f8-4859-b69f-394320888652\" class=\"colab-df-container\">\n",
              "    <div>\n",
              "<style scoped>\n",
              "    .dataframe tbody tr th:only-of-type {\n",
              "        vertical-align: middle;\n",
              "    }\n",
              "\n",
              "    .dataframe tbody tr th {\n",
              "        vertical-align: top;\n",
              "    }\n",
              "\n",
              "    .dataframe thead th {\n",
              "        text-align: right;\n",
              "    }\n",
              "</style>\n",
              "<table border=\"1\" class=\"dataframe\">\n",
              "  <thead>\n",
              "    <tr style=\"text-align: right;\">\n",
              "      <th></th>\n",
              "      <th>loss</th>\n",
              "      <th>grad_norm</th>\n",
              "      <th>learning_rate</th>\n",
              "      <th>epoch</th>\n",
              "      <th>step</th>\n",
              "    </tr>\n",
              "  </thead>\n",
              "  <tbody>\n",
              "    <tr>\n",
              "      <th>0</th>\n",
              "      <td>0.3833</td>\n",
              "      <td>1.139979</td>\n",
              "      <td>0.000091</td>\n",
              "      <td>1.0</td>\n",
              "      <td>7</td>\n",
              "    </tr>\n",
              "    <tr>\n",
              "      <th>1</th>\n",
              "      <td>0.0227</td>\n",
              "      <td>0.143049</td>\n",
              "      <td>0.000081</td>\n",
              "      <td>2.0</td>\n",
              "      <td>14</td>\n",
              "    </tr>\n",
              "    <tr>\n",
              "      <th>2</th>\n",
              "      <td>0.0038</td>\n",
              "      <td>0.032699</td>\n",
              "      <td>0.000071</td>\n",
              "      <td>3.0</td>\n",
              "      <td>21</td>\n",
              "    </tr>\n",
              "    <tr>\n",
              "      <th>3</th>\n",
              "      <td>0.0016</td>\n",
              "      <td>0.025206</td>\n",
              "      <td>0.000061</td>\n",
              "      <td>4.0</td>\n",
              "      <td>28</td>\n",
              "    </tr>\n",
              "    <tr>\n",
              "      <th>4</th>\n",
              "      <td>0.0010</td>\n",
              "      <td>0.010647</td>\n",
              "      <td>0.000051</td>\n",
              "      <td>5.0</td>\n",
              "      <td>35</td>\n",
              "    </tr>\n",
              "  </tbody>\n",
              "</table>\n",
              "</div>\n",
              "    <div class=\"colab-df-buttons\">\n",
              "\n",
              "  <div class=\"colab-df-container\">\n",
              "    <button class=\"colab-df-convert\" onclick=\"convertToInteractive('df-7aac2b02-65f8-4859-b69f-394320888652')\"\n",
              "            title=\"Convert this dataframe to an interactive table.\"\n",
              "            style=\"display:none;\">\n",
              "\n",
              "  <svg xmlns=\"http://www.w3.org/2000/svg\" height=\"24px\" viewBox=\"0 -960 960 960\">\n",
              "    <path d=\"M120-120v-720h720v720H120Zm60-500h600v-160H180v160Zm220 220h160v-160H400v160Zm0 220h160v-160H400v160ZM180-400h160v-160H180v160Zm440 0h160v-160H620v160ZM180-180h160v-160H180v160Zm440 0h160v-160H620v160Z\"/>\n",
              "  </svg>\n",
              "    </button>\n",
              "\n",
              "  <style>\n",
              "    .colab-df-container {\n",
              "      display:flex;\n",
              "      gap: 12px;\n",
              "    }\n",
              "\n",
              "    .colab-df-convert {\n",
              "      background-color: #E8F0FE;\n",
              "      border: none;\n",
              "      border-radius: 50%;\n",
              "      cursor: pointer;\n",
              "      display: none;\n",
              "      fill: #1967D2;\n",
              "      height: 32px;\n",
              "      padding: 0 0 0 0;\n",
              "      width: 32px;\n",
              "    }\n",
              "\n",
              "    .colab-df-convert:hover {\n",
              "      background-color: #E2EBFA;\n",
              "      box-shadow: 0px 1px 2px rgba(60, 64, 67, 0.3), 0px 1px 3px 1px rgba(60, 64, 67, 0.15);\n",
              "      fill: #174EA6;\n",
              "    }\n",
              "\n",
              "    .colab-df-buttons div {\n",
              "      margin-bottom: 4px;\n",
              "    }\n",
              "\n",
              "    [theme=dark] .colab-df-convert {\n",
              "      background-color: #3B4455;\n",
              "      fill: #D2E3FC;\n",
              "    }\n",
              "\n",
              "    [theme=dark] .colab-df-convert:hover {\n",
              "      background-color: #434B5C;\n",
              "      box-shadow: 0px 1px 3px 1px rgba(0, 0, 0, 0.15);\n",
              "      filter: drop-shadow(0px 1px 2px rgba(0, 0, 0, 0.3));\n",
              "      fill: #FFFFFF;\n",
              "    }\n",
              "  </style>\n",
              "\n",
              "    <script>\n",
              "      const buttonEl =\n",
              "        document.querySelector('#df-7aac2b02-65f8-4859-b69f-394320888652 button.colab-df-convert');\n",
              "      buttonEl.style.display =\n",
              "        google.colab.kernel.accessAllowed ? 'block' : 'none';\n",
              "\n",
              "      async function convertToInteractive(key) {\n",
              "        const element = document.querySelector('#df-7aac2b02-65f8-4859-b69f-394320888652');\n",
              "        const dataTable =\n",
              "          await google.colab.kernel.invokeFunction('convertToInteractive',\n",
              "                                                    [key], {});\n",
              "        if (!dataTable) return;\n",
              "\n",
              "        const docLinkHtml = 'Like what you see? Visit the ' +\n",
              "          '<a target=\"_blank\" href=https://colab.research.google.com/notebooks/data_table.ipynb>data table notebook</a>'\n",
              "          + ' to learn more about interactive tables.';\n",
              "        element.innerHTML = '';\n",
              "        dataTable['output_type'] = 'display_data';\n",
              "        await google.colab.output.renderOutput(dataTable, element);\n",
              "        const docLink = document.createElement('div');\n",
              "        docLink.innerHTML = docLinkHtml;\n",
              "        element.appendChild(docLink);\n",
              "      }\n",
              "    </script>\n",
              "  </div>\n",
              "\n",
              "\n",
              "    <div id=\"df-41cb695f-1aba-4cf4-b5ec-cdafbfd2d51d\">\n",
              "      <button class=\"colab-df-quickchart\" onclick=\"quickchart('df-41cb695f-1aba-4cf4-b5ec-cdafbfd2d51d')\"\n",
              "                title=\"Suggest charts\"\n",
              "                style=\"display:none;\">\n",
              "\n",
              "<svg xmlns=\"http://www.w3.org/2000/svg\" height=\"24px\"viewBox=\"0 0 24 24\"\n",
              "     width=\"24px\">\n",
              "    <g>\n",
              "        <path d=\"M19 3H5c-1.1 0-2 .9-2 2v14c0 1.1.9 2 2 2h14c1.1 0 2-.9 2-2V5c0-1.1-.9-2-2-2zM9 17H7v-7h2v7zm4 0h-2V7h2v10zm4 0h-2v-4h2v4z\"/>\n",
              "    </g>\n",
              "</svg>\n",
              "      </button>\n",
              "\n",
              "<style>\n",
              "  .colab-df-quickchart {\n",
              "      --bg-color: #E8F0FE;\n",
              "      --fill-color: #1967D2;\n",
              "      --hover-bg-color: #E2EBFA;\n",
              "      --hover-fill-color: #174EA6;\n",
              "      --disabled-fill-color: #AAA;\n",
              "      --disabled-bg-color: #DDD;\n",
              "  }\n",
              "\n",
              "  [theme=dark] .colab-df-quickchart {\n",
              "      --bg-color: #3B4455;\n",
              "      --fill-color: #D2E3FC;\n",
              "      --hover-bg-color: #434B5C;\n",
              "      --hover-fill-color: #FFFFFF;\n",
              "      --disabled-bg-color: #3B4455;\n",
              "      --disabled-fill-color: #666;\n",
              "  }\n",
              "\n",
              "  .colab-df-quickchart {\n",
              "    background-color: var(--bg-color);\n",
              "    border: none;\n",
              "    border-radius: 50%;\n",
              "    cursor: pointer;\n",
              "    display: none;\n",
              "    fill: var(--fill-color);\n",
              "    height: 32px;\n",
              "    padding: 0;\n",
              "    width: 32px;\n",
              "  }\n",
              "\n",
              "  .colab-df-quickchart:hover {\n",
              "    background-color: var(--hover-bg-color);\n",
              "    box-shadow: 0 1px 2px rgba(60, 64, 67, 0.3), 0 1px 3px 1px rgba(60, 64, 67, 0.15);\n",
              "    fill: var(--button-hover-fill-color);\n",
              "  }\n",
              "\n",
              "  .colab-df-quickchart-complete:disabled,\n",
              "  .colab-df-quickchart-complete:disabled:hover {\n",
              "    background-color: var(--disabled-bg-color);\n",
              "    fill: var(--disabled-fill-color);\n",
              "    box-shadow: none;\n",
              "  }\n",
              "\n",
              "  .colab-df-spinner {\n",
              "    border: 2px solid var(--fill-color);\n",
              "    border-color: transparent;\n",
              "    border-bottom-color: var(--fill-color);\n",
              "    animation:\n",
              "      spin 1s steps(1) infinite;\n",
              "  }\n",
              "\n",
              "  @keyframes spin {\n",
              "    0% {\n",
              "      border-color: transparent;\n",
              "      border-bottom-color: var(--fill-color);\n",
              "      border-left-color: var(--fill-color);\n",
              "    }\n",
              "    20% {\n",
              "      border-color: transparent;\n",
              "      border-left-color: var(--fill-color);\n",
              "      border-top-color: var(--fill-color);\n",
              "    }\n",
              "    30% {\n",
              "      border-color: transparent;\n",
              "      border-left-color: var(--fill-color);\n",
              "      border-top-color: var(--fill-color);\n",
              "      border-right-color: var(--fill-color);\n",
              "    }\n",
              "    40% {\n",
              "      border-color: transparent;\n",
              "      border-right-color: var(--fill-color);\n",
              "      border-top-color: var(--fill-color);\n",
              "    }\n",
              "    60% {\n",
              "      border-color: transparent;\n",
              "      border-right-color: var(--fill-color);\n",
              "    }\n",
              "    80% {\n",
              "      border-color: transparent;\n",
              "      border-right-color: var(--fill-color);\n",
              "      border-bottom-color: var(--fill-color);\n",
              "    }\n",
              "    90% {\n",
              "      border-color: transparent;\n",
              "      border-bottom-color: var(--fill-color);\n",
              "    }\n",
              "  }\n",
              "</style>\n",
              "\n",
              "      <script>\n",
              "        async function quickchart(key) {\n",
              "          const quickchartButtonEl =\n",
              "            document.querySelector('#' + key + ' button');\n",
              "          quickchartButtonEl.disabled = true;  // To prevent multiple clicks.\n",
              "          quickchartButtonEl.classList.add('colab-df-spinner');\n",
              "          try {\n",
              "            const charts = await google.colab.kernel.invokeFunction(\n",
              "                'suggestCharts', [key], {});\n",
              "          } catch (error) {\n",
              "            console.error('Error during call to suggestCharts:', error);\n",
              "          }\n",
              "          quickchartButtonEl.classList.remove('colab-df-spinner');\n",
              "          quickchartButtonEl.classList.add('colab-df-quickchart-complete');\n",
              "        }\n",
              "        (() => {\n",
              "          let quickchartButtonEl =\n",
              "            document.querySelector('#df-41cb695f-1aba-4cf4-b5ec-cdafbfd2d51d button');\n",
              "          quickchartButtonEl.style.display =\n",
              "            google.colab.kernel.accessAllowed ? 'block' : 'none';\n",
              "        })();\n",
              "      </script>\n",
              "    </div>\n",
              "\n",
              "    </div>\n",
              "  </div>\n"
            ],
            "text/plain": [
              "     loss  grad_norm  learning_rate  epoch  step\n",
              "0  0.3833   1.139979       0.000091    1.0     7\n",
              "1  0.0227   0.143049       0.000081    2.0    14\n",
              "2  0.0038   0.032699       0.000071    3.0    21\n",
              "3  0.0016   0.025206       0.000061    4.0    28\n",
              "4  0.0010   0.010647       0.000051    5.0    35"
            ]
          },
          "execution_count": 56,
          "metadata": {},
          "output_type": "execute_result"
        }
      ],
      "source": [
        "# Create a pandas DataFrame for the training and evaluation metrics\n",
        "trainer_history_train_df = pd.DataFrame(trainer_history_training_set)\n",
        "trainer_history_eval_df = pd.DataFrame(trainer_history_eval_set)\n",
        "\n",
        "trainer_history_train_df.head()"
      ]
    },
    {
      "cell_type": "code",
      "execution_count": null,
      "metadata": {
        "colab": {
          "base_uri": "https://localhost:8080/",
          "height": 528
        },
        "id": "bcdFd80yvFxJ",
        "outputId": "3e8c0dfe-693e-41d8-f6a4-9a4697e8f61d"
      },
      "outputs": [
        {
          "data": {
            "image/png": "[encoded data removed]",
            "text/plain": [
              "<Figure size 1000x600 with 1 Axes>"
            ]
          },
          "metadata": {},
          "output_type": "display_data"
        }
      ],
      "source": [
        "# Plot the loss curves\n",
        "import matplotlib.pyplot as plt\n",
        "\n",
        "plt.figure(figsize=(10, 6))\n",
        "plt.plot(trainer_history_train_df[\"epoch\"], trainer_history_train_df[\"loss\"], label=\"Training loss\")\n",
        "plt.plot(trainer_history_eval_df[\"epoch\"], trainer_history_eval_df[\"eval_loss\"], label=\"Evaluation loss\")\n",
        "plt.xlabel(\"Epochs\")\n",
        "plt.ylabel(\"Loss\")\n",
        "plt.title(\"Text Classification Fine-tuning DistilBert Training and Evaluation Loss Over Time\")\n",
        "plt.legend()\n",
        "plt.show()"
      ]
    },
    {
      "cell_type": "markdown",
      "metadata": {
        "id": "BsFBktCG3lUp"
      },
      "source": [
        "### Pushing our model to the HuggingFace Hub\n",
        "\n",
        "Reasons for doing this:\n",
        "\n",
        "* We can share our model.\n",
        "* Other people can try it out.\n",
        "* We can keep a history of different model versions.\n",
        "\n",
        "To write to HuggingFace:\n",
        "- If on Google Colab: setup \"token\" with \"read and write\" access.\n",
        "- If on local machine: setup `huggingface-cli` (https://huggingface.co/docs/huggingface_hub/en/guides/cli)\n",
        "\n",
        "To save to the HuggingFace Hub we are going to use the `Trainer.push_to_hub` method."
      ]
    },
    {
      "cell_type": "code",
      "execution_count": null,
      "metadata": {
        "colab": {
          "base_uri": "https://localhost:8080/",
          "height": 415,
          "referenced_widgets": [
            "0d8d8013571145358a41caaaf4b17d68",
            "04eefb7b932d4f38a7bd955a5628962a",
            "94dce54686854e75bb68eb2d6522830a",
            "b5df78e5d30543bd9b72c047298cbdad",
            "25f0851948b3408880a61dcb7d94a714",
            "f832aabbe69c4eed9360ded69c3af60e",
            "bbac83085795443e9668f7c8dcf2e842",
            "a6bf2a8584e144aba19674b54a5d967e",
            "8ffe922dc7564f9f939efc214a2c1195",
            "5f5863912b074ad5bc05d7e706e5e0d5",
            "3862d4ee7c854553a8ac127e378ab26e",
            "97c2c33934ec4aadbef3b539bdc6672c",
            "8be9e91feabb4194893a20b521c01de5",
            "118a03f2c3434e04b5ca7268395fe535",
            "c39cd56a702442bab53982e4fffec70c",
            "9efb9fefea26411897ec7ecc9f7c9337",
            "7c287f2da59948358b996c9bc97d9be2"
          ]
        },
        "collapsed": true,
        "id": "jOL-VwDb78Sm",
        "outputId": "73e7aa2a-6ff3-497b-95e9-fc60ca65aae4"
      },
      "outputs": [
        {
          "data": {
            "application/vnd.jupyter.widget-view+json": {
              "model_id": "0d8d8013571145358a41caaaf4b17d68",
              "version_major": 2,
              "version_minor": 0
            },
            "text/plain": [
              "VBox(children=(HTML(value='<center> <img\\nsrc=https://huggingface.co/front/assets/huggingface_logo-noborder.sv…"
            ]
          },
          "metadata": {},
          "output_type": "display_data"
        }
      ],
      "source": [
        "# Log in to Hugging Face from Notebook\n",
        "from huggingface_hub import notebook_login\n",
        "notebook_login()"
      ]
    },
    {
      "cell_type": "code",
      "execution_count": null,
      "metadata": {
        "colab": {
          "base_uri": "https://localhost:8080/",
          "height": 182,
          "referenced_widgets": [
            "9161a2dabb014c74bc769893100f138a",
            "5664492fd1bf4c088f0adeba26726276",
            "2ca3720ad73c4c3dbc1f7d336ae1e3cd",
            "dff580c17ead4ae88f17266723e8a5b5",
            "8f3d19516e5e4923805bd362c199b8f8",
            "917581da46694a4b81a611e2144745df",
            "db9a20efeece40da82b62538ab3c5543",
            "5eff0067cb36410089ffe29d279380c4",
            "fe95c0e70dfe42a9b5660154c6bfd4bb",
            "b937e7861257438ea295cef96bd67fa7",
            "2be53c0907e54485a5ed45acbf2fb334",
            "1066ca9543c74c09baafa80f99511915",
            "5a385a0332404895aea806f9f5aed332",
            "dbaaace849b241dca8a7f4c24d4414fa",
            "55ab2a17682c4b589e8421d91e26386c",
            "5f1e19b8122a4b0e89df661d8e982243",
            "f84d4787d52847f6ae4469e74afb93f1",
            "eed147ece6554aa6962a4c7caf5d50c1",
            "ccf06da89d2e4240b11bb126038b23fa",
            "680e0a91ae164b5e8e1d4b3b2b42920f",
            "35d2a37d7d9340e0bb11aac3e50d5df5",
            "51a8573125d74390ac444a29c36db0b5",
            "bb0d64d6c31243c2a722aca4359dae1f",
            "c2a9f4c628014b9895d4e027c6172df8",
            "3a9e7795662c4931a85651e399eef491",
            "234c6c01153b449684e11e9810cc2630",
            "7692681c901d4d1f96d1fe8adefe88cf",
            "8ada7d6668f84aaab622e57dcfd85b1d",
            "2c696a5c8a434600b78227e18d73fad7",
            "bd6e8984e7d0408885a7e8fe257843cf",
            "df99cff9a2794c91bcdcde5864b2a908",
            "87a4ab8411084af2ad8cccbbaa173465",
            "59a65ab65ae740e2b14331306350838a",
            "f9a982da20cb494685fdb4aaf9993aa6",
            "57bc7f06f5d24afb994f4b3cd4d6a492",
            "774852118c9b47e0be031a27a4841b95",
            "e314a740f30a4aa9b0ad3f3c71fc2041",
            "fef7344d18d6428eb0c87ba892a6dec9",
            "40d04b319d084b7b8dc72138ef0ec8fc",
            "41af6137f5cd4858b9032fdbcb03e516",
            "a889f9304d824e4bb754a20740a62119",
            "3ab4103d6cad433dafac7d13f855d456",
            "013797800c4e404083a1c07447fe2e8a",
            "89e48d3eff7241e7b159a690cd9944a8"
          ]
        },
        "id": "znsAcd4HwIQ5",
        "outputId": "7f7551a4-5ba3-4b82-c33a-8df73d1dfa85"
      },
      "outputs": [
        {
          "data": {
            "application/vnd.jupyter.widget-view+json": {
              "model_id": "9161a2dabb014c74bc769893100f138a",
              "version_major": 2,
              "version_minor": 0
            },
            "text/plain": [
              "Processing Files (0 / 0)      : |          |  0.00B /  0.00B            "
            ]
          },
          "metadata": {},
          "output_type": "display_data"
        },
        {
          "data": {
            "application/vnd.jupyter.widget-view+json": {
              "model_id": "1066ca9543c74c09baafa80f99511915",
              "version_major": 2,
              "version_minor": 0
            },
            "text/plain": [
              "New Data Upload               : |          |  0.00B /  0.00B            "
            ]
          },
          "metadata": {},
          "output_type": "display_data"
        },
        {
          "data": {
            "application/vnd.jupyter.widget-view+json": {
              "model_id": "bb0d64d6c31243c2a722aca4359dae1f",
              "version_major": 2,
              "version_minor": 0
            },
            "text/plain": [
              "  ...n_model/model.safetensors:   3%|2         | 7.23MB /  268MB            "
            ]
          },
          "metadata": {},
          "output_type": "display_data"
        },
        {
          "data": {
            "application/vnd.jupyter.widget-view+json": {
              "model_id": "f9a982da20cb494685fdb4aaf9993aa6",
              "version_major": 2,
              "version_minor": 0
            },
            "text/plain": [
              "  ...n_model/training_args.bin:   2%|1         |  98.0B / 5.84kB            "
            ]
          },
          "metadata": {},
          "output_type": "display_data"
        },
        {
          "name": "stdout",
          "output_type": "stream",
          "text": [
            "Model successfully uploaded to the HuggingFace Hub with URL: https://huggingface.co/LizzChall/food_not_food_distilbert-base-uncased_text_classification_model/tree/main/\n"
          ]
        }
      ],
      "source": [
        "# Save our model to the HuggingFace Hub\n",
        "model_upload_url = trainer.push_to_hub(\n",
        "    commit_message=\"Uploading food not food text classifier model\"\n",
        ")\n",
        "\n",
        "print(f\"Model successfully uploaded to the HuggingFace Hub with URL: {model_upload_url}\")"
      ]
    },
    {
      "cell_type": "markdown",
      "metadata": {
        "id": "KqC2Bp6c9UEd"
      },
      "source": [
        "### Making and evaluating predictions on the test data.\n",
        "\n",
        "Workflow for training:\n",
        "1. ✅ Create and preprocess data\n",
        "2. ✅ Define the model we'd like to use for our problem (in our case it will be the `distilbert/distilbert-base-uncased` model found here:   https://huggingface.co/distilbert/distilbert-base-uncased)\n",
        "3. ✅ Define training arguments for training our model using `transformers.TrainingArguments`\n",
        "\n",
        "   - These are also known as \"hyperparameters\" = settings on your model that you can adjust\n",
        "   - Parameters = weightes/patterns in the model that get updated automatically\n",
        "\n",
        "4. ✅ Pass `TrainingArguments` to an instance of `transformers.Trainer`\n",
        "5. ✅ Train the model by calling `Trainer.train()`\n",
        "6. ✅ Save the model (to our local machine or to the HuggingFace Hub)\n",
        "7. Evaluate the trained model by making and inspecting predictions on the test data (and our own custom data)\n",
        "8. Turn the model into a shareable demo\n",
        "\n",
        "\n"
      ]
    },
    {
      "cell_type": "code",
      "execution_count": null,
      "metadata": {
        "colab": {
          "base_uri": "https://localhost:8080/",
          "height": 121
        },
        "id": "UxeXqUMd54ox",
        "outputId": "ef3396c1-ab98-48ce-e12c-e1ab58ee895c"
      },
      "outputs": [
        {
          "data": {
            "text/html": [],
            "text/plain": [
              "<IPython.core.display.HTML object>"
            ]
          },
          "metadata": {},
          "output_type": "display_data"
        },
        {
          "name": "stdout",
          "output_type": "stream",
          "text": [
            "[INFO] Prediction metrics on the test data:\n"
          ]
        },
        {
          "data": {
            "text/plain": [
              "{'test_loss': 0.00047738946159370244,\n",
              " 'test_accuracy': 1.0,\n",
              " 'test_runtime': 0.0894,\n",
              " 'test_samples_per_second': 559.434,\n",
              " 'test_steps_per_second': 22.377}"
            ]
          },
          "execution_count": 60,
          "metadata": {},
          "output_type": "execute_result"
        }
      ],
      "source": [
        "# Perform predictions on the test data\n",
        "predictions_all = trainer.predict(tokenized_dataset[\"test\"])\n",
        "prediction_values = predictions_all.predictions\n",
        "prediction_metrics = predictions_all.metrics\n",
        "\n",
        "print(f\"[INFO] Prediction metrics on the test data:\")\n",
        "prediction_metrics"
      ]
    },
    {
      "cell_type": "code",
      "execution_count": null,
      "metadata": {
        "colab": {
          "base_uri": "https://localhost:8080/"
        },
        "id": "SMajKSVE-QeZ",
        "outputId": "69396bbc-995a-4fdf-a0e6-a6a192b638f4"
      },
      "outputs": [
        {
          "data": {
            "text/plain": [
              "PredictionOutput(predictions=array([[-3.9312186,  3.5243716],\n",
              "       [ 3.857525 , -4.360184 ],\n",
              "       [-3.9305043,  3.522897 ],\n",
              "       [ 3.866337 , -4.350646 ],\n",
              "       [ 3.8612854, -4.3551893],\n",
              "       [-3.9250798,  3.5315223],\n",
              "       [ 3.8700945, -4.359623 ],\n",
              "       [ 3.8661103, -4.3451133],\n",
              "       [-3.9238255,  3.5281646],\n",
              "       [-3.9232097,  3.5233471],\n",
              "       [-3.9222996,  3.5278628],\n",
              "       [-3.9158976,  3.5011842],\n",
              "       [ 3.8592567, -4.347466 ],\n",
              "       [-3.92966  ,  3.5222256],\n",
              "       [-3.9276881,  3.516123 ],\n",
              "       [ 3.8427596, -4.3381433],\n",
              "       [-3.9275725,  3.529768 ],\n",
              "       [ 3.8233323, -4.349991 ],\n",
              "       [-3.9225142,  3.5270836],\n",
              "       [-3.92717  ,  3.5282576],\n",
              "       [-3.9332926,  3.5207813],\n",
              "       [-3.9272177,  3.5307205],\n",
              "       [ 3.867729 , -4.345497 ],\n",
              "       [ 3.8503366, -4.344105 ],\n",
              "       [-3.9334605,  3.5261369],\n",
              "       [-3.9300687,  3.5245473],\n",
              "       [-3.9226527,  3.5268052],\n",
              "       [ 3.8606284, -4.343173 ],\n",
              "       [-3.9309022,  3.5277631],\n",
              "       [ 3.8617764, -4.3640356],\n",
              "       [-3.9206178,  3.5296705],\n",
              "       [-3.9241555,  3.5256164],\n",
              "       [-3.9199295,  3.528621 ],\n",
              "       [ 3.8464453, -4.3301954],\n",
              "       [-3.9339054,  3.51836  ],\n",
              "       [-3.9304578,  3.5219448],\n",
              "       [-3.9284155,  3.5262878],\n",
              "       [-3.9259236,  3.5277874],\n",
              "       [ 3.856785 , -4.3526316],\n",
              "       [ 3.8540342, -4.343424 ],\n",
              "       [-3.8662465,  3.4439275],\n",
              "       [-3.9247127,  3.5333138],\n",
              "       [-3.9254754,  3.5243297],\n",
              "       [ 3.8263953, -4.357108 ],\n",
              "       [-3.923462 ,  3.5370061],\n",
              "       [-3.9294279,  3.529005 ],\n",
              "       [-3.9317458,  3.5195851],\n",
              "       [-3.9330022,  3.5292058],\n",
              "       [ 3.8601635, -4.3589206],\n",
              "       [-3.928138 ,  3.5291247]], dtype=float32), label_ids=array([1, 0, 1, 0, 0, 1, 0, 0, 1, 1, 1, 1, 0, 1, 1, 0, 1, 0, 1, 1, 1, 1,\n",
              "       0, 0, 1, 1, 1, 0, 1, 0, 1, 1, 1, 0, 1, 1, 1, 1, 0, 0, 1, 1, 1, 0,\n",
              "       1, 1, 1, 1, 0, 1]), metrics={'test_loss': 0.00047738946159370244, 'test_accuracy': 1.0, 'test_runtime': 0.0894, 'test_samples_per_second': 559.434, 'test_steps_per_second': 22.377})"
            ]
          },
          "execution_count": 61,
          "metadata": {},
          "output_type": "execute_result"
        }
      ],
      "source": [
        "predictions_all"
      ]
    },
    {
      "cell_type": "markdown",
      "metadata": {
        "id": "xyZ_QBea-9tB"
      },
      "source": [
        "### Let's get predicted probabilities and evaluate by hand\n",
        "\n",
        "Turning the predicted logits(raw output of the model) to predictions probabilities with torch.softmax then to predicted labels for readability.\n",
        "\n"
      ]
    },
    {
      "cell_type": "code",
      "execution_count": null,
      "metadata": {
        "colab": {
          "base_uri": "https://localhost:8080/"
        },
        "id": "Ho9Tsrup-f0h",
        "outputId": "44fbf958-ded5-46d5-e3ae-435ef39a5e0a"
      },
      "outputs": [
        {
          "name": "stdout",
          "output_type": "stream",
          "text": [
            "[INFO] Test accuracy: 100.0\n"
          ]
        }
      ],
      "source": [
        "import torch\n",
        "from sklearn.metrics import accuracy_score\n",
        "\n",
        "# 1. Get prediction probabilities with torch.softmax\n",
        "pred_probs = torch.softmax(torch.tensor(prediction_values), dim=1)\n",
        "\n",
        "# 2. Get the predicted labels\n",
        "pred_labels = torch.argmax(pred_probs, dim=1)\n",
        "\n",
        "# 3. Get the true labels\n",
        "true_labels = tokenized_dataset[\"test\"] [\"label\"]\n",
        "\n",
        "# 4. Compute prediction labels to true labels and get the test accuracy\n",
        "test_accuracy = accuracy_score(y_true=true_labels,\n",
        "                               y_pred=pred_labels)\n",
        "\n",
        "print(f\"[INFO] Test accuracy: {test_accuracy*100}\")"
      ]
    },
    {
      "cell_type": "markdown",
      "metadata": {
        "id": "qFkLLUaGCXQ7"
      },
      "source": [
        "### Exploring our model's prediction probabilities.\n",
        "\n",
        "It's a very good way to evaluate a model by sorting predictions by prediction probabilities and seeing where the model went wrong."
      ]
    },
    {
      "cell_type": "code",
      "execution_count": null,
      "metadata": {
        "colab": {
          "base_uri": "https://localhost:8080/",
          "height": 206
        },
        "id": "Hao-1jsMBBRJ",
        "outputId": "b694c5bd-65c1-4d4f-bf05-be4e8e9ddbc6"
      },
      "outputs": [
        {
          "data": {
            "application/vnd.google.colaboratory.intrinsic+json": {
              "summary": "{\n  \"name\": \"test_predictions_df\",\n  \"rows\": 50,\n  \"fields\": [\n    {\n      \"column\": \"text\",\n      \"properties\": {\n        \"dtype\": \"string\",\n        \"num_unique_values\": 50,\n        \"samples\": [\n          \"Comforting lamb curry bowl, featuring tender lamb slow-cooked in a flavorful sauce with cumin and coriander, garnished with toasted cumin seeds.\",\n          \"A close-up of a woman practicing yoga in the living room while her dog mimics her poses\",\n          \"Robust beef curry in a hearty bowl, simmered with a medley of spices, tomatoes, and onions, garnished with chopped green onions.\"\n        ],\n        \"semantic_type\": \"\",\n        \"description\": \"\"\n      }\n    },\n    {\n      \"column\": \"true_label\",\n      \"properties\": {\n        \"dtype\": \"number\",\n        \"std\": 0,\n        \"min\": 0,\n        \"max\": 1,\n        \"num_unique_values\": 2,\n        \"samples\": [\n          0,\n          1\n        ],\n        \"semantic_type\": \"\",\n        \"description\": \"\"\n      }\n    },\n    {\n      \"column\": \"pred_label\",\n      \"properties\": {\n        \"dtype\": \"number\",\n        \"std\": 0,\n        \"min\": 0,\n        \"max\": 1,\n        \"num_unique_values\": 2,\n        \"samples\": [\n          0,\n          1\n        ],\n        \"semantic_type\": \"\",\n        \"description\": \"\"\n      }\n    },\n    {\n      \"column\": \"pred_prob\",\n      \"properties\": {\n        \"dtype\": \"float32\",\n        \"num_unique_values\": 45,\n        \"samples\": [\n          0.9997208714485168,\n          0.9994186162948608\n        ],\n        \"semantic_type\": \"\",\n        \"description\": \"\"\n      }\n    }\n  ]\n}",
              "type": "dataframe",
              "variable_name": "test_predictions_df"
            },
            "text/html": [
              "\n",
              "  <div id=\"df-f1b4ddbe-abda-4c00-b9d1-6bf2a27963b6\" class=\"colab-df-container\">\n",
              "    <div>\n",
              "<style scoped>\n",
              "    .dataframe tbody tr th:only-of-type {\n",
              "        vertical-align: middle;\n",
              "    }\n",
              "\n",
              "    .dataframe tbody tr th {\n",
              "        vertical-align: top;\n",
              "    }\n",
              "\n",
              "    .dataframe thead th {\n",
              "        text-align: right;\n",
              "    }\n",
              "</style>\n",
              "<table border=\"1\" class=\"dataframe\">\n",
              "  <thead>\n",
              "    <tr style=\"text-align: right;\">\n",
              "      <th></th>\n",
              "      <th>text</th>\n",
              "      <th>true_label</th>\n",
              "      <th>pred_label</th>\n",
              "      <th>pred_prob</th>\n",
              "    </tr>\n",
              "  </thead>\n",
              "  <tbody>\n",
              "    <tr>\n",
              "      <th>0</th>\n",
              "      <td>A slice of pepperoni pizza with a layer of mel...</td>\n",
              "      <td>1</td>\n",
              "      <td>1</td>\n",
              "      <td>0.999422</td>\n",
              "    </tr>\n",
              "    <tr>\n",
              "      <th>1</th>\n",
              "      <td>Red brick fireplace with a mantel serving as a...</td>\n",
              "      <td>0</td>\n",
              "      <td>0</td>\n",
              "      <td>0.999730</td>\n",
              "    </tr>\n",
              "    <tr>\n",
              "      <th>2</th>\n",
              "      <td>A bowl of sliced bell peppers with a sprinkle ...</td>\n",
              "      <td>1</td>\n",
              "      <td>1</td>\n",
              "      <td>0.999421</td>\n",
              "    </tr>\n",
              "    <tr>\n",
              "      <th>3</th>\n",
              "      <td>Set of mugs hanging on a hook</td>\n",
              "      <td>0</td>\n",
              "      <td>0</td>\n",
              "      <td>0.999730</td>\n",
              "    </tr>\n",
              "    <tr>\n",
              "      <th>4</th>\n",
              "      <td>Standing floor lamp providing light next to an...</td>\n",
              "      <td>0</td>\n",
              "      <td>0</td>\n",
              "      <td>0.999730</td>\n",
              "    </tr>\n",
              "  </tbody>\n",
              "</table>\n",
              "</div>\n",
              "    <div class=\"colab-df-buttons\">\n",
              "\n",
              "  <div class=\"colab-df-container\">\n",
              "    <button class=\"colab-df-convert\" onclick=\"convertToInteractive('df-f1b4ddbe-abda-4c00-b9d1-6bf2a27963b6')\"\n",
              "            title=\"Convert this dataframe to an interactive table.\"\n",
              "            style=\"display:none;\">\n",
              "\n",
              "  <svg xmlns=\"http://www.w3.org/2000/svg\" height=\"24px\" viewBox=\"0 -960 960 960\">\n",
              "    <path d=\"M120-120v-720h720v720H120Zm60-500h600v-160H180v160Zm220 220h160v-160H400v160Zm0 220h160v-160H400v160ZM180-400h160v-160H180v160Zm440 0h160v-160H620v160ZM180-180h160v-160H180v160Zm440 0h160v-160H620v160Z\"/>\n",
              "  </svg>\n",
              "    </button>\n",
              "\n",
              "  <style>\n",
              "    .colab-df-container {\n",
              "      display:flex;\n",
              "      gap: 12px;\n",
              "    }\n",
              "\n",
              "    .colab-df-convert {\n",
              "      background-color: #E8F0FE;\n",
              "      border: none;\n",
              "      border-radius: 50%;\n",
              "      cursor: pointer;\n",
              "      display: none;\n",
              "      fill: #1967D2;\n",
              "      height: 32px;\n",
              "      padding: 0 0 0 0;\n",
              "      width: 32px;\n",
              "    }\n",
              "\n",
              "    .colab-df-convert:hover {\n",
              "      background-color: #E2EBFA;\n",
              "      box-shadow: 0px 1px 2px rgba(60, 64, 67, 0.3), 0px 1px 3px 1px rgba(60, 64, 67, 0.15);\n",
              "      fill: #174EA6;\n",
              "    }\n",
              "\n",
              "    .colab-df-buttons div {\n",
              "      margin-bottom: 4px;\n",
              "    }\n",
              "\n",
              "    [theme=dark] .colab-df-convert {\n",
              "      background-color: #3B4455;\n",
              "      fill: #D2E3FC;\n",
              "    }\n",
              "\n",
              "    [theme=dark] .colab-df-convert:hover {\n",
              "      background-color: #434B5C;\n",
              "      box-shadow: 0px 1px 3px 1px rgba(0, 0, 0, 0.15);\n",
              "      filter: drop-shadow(0px 1px 2px rgba(0, 0, 0, 0.3));\n",
              "      fill: #FFFFFF;\n",
              "    }\n",
              "  </style>\n",
              "\n",
              "    <script>\n",
              "      const buttonEl =\n",
              "        document.querySelector('#df-f1b4ddbe-abda-4c00-b9d1-6bf2a27963b6 button.colab-df-convert');\n",
              "      buttonEl.style.display =\n",
              "        google.colab.kernel.accessAllowed ? 'block' : 'none';\n",
              "\n",
              "      async function convertToInteractive(key) {\n",
              "        const element = document.querySelector('#df-f1b4ddbe-abda-4c00-b9d1-6bf2a27963b6');\n",
              "        const dataTable =\n",
              "          await google.colab.kernel.invokeFunction('convertToInteractive',\n",
              "                                                    [key], {});\n",
              "        if (!dataTable) return;\n",
              "\n",
              "        const docLinkHtml = 'Like what you see? Visit the ' +\n",
              "          '<a target=\"_blank\" href=https://colab.research.google.com/notebooks/data_table.ipynb>data table notebook</a>'\n",
              "          + ' to learn more about interactive tables.';\n",
              "        element.innerHTML = '';\n",
              "        dataTable['output_type'] = 'display_data';\n",
              "        await google.colab.output.renderOutput(dataTable, element);\n",
              "        const docLink = document.createElement('div');\n",
              "        docLink.innerHTML = docLinkHtml;\n",
              "        element.appendChild(docLink);\n",
              "      }\n",
              "    </script>\n",
              "  </div>\n",
              "\n",
              "\n",
              "    <div id=\"df-6eda093a-5200-49e4-bff0-8c63c691dfe3\">\n",
              "      <button class=\"colab-df-quickchart\" onclick=\"quickchart('df-6eda093a-5200-49e4-bff0-8c63c691dfe3')\"\n",
              "                title=\"Suggest charts\"\n",
              "                style=\"display:none;\">\n",
              "\n",
              "<svg xmlns=\"http://www.w3.org/2000/svg\" height=\"24px\"viewBox=\"0 0 24 24\"\n",
              "     width=\"24px\">\n",
              "    <g>\n",
              "        <path d=\"M19 3H5c-1.1 0-2 .9-2 2v14c0 1.1.9 2 2 2h14c1.1 0 2-.9 2-2V5c0-1.1-.9-2-2-2zM9 17H7v-7h2v7zm4 0h-2V7h2v10zm4 0h-2v-4h2v4z\"/>\n",
              "    </g>\n",
              "</svg>\n",
              "      </button>\n",
              "\n",
              "<style>\n",
              "  .colab-df-quickchart {\n",
              "      --bg-color: #E8F0FE;\n",
              "      --fill-color: #1967D2;\n",
              "      --hover-bg-color: #E2EBFA;\n",
              "      --hover-fill-color: #174EA6;\n",
              "      --disabled-fill-color: #AAA;\n",
              "      --disabled-bg-color: #DDD;\n",
              "  }\n",
              "\n",
              "  [theme=dark] .colab-df-quickchart {\n",
              "      --bg-color: #3B4455;\n",
              "      --fill-color: #D2E3FC;\n",
              "      --hover-bg-color: #434B5C;\n",
              "      --hover-fill-color: #FFFFFF;\n",
              "      --disabled-bg-color: #3B4455;\n",
              "      --disabled-fill-color: #666;\n",
              "  }\n",
              "\n",
              "  .colab-df-quickchart {\n",
              "    background-color: var(--bg-color);\n",
              "    border: none;\n",
              "    border-radius: 50%;\n",
              "    cursor: pointer;\n",
              "    display: none;\n",
              "    fill: var(--fill-color);\n",
              "    height: 32px;\n",
              "    padding: 0;\n",
              "    width: 32px;\n",
              "  }\n",
              "\n",
              "  .colab-df-quickchart:hover {\n",
              "    background-color: var(--hover-bg-color);\n",
              "    box-shadow: 0 1px 2px rgba(60, 64, 67, 0.3), 0 1px 3px 1px rgba(60, 64, 67, 0.15);\n",
              "    fill: var(--button-hover-fill-color);\n",
              "  }\n",
              "\n",
              "  .colab-df-quickchart-complete:disabled,\n",
              "  .colab-df-quickchart-complete:disabled:hover {\n",
              "    background-color: var(--disabled-bg-color);\n",
              "    fill: var(--disabled-fill-color);\n",
              "    box-shadow: none;\n",
              "  }\n",
              "\n",
              "  .colab-df-spinner {\n",
              "    border: 2px solid var(--fill-color);\n",
              "    border-color: transparent;\n",
              "    border-bottom-color: var(--fill-color);\n",
              "    animation:\n",
              "      spin 1s steps(1) infinite;\n",
              "  }\n",
              "\n",
              "  @keyframes spin {\n",
              "    0% {\n",
              "      border-color: transparent;\n",
              "      border-bottom-color: var(--fill-color);\n",
              "      border-left-color: var(--fill-color);\n",
              "    }\n",
              "    20% {\n",
              "      border-color: transparent;\n",
              "      border-left-color: var(--fill-color);\n",
              "      border-top-color: var(--fill-color);\n",
              "    }\n",
              "    30% {\n",
              "      border-color: transparent;\n",
              "      border-left-color: var(--fill-color);\n",
              "      border-top-color: var(--fill-color);\n",
              "      border-right-color: var(--fill-color);\n",
              "    }\n",
              "    40% {\n",
              "      border-color: transparent;\n",
              "      border-right-color: var(--fill-color);\n",
              "      border-top-color: var(--fill-color);\n",
              "    }\n",
              "    60% {\n",
              "      border-color: transparent;\n",
              "      border-right-color: var(--fill-color);\n",
              "    }\n",
              "    80% {\n",
              "      border-color: transparent;\n",
              "      border-right-color: var(--fill-color);\n",
              "      border-bottom-color: var(--fill-color);\n",
              "    }\n",
              "    90% {\n",
              "      border-color: transparent;\n",
              "      border-bottom-color: var(--fill-color);\n",
              "    }\n",
              "  }\n",
              "</style>\n",
              "\n",
              "      <script>\n",
              "        async function quickchart(key) {\n",
              "          const quickchartButtonEl =\n",
              "            document.querySelector('#' + key + ' button');\n",
              "          quickchartButtonEl.disabled = true;  // To prevent multiple clicks.\n",
              "          quickchartButtonEl.classList.add('colab-df-spinner');\n",
              "          try {\n",
              "            const charts = await google.colab.kernel.invokeFunction(\n",
              "                'suggestCharts', [key], {});\n",
              "          } catch (error) {\n",
              "            console.error('Error during call to suggestCharts:', error);\n",
              "          }\n",
              "          quickchartButtonEl.classList.remove('colab-df-spinner');\n",
              "          quickchartButtonEl.classList.add('colab-df-quickchart-complete');\n",
              "        }\n",
              "        (() => {\n",
              "          let quickchartButtonEl =\n",
              "            document.querySelector('#df-6eda093a-5200-49e4-bff0-8c63c691dfe3 button');\n",
              "          quickchartButtonEl.style.display =\n",
              "            google.colab.kernel.accessAllowed ? 'block' : 'none';\n",
              "        })();\n",
              "      </script>\n",
              "    </div>\n",
              "\n",
              "    </div>\n",
              "  </div>\n"
            ],
            "text/plain": [
              "                                                text  true_label  pred_label  \\\n",
              "0  A slice of pepperoni pizza with a layer of mel...           1           1   \n",
              "1  Red brick fireplace with a mantel serving as a...           0           0   \n",
              "2  A bowl of sliced bell peppers with a sprinkle ...           1           1   \n",
              "3                      Set of mugs hanging on a hook           0           0   \n",
              "4  Standing floor lamp providing light next to an...           0           0   \n",
              "\n",
              "   pred_prob  \n",
              "0   0.999422  \n",
              "1   0.999730  \n",
              "2   0.999421  \n",
              "3   0.999730  \n",
              "4   0.999730  "
            ]
          },
          "execution_count": 63,
          "metadata": {},
          "output_type": "execute_result"
        }
      ],
      "source": [
        "# Make a DataFrame of test predictions\n",
        "test_predictions_df = pd.DataFrame({\n",
        "    \"text\": dataset[\"test\"][\"text\"],\n",
        "    \"true_label\": true_labels,\n",
        "    \"pred_label\": pred_labels,\n",
        "    \"pred_prob\": torch.max(pred_probs, dim=1).values\n",
        "})\n",
        "\n",
        "test_predictions_df.head()"
      ]
    },
    {
      "cell_type": "code",
      "execution_count": null,
      "metadata": {
        "colab": {
          "base_uri": "https://localhost:8080/",
          "height": 363
        },
        "id": "ZXsEniSFDVMY",
        "outputId": "6dead6ae-1b7b-412e-bf5e-371df00d7dd2"
      },
      "outputs": [
        {
          "data": {
            "application/vnd.google.colaboratory.intrinsic+json": {
              "summary": "{\n  \"name\": \"test_predictions_df\",\n  \"rows\": 10,\n  \"fields\": [\n    {\n      \"column\": \"text\",\n      \"properties\": {\n        \"dtype\": \"string\",\n        \"num_unique_values\": 10,\n        \"samples\": [\n          \"Boxes of apples, pears, pineapple, manadrins and oranges at a fruit market\",\n          \"A close-up shot of a cheesy pizza slice being pulled away from the pie\",\n          \"A fruit platter with a variety of exotic fruits, such as dragon fruit, mangosteen, and durian\"\n        ],\n        \"semantic_type\": \"\",\n        \"description\": \"\"\n      }\n    },\n    {\n      \"column\": \"true_label\",\n      \"properties\": {\n        \"dtype\": \"number\",\n        \"std\": 0,\n        \"min\": 1,\n        \"max\": 1,\n        \"num_unique_values\": 1,\n        \"samples\": [\n          1\n        ],\n        \"semantic_type\": \"\",\n        \"description\": \"\"\n      }\n    },\n    {\n      \"column\": \"pred_label\",\n      \"properties\": {\n        \"dtype\": \"number\",\n        \"std\": 0,\n        \"min\": 1,\n        \"max\": 1,\n        \"num_unique_values\": 1,\n        \"samples\": [\n          1\n        ],\n        \"semantic_type\": \"\",\n        \"description\": \"\"\n      }\n    },\n    {\n      \"column\": \"pred_prob\",\n      \"properties\": {\n        \"dtype\": \"float32\",\n        \"num_unique_values\": 9,\n        \"samples\": [\n          0.9994188547134399\n        ],\n        \"semantic_type\": \"\",\n        \"description\": \"\"\n      }\n    }\n  ]\n}",
              "type": "dataframe"
            },
            "text/html": [
              "\n",
              "  <div id=\"df-900281ae-c345-4d5d-83a5-fc49ba89bf68\" class=\"colab-df-container\">\n",
              "    <div>\n",
              "<style scoped>\n",
              "    .dataframe tbody tr th:only-of-type {\n",
              "        vertical-align: middle;\n",
              "    }\n",
              "\n",
              "    .dataframe tbody tr th {\n",
              "        vertical-align: top;\n",
              "    }\n",
              "\n",
              "    .dataframe thead th {\n",
              "        text-align: right;\n",
              "    }\n",
              "</style>\n",
              "<table border=\"1\" class=\"dataframe\">\n",
              "  <thead>\n",
              "    <tr style=\"text-align: right;\">\n",
              "      <th></th>\n",
              "      <th>text</th>\n",
              "      <th>true_label</th>\n",
              "      <th>pred_label</th>\n",
              "      <th>pred_prob</th>\n",
              "    </tr>\n",
              "  </thead>\n",
              "  <tbody>\n",
              "    <tr>\n",
              "      <th>40</th>\n",
              "      <td>A bowl of cherries with a sprig of mint for ga...</td>\n",
              "      <td>1</td>\n",
              "      <td>1</td>\n",
              "      <td>0.999332</td>\n",
              "    </tr>\n",
              "    <tr>\n",
              "      <th>11</th>\n",
              "      <td>A close-up shot of a cheesy pizza slice being ...</td>\n",
              "      <td>1</td>\n",
              "      <td>1</td>\n",
              "      <td>0.999399</td>\n",
              "    </tr>\n",
              "    <tr>\n",
              "      <th>14</th>\n",
              "      <td>Two handfuls of bananas in a fruit bowl with g...</td>\n",
              "      <td>1</td>\n",
              "      <td>1</td>\n",
              "      <td>0.999415</td>\n",
              "    </tr>\n",
              "    <tr>\n",
              "      <th>9</th>\n",
              "      <td>Cherry tomatoes and mozzarella balls in a bowl...</td>\n",
              "      <td>1</td>\n",
              "      <td>1</td>\n",
              "      <td>0.999417</td>\n",
              "    </tr>\n",
              "    <tr>\n",
              "      <th>32</th>\n",
              "      <td>Comforting lentil dal curry, featuring nutty l...</td>\n",
              "      <td>1</td>\n",
              "      <td>1</td>\n",
              "      <td>0.999418</td>\n",
              "    </tr>\n",
              "    <tr>\n",
              "      <th>26</th>\n",
              "      <td>A fruit platter with a variety of exotic fruit...</td>\n",
              "      <td>1</td>\n",
              "      <td>1</td>\n",
              "      <td>0.999419</td>\n",
              "    </tr>\n",
              "    <tr>\n",
              "      <th>18</th>\n",
              "      <td>Traditional Japanese flavored sushi roll with ...</td>\n",
              "      <td>1</td>\n",
              "      <td>1</td>\n",
              "      <td>0.999419</td>\n",
              "    </tr>\n",
              "    <tr>\n",
              "      <th>31</th>\n",
              "      <td>Crunchy sushi roll with tempura flakes or pank...</td>\n",
              "      <td>1</td>\n",
              "      <td>1</td>\n",
              "      <td>0.999419</td>\n",
              "    </tr>\n",
              "    <tr>\n",
              "      <th>42</th>\n",
              "      <td>Boxes of apples, pears, pineapple, manadrins a...</td>\n",
              "      <td>1</td>\n",
              "      <td>1</td>\n",
              "      <td>0.999419</td>\n",
              "    </tr>\n",
              "    <tr>\n",
              "      <th>10</th>\n",
              "      <td>Creamy spinach and potato curry, featuring flu...</td>\n",
              "      <td>1</td>\n",
              "      <td>1</td>\n",
              "      <td>0.999419</td>\n",
              "    </tr>\n",
              "  </tbody>\n",
              "</table>\n",
              "</div>\n",
              "    <div class=\"colab-df-buttons\">\n",
              "\n",
              "  <div class=\"colab-df-container\">\n",
              "    <button class=\"colab-df-convert\" onclick=\"convertToInteractive('df-900281ae-c345-4d5d-83a5-fc49ba89bf68')\"\n",
              "            title=\"Convert this dataframe to an interactive table.\"\n",
              "            style=\"display:none;\">\n",
              "\n",
              "  <svg xmlns=\"http://www.w3.org/2000/svg\" height=\"24px\" viewBox=\"0 -960 960 960\">\n",
              "    <path d=\"M120-120v-720h720v720H120Zm60-500h600v-160H180v160Zm220 220h160v-160H400v160Zm0 220h160v-160H400v160ZM180-400h160v-160H180v160Zm440 0h160v-160H620v160ZM180-180h160v-160H180v160Zm440 0h160v-160H620v160Z\"/>\n",
              "  </svg>\n",
              "    </button>\n",
              "\n",
              "  <style>\n",
              "    .colab-df-container {\n",
              "      display:flex;\n",
              "      gap: 12px;\n",
              "    }\n",
              "\n",
              "    .colab-df-convert {\n",
              "      background-color: #E8F0FE;\n",
              "      border: none;\n",
              "      border-radius: 50%;\n",
              "      cursor: pointer;\n",
              "      display: none;\n",
              "      fill: #1967D2;\n",
              "      height: 32px;\n",
              "      padding: 0 0 0 0;\n",
              "      width: 32px;\n",
              "    }\n",
              "\n",
              "    .colab-df-convert:hover {\n",
              "      background-color: #E2EBFA;\n",
              "      box-shadow: 0px 1px 2px rgba(60, 64, 67, 0.3), 0px 1px 3px 1px rgba(60, 64, 67, 0.15);\n",
              "      fill: #174EA6;\n",
              "    }\n",
              "\n",
              "    .colab-df-buttons div {\n",
              "      margin-bottom: 4px;\n",
              "    }\n",
              "\n",
              "    [theme=dark] .colab-df-convert {\n",
              "      background-color: #3B4455;\n",
              "      fill: #D2E3FC;\n",
              "    }\n",
              "\n",
              "    [theme=dark] .colab-df-convert:hover {\n",
              "      background-color: #434B5C;\n",
              "      box-shadow: 0px 1px 3px 1px rgba(0, 0, 0, 0.15);\n",
              "      filter: drop-shadow(0px 1px 2px rgba(0, 0, 0, 0.3));\n",
              "      fill: #FFFFFF;\n",
              "    }\n",
              "  </style>\n",
              "\n",
              "    <script>\n",
              "      const buttonEl =\n",
              "        document.querySelector('#df-900281ae-c345-4d5d-83a5-fc49ba89bf68 button.colab-df-convert');\n",
              "      buttonEl.style.display =\n",
              "        google.colab.kernel.accessAllowed ? 'block' : 'none';\n",
              "\n",
              "      async function convertToInteractive(key) {\n",
              "        const element = document.querySelector('#df-900281ae-c345-4d5d-83a5-fc49ba89bf68');\n",
              "        const dataTable =\n",
              "          await google.colab.kernel.invokeFunction('convertToInteractive',\n",
              "                                                    [key], {});\n",
              "        if (!dataTable) return;\n",
              "\n",
              "        const docLinkHtml = 'Like what you see? Visit the ' +\n",
              "          '<a target=\"_blank\" href=https://colab.research.google.com/notebooks/data_table.ipynb>data table notebook</a>'\n",
              "          + ' to learn more about interactive tables.';\n",
              "        element.innerHTML = '';\n",
              "        dataTable['output_type'] = 'display_data';\n",
              "        await google.colab.output.renderOutput(dataTable, element);\n",
              "        const docLink = document.createElement('div');\n",
              "        docLink.innerHTML = docLinkHtml;\n",
              "        element.appendChild(docLink);\n",
              "      }\n",
              "    </script>\n",
              "  </div>\n",
              "\n",
              "\n",
              "    <div id=\"df-8c66461c-cff3-4579-aa3d-1ae2511ae485\">\n",
              "      <button class=\"colab-df-quickchart\" onclick=\"quickchart('df-8c66461c-cff3-4579-aa3d-1ae2511ae485')\"\n",
              "                title=\"Suggest charts\"\n",
              "                style=\"display:none;\">\n",
              "\n",
              "<svg xmlns=\"http://www.w3.org/2000/svg\" height=\"24px\"viewBox=\"0 0 24 24\"\n",
              "     width=\"24px\">\n",
              "    <g>\n",
              "        <path d=\"M19 3H5c-1.1 0-2 .9-2 2v14c0 1.1.9 2 2 2h14c1.1 0 2-.9 2-2V5c0-1.1-.9-2-2-2zM9 17H7v-7h2v7zm4 0h-2V7h2v10zm4 0h-2v-4h2v4z\"/>\n",
              "    </g>\n",
              "</svg>\n",
              "      </button>\n",
              "\n",
              "<style>\n",
              "  .colab-df-quickchart {\n",
              "      --bg-color: #E8F0FE;\n",
              "      --fill-color: #1967D2;\n",
              "      --hover-bg-color: #E2EBFA;\n",
              "      --hover-fill-color: #174EA6;\n",
              "      --disabled-fill-color: #AAA;\n",
              "      --disabled-bg-color: #DDD;\n",
              "  }\n",
              "\n",
              "  [theme=dark] .colab-df-quickchart {\n",
              "      --bg-color: #3B4455;\n",
              "      --fill-color: #D2E3FC;\n",
              "      --hover-bg-color: #434B5C;\n",
              "      --hover-fill-color: #FFFFFF;\n",
              "      --disabled-bg-color: #3B4455;\n",
              "      --disabled-fill-color: #666;\n",
              "  }\n",
              "\n",
              "  .colab-df-quickchart {\n",
              "    background-color: var(--bg-color);\n",
              "    border: none;\n",
              "    border-radius: 50%;\n",
              "    cursor: pointer;\n",
              "    display: none;\n",
              "    fill: var(--fill-color);\n",
              "    height: 32px;\n",
              "    padding: 0;\n",
              "    width: 32px;\n",
              "  }\n",
              "\n",
              "  .colab-df-quickchart:hover {\n",
              "    background-color: var(--hover-bg-color);\n",
              "    box-shadow: 0 1px 2px rgba(60, 64, 67, 0.3), 0 1px 3px 1px rgba(60, 64, 67, 0.15);\n",
              "    fill: var(--button-hover-fill-color);\n",
              "  }\n",
              "\n",
              "  .colab-df-quickchart-complete:disabled,\n",
              "  .colab-df-quickchart-complete:disabled:hover {\n",
              "    background-color: var(--disabled-bg-color);\n",
              "    fill: var(--disabled-fill-color);\n",
              "    box-shadow: none;\n",
              "  }\n",
              "\n",
              "  .colab-df-spinner {\n",
              "    border: 2px solid var(--fill-color);\n",
              "    border-color: transparent;\n",
              "    border-bottom-color: var(--fill-color);\n",
              "    animation:\n",
              "      spin 1s steps(1) infinite;\n",
              "  }\n",
              "\n",
              "  @keyframes spin {\n",
              "    0% {\n",
              "      border-color: transparent;\n",
              "      border-bottom-color: var(--fill-color);\n",
              "      border-left-color: var(--fill-color);\n",
              "    }\n",
              "    20% {\n",
              "      border-color: transparent;\n",
              "      border-left-color: var(--fill-color);\n",
              "      border-top-color: var(--fill-color);\n",
              "    }\n",
              "    30% {\n",
              "      border-color: transparent;\n",
              "      border-left-color: var(--fill-color);\n",
              "      border-top-color: var(--fill-color);\n",
              "      border-right-color: var(--fill-color);\n",
              "    }\n",
              "    40% {\n",
              "      border-color: transparent;\n",
              "      border-right-color: var(--fill-color);\n",
              "      border-top-color: var(--fill-color);\n",
              "    }\n",
              "    60% {\n",
              "      border-color: transparent;\n",
              "      border-right-color: var(--fill-color);\n",
              "    }\n",
              "    80% {\n",
              "      border-color: transparent;\n",
              "      border-right-color: var(--fill-color);\n",
              "      border-bottom-color: var(--fill-color);\n",
              "    }\n",
              "    90% {\n",
              "      border-color: transparent;\n",
              "      border-bottom-color: var(--fill-color);\n",
              "    }\n",
              "  }\n",
              "</style>\n",
              "\n",
              "      <script>\n",
              "        async function quickchart(key) {\n",
              "          const quickchartButtonEl =\n",
              "            document.querySelector('#' + key + ' button');\n",
              "          quickchartButtonEl.disabled = true;  // To prevent multiple clicks.\n",
              "          quickchartButtonEl.classList.add('colab-df-spinner');\n",
              "          try {\n",
              "            const charts = await google.colab.kernel.invokeFunction(\n",
              "                'suggestCharts', [key], {});\n",
              "          } catch (error) {\n",
              "            console.error('Error during call to suggestCharts:', error);\n",
              "          }\n",
              "          quickchartButtonEl.classList.remove('colab-df-spinner');\n",
              "          quickchartButtonEl.classList.add('colab-df-quickchart-complete');\n",
              "        }\n",
              "        (() => {\n",
              "          let quickchartButtonEl =\n",
              "            document.querySelector('#df-8c66461c-cff3-4579-aa3d-1ae2511ae485 button');\n",
              "          quickchartButtonEl.style.display =\n",
              "            google.colab.kernel.accessAllowed ? 'block' : 'none';\n",
              "        })();\n",
              "      </script>\n",
              "    </div>\n",
              "\n",
              "    </div>\n",
              "  </div>\n"
            ],
            "text/plain": [
              "                                                 text  true_label  pred_label  \\\n",
              "40  A bowl of cherries with a sprig of mint for ga...           1           1   \n",
              "11  A close-up shot of a cheesy pizza slice being ...           1           1   \n",
              "14  Two handfuls of bananas in a fruit bowl with g...           1           1   \n",
              "9   Cherry tomatoes and mozzarella balls in a bowl...           1           1   \n",
              "32  Comforting lentil dal curry, featuring nutty l...           1           1   \n",
              "26  A fruit platter with a variety of exotic fruit...           1           1   \n",
              "18  Traditional Japanese flavored sushi roll with ...           1           1   \n",
              "31  Crunchy sushi roll with tempura flakes or pank...           1           1   \n",
              "42  Boxes of apples, pears, pineapple, manadrins a...           1           1   \n",
              "10  Creamy spinach and potato curry, featuring flu...           1           1   \n",
              "\n",
              "    pred_prob  \n",
              "40   0.999332  \n",
              "11   0.999399  \n",
              "14   0.999415  \n",
              "9    0.999417  \n",
              "32   0.999418  \n",
              "26   0.999419  \n",
              "18   0.999419  \n",
              "31   0.999419  \n",
              "42   0.999419  \n",
              "10   0.999419  "
            ]
          },
          "execution_count": 64,
          "metadata": {},
          "output_type": "execute_result"
        }
      ],
      "source": [
        "# Show 10 examples with low prediction probability\n",
        "test_predictions_df.sort_values(\"pred_prob\", ascending=True).head(10)"
      ]
    },
    {
      "cell_type": "markdown",
      "metadata": {
        "id": "8jk_AreHHcoX"
      },
      "source": [
        "### Making and inspecting predictions on custom data.\n",
        "\n",
        "Two main ways to perform inference:\n",
        "1. **Pipeline Mode** - Using `transformers.pipeline` to load our model and perform text classification.\n",
        "2. **PyTorch Mode** - Using a combination of `transformers.AutoTokenizer` and `transformers.AutoModelForSequenceClassification` and passing each our target model name.\n",
        "\n",
        "Each mode supports:\n",
        "\n",
        "1. Predictions one at a time (fast but can be slower with many many samples).\n",
        "2. Batches of predictions at a time(faster but up to a point, depends on the batch size)."
      ]
    },
    {
      "cell_type": "code",
      "execution_count": null,
      "metadata": {
        "colab": {
          "base_uri": "https://localhost:8080/"
        },
        "id": "gu48AaHTJF8h",
        "outputId": "de008ebb-6444-4eb0-c7ac-31b55a6a5002"
      },
      "outputs": [
        {
          "name": "stdout",
          "output_type": "stream",
          "text": [
            "[INFO] Using device: cuda\n"
          ]
        }
      ],
      "source": [
        "# Setup our device for making predictions\n",
        "\n",
        "def set_device():\n",
        "  if torch.cuda.is_available():\n",
        "    device = torch.device(\"cuda\")\n",
        "  elif torch.backends.mps.is_available() and torch.backends.mps.is_built():\n",
        "    device = torch.device(\"mps\")\n",
        "  else:\n",
        "    device = torch.device(\"cpu\")\n",
        "  return device\n",
        "\n",
        "DEVICE = set_device()\n",
        "print(f\"[INFO] Using device: {DEVICE}\")"
      ]
    },
    {
      "cell_type": "markdown",
      "metadata": {
        "id": "a0b6yK9JLktH"
      },
      "source": [
        "### Making predictions with pipeline mode."
      ]
    },
    {
      "cell_type": "code",
      "execution_count": null,
      "metadata": {
        "id": "mqCLl5NSMUGF"
      },
      "outputs": [],
      "source": [
        "local_model_path = \"models/food_not_food_distilbert-base-uncased_text_classification_model\"\n",
        "\n",
        "huggingface_model_path = \"LizzChall/food_not_food_distilbert-base-uncased_text_classification_model\""
      ]
    },
    {
      "cell_type": "code",
      "execution_count": null,
      "metadata": {
        "colab": {
          "base_uri": "https://localhost:8080/"
        },
        "id": "DMglOFkBLOZD",
        "outputId": "89cefafa-86e7-4bb4-8b09-9efb39b6e54f"
      },
      "outputs": [
        {
          "name": "stderr",
          "output_type": "stream",
          "text": [
            "Device set to use cuda\n"
          ]
        },
        {
          "data": {
            "text/plain": [
              "<transformers.pipelines.text_classification.TextClassificationPipeline at 0x7ad838528e00>"
            ]
          },
          "execution_count": 67,
          "metadata": {},
          "output_type": "execute_result"
        }
      ],
      "source": [
        "import torch\n",
        "from transformers import pipeline\n",
        "\n",
        "# Set the batch size\n",
        "BATCH_SIZE = 32\n",
        "\n",
        "# Create an instance of transformers.pipeline\n",
        "food_not_food_classifier = pipeline(task=\"text-classification\",\n",
        "                                    model= local_model_path,\n",
        "                                    device=DEVICE,\n",
        "                                    top_k=1,\n",
        "                                    batch_size=BATCH_SIZE)\n",
        "\n",
        "food_not_food_classifier"
      ]
    },
    {
      "cell_type": "code",
      "execution_count": null,
      "metadata": {
        "colab": {
          "base_uri": "https://localhost:8080/"
        },
        "id": "XC4lLFvyPRx6",
        "outputId": "1f75e294-c490-4c32-aefa-23144ce510cd"
      },
      "outputs": [
        {
          "data": {
            "text/plain": [
              "[[{'label': 'not_food', 'score': 0.9994547963142395}]]"
            ]
          },
          "execution_count": 68,
          "metadata": {},
          "output_type": "execute_result"
        }
      ],
      "source": [
        "test_not_food_sentence = \"Text to test the pipeline mode.\"\n",
        "food_not_food_classifier(test_not_food_sentence)"
      ]
    },
    {
      "cell_type": "code",
      "execution_count": null,
      "metadata": {
        "colab": {
          "base_uri": "https://localhost:8080/"
        },
        "id": "68MgLgM-QFiz",
        "outputId": "5b8a0c88-d1db-4863-9db8-f1f8ac5e08d6"
      },
      "outputs": [
        {
          "data": {
            "text/plain": [
              "[[{'label': 'food', 'score': 0.9993602633476257}]]"
            ]
          },
          "execution_count": 69,
          "metadata": {},
          "output_type": "execute_result"
        }
      ],
      "source": [
        "test_custom_sentence = \"For breakfast I had waffles, sausages, and eggs.\"\n",
        "food_not_food_classifier(test_custom_sentence)"
      ]
    },
    {
      "cell_type": "code",
      "execution_count": null,
      "metadata": {
        "id": "YIrv8KYmSCjt"
      },
      "outputs": [],
      "source": [
        "del food_not_food_classifier"
      ]
    },
    {
      "cell_type": "code",
      "execution_count": null,
      "metadata": {
        "colab": {
          "base_uri": "https://localhost:8080/",
          "height": 244,
          "referenced_widgets": [
            "5dad7eb35c82444ba03edb5371575570",
            "27406c4766094410a93be187a705986b",
            "4377f9e5e0234b65bfb7de012f14e2ff",
            "bc78480fd7ff464f920dab01adee6484",
            "52ccf3b28acf43db81a13350d1afbc4d",
            "c31dcf4711354c0b80d844393590a9f5",
            "df119a1fef6c40639479768b54fd2030",
            "e55fe9e51f234f42b3fa2f681e35eea5",
            "c2463bfd82344d979d49456cb6080fdf",
            "6c0a0a06191d43d5b4f1b6110992e0c5",
            "e225c1c509e344ed81aa8833eb99aee5",
            "eb41095ffb0f4d669184ecc7837222a4",
            "13f238b4efb04ae896929999c593e2d4",
            "f28460b65c7c4d4da53143783a9e60ac",
            "da94d72051c242f6a7882255b9054c9b",
            "c0772df4961e4df2bf48895abbccd10a",
            "dfa631849fb84b1694cacca3620dead6",
            "a80f5c290aa6450a9b7e184ddde6021d",
            "cd26c877eea64d1986b081e0a368f0c7",
            "1fbfebdb01d44d88b0aa21f7f34fadef",
            "751dfe0250e049ad89dc3283d33fed97",
            "a718a8a1f9734ffe80859cb4386db39e",
            "2cddf08f91fb463f99eb68001ced6e4d",
            "89a6b892c3ac4256ac9dcbbcf4f88297",
            "8d1c59461e1d415d8ebbc1ca8c5047e3",
            "15c6a31908ef4210b81fa5bafd1afd41",
            "957bfbb3ab574566bd01912b29ad85f0",
            "f5003f260bb5437cbd16d9485cc82bc5",
            "d905cbaf2bc44bb9becd4d030524b2d3",
            "2fde2d44df574031a816f1fb0edd2a0b",
            "37cd157be3d543528074e7c0c1bcc657",
            "143fc5ad90454c54bc796e87672c1526",
            "5cfeda7831f749f7a3a734340f7c11e0",
            "bef24c8dd91e4fdea3e70e4a68d2f892",
            "7b5b63feb90c4ffc84d65d508fa0752d",
            "54928de7ace54b6587cb8f87812b2e46",
            "5ca178c1668541eeb99c815441f4ea2f",
            "09c7cb0f3d0c4a999bff15cf03b8fa26",
            "6029ab8963b5462aab220e5071908abf",
            "667ee49793124e6d8c3f5b2a29ce0acd",
            "370d54cc991741a4890c9d788aab0501",
            "87141a798f434e6ba4bc6042d4185a11",
            "3b85a6ecb56146628cffcfb9aee7b551",
            "02eb1c5747904107b9ab25c2b1646c07",
            "220c48bc260c44f5a190fdaf0575e307",
            "6939bf2706694944b33306f238707f9a",
            "da9e52e142c94b45956e33e0d0ffd3c7",
            "a30c3a233dee45bdaef112c71f6e1af2",
            "81f84df5907d44d89f56a11b0983e10a",
            "7f27011ee06f43febee2e380aa34a66b",
            "943656c420e043e0aaa65d36c9124895",
            "9d973765415f4f01b44b07c3fd9a836c",
            "5ee15361bd2a4f6d8327fe2b9a8c8439",
            "8459aff3cfe0440d9dcd0f16864fa7f5",
            "25bca2f1015e4e0e830c1f440dfd8b1b",
            "a049fa39777a45b3af36fed4f55d6078",
            "60610016bca44c04993cdbd6b094fa4e",
            "85c3d91e4db94344858d6cabf5d5662d",
            "c65e1d586b2f410dbab179fa7bd4b935",
            "33fddcf6ab2e47aa8ccff1b2e7818527",
            "1ff0a3391b1e40f4a45c6323d727ca97",
            "df0b78ad05a348df9be7dec78696df9a",
            "1282545acd5e404490135efe6db66384",
            "329f9126d8b84b96b00a021725d272b8",
            "26369c4d0bc341308e6b4ae02973bcae",
            "c9f01327d21546d48066e26bc9723b07"
          ]
        },
        "id": "tp2fKtffQOjL",
        "outputId": "53a331d9-64e5-40c1-f066-6a927e42ffec"
      },
      "outputs": [
        {
          "data": {
            "application/vnd.jupyter.widget-view+json": {
              "model_id": "5dad7eb35c82444ba03edb5371575570",
              "version_major": 2,
              "version_minor": 0
            },
            "text/plain": [
              "config.json:   0%|          | 0.00/675 [00:00<?, ?B/s]"
            ]
          },
          "metadata": {},
          "output_type": "display_data"
        },
        {
          "data": {
            "application/vnd.jupyter.widget-view+json": {
              "model_id": "eb41095ffb0f4d669184ecc7837222a4",
              "version_major": 2,
              "version_minor": 0
            },
            "text/plain": [
              "model.safetensors:   0%|          | 0.00/268M [00:00<?, ?B/s]"
            ]
          },
          "metadata": {},
          "output_type": "display_data"
        },
        {
          "data": {
            "application/vnd.jupyter.widget-view+json": {
              "model_id": "2cddf08f91fb463f99eb68001ced6e4d",
              "version_major": 2,
              "version_minor": 0
            },
            "text/plain": [
              "tokenizer_config.json: 0.00B [00:00, ?B/s]"
            ]
          },
          "metadata": {},
          "output_type": "display_data"
        },
        {
          "data": {
            "application/vnd.jupyter.widget-view+json": {
              "model_id": "bef24c8dd91e4fdea3e70e4a68d2f892",
              "version_major": 2,
              "version_minor": 0
            },
            "text/plain": [
              "vocab.txt: 0.00B [00:00, ?B/s]"
            ]
          },
          "metadata": {},
          "output_type": "display_data"
        },
        {
          "data": {
            "application/vnd.jupyter.widget-view+json": {
              "model_id": "220c48bc260c44f5a190fdaf0575e307",
              "version_major": 2,
              "version_minor": 0
            },
            "text/plain": [
              "tokenizer.json: 0.00B [00:00, ?B/s]"
            ]
          },
          "metadata": {},
          "output_type": "display_data"
        },
        {
          "data": {
            "application/vnd.jupyter.widget-view+json": {
              "model_id": "a049fa39777a45b3af36fed4f55d6078",
              "version_major": 2,
              "version_minor": 0
            },
            "text/plain": [
              "special_tokens_map.json:   0%|          | 0.00/125 [00:00<?, ?B/s]"
            ]
          },
          "metadata": {},
          "output_type": "display_data"
        },
        {
          "name": "stderr",
          "output_type": "stream",
          "text": [
            "Device set to use cuda\n"
          ]
        },
        {
          "data": {
            "text/plain": [
              "[[{'label': 'not_food', 'score': 0.9994547963142395}]]"
            ]
          },
          "execution_count": 71,
          "metadata": {},
          "output_type": "execute_result"
        }
      ],
      "source": [
        "# Use pipeline with a model from Hugging Face\n",
        "food_not_food_classifier = pipeline(task=\"text-classification\",\n",
        "                                    model=huggingface_model_path,\n",
        "                                    device=DEVICE,\n",
        "                                    top_k=1,\n",
        "                                    batch_size=BATCH_SIZE)\n",
        "\n",
        "food_not_food_classifier(test_not_food_sentence)"
      ]
    },
    {
      "cell_type": "markdown",
      "metadata": {
        "id": "djCdto3eS_pJ"
      },
      "source": [
        "### Making multiple predictions at the same time with batch predictions."
      ]
    },
    {
      "cell_type": "code",
      "execution_count": null,
      "metadata": {
        "colab": {
          "base_uri": "https://localhost:8080/"
        },
        "id": "_ZrcqvI-SJkz",
        "outputId": "806ee6fa-ca44-4b69-a622-7abf73a3e6bd"
      },
      "outputs": [
        {
          "data": {
            "text/plain": [
              "[[{'label': 'not_food', 'score': 0.999213695526123}],\n",
              " [{'label': 'not_food', 'score': 0.9992119073867798}],\n",
              " [{'label': 'not_food', 'score': 0.9989317059516907}],\n",
              " [{'label': 'not_food', 'score': 0.998904824256897}],\n",
              " [{'label': 'not_food', 'score': 0.9987655878067017}],\n",
              " [{'label': 'not_food', 'score': 0.9991076588630676}],\n",
              " [{'label': 'not_food', 'score': 0.9984277486801147}],\n",
              " [{'label': 'food', 'score': 0.9992815852165222}],\n",
              " [{'label': 'not_food', 'score': 0.7439453601837158}]]"
            ]
          },
          "execution_count": 72,
          "metadata": {},
          "output_type": "execute_result"
        }
      ],
      "source": [
        "# Create a list of sentences to make predictions on\n",
        "sentences = [\n",
        "    \"I whipped up a fresh batch of code, but it seems to have a syntax error.\",\n",
        "    \"We need to marinate these ideas overnight before presenting them to the client.\",\n",
        "    \"The new software is definitely a spicy upgrade, taking some time to get used to.\",\n",
        "    \"Her social media post was the perfect recipe for a viral sensation.\",\n",
        "    \"He served up a rebuttal full of facts, leaving his opponent speechless.\",\n",
        "    \"The team needs to simmer down a bit before tackling the next challenge.\",\n",
        "    \"The presentation was a delicious blend of humor and information, keeping the audience engaged.\",\n",
        "    \"A beautiful array of fake wax foods (shokuhin sampuru) in the front of a Japanese restaurant.\",\n",
        "    \"My favoruite food is biltong!\"\n",
        "]\n",
        "\n",
        "food_not_food_classifier(sentences)"
      ]
    },
    {
      "cell_type": "code",
      "execution_count": null,
      "metadata": {
        "colab": {
          "base_uri": "https://localhost:8080/"
        },
        "id": "_FBopu7CTVuD",
        "outputId": "068f6d35-fe19-4c19-c37c-dc0402fa5f47"
      },
      "outputs": [
        {
          "data": {
            "text/plain": [
              "[[{'label': 'food', 'score': 0.9993971586227417}],\n",
              " [{'label': 'food', 'score': 0.9915435314178467}],\n",
              " [{'label': 'food', 'score': 0.9994109869003296}],\n",
              " [{'label': 'food', 'score': 0.9993884563446045}],\n",
              " [{'label': 'food', 'score': 0.9992709755897522}],\n",
              " [{'label': 'food', 'score': 0.9985886216163635}],\n",
              " [{'label': 'not_food', 'score': 0.9729326963424683}],\n",
              " [{'label': 'food', 'score': 0.7121515870094299}],\n",
              " [{'label': 'food', 'score': 0.9993583559989929}],\n",
              " [{'label': 'food', 'score': 0.9993870258331299}]]"
            ]
          },
          "execution_count": 73,
          "metadata": {},
          "output_type": "execute_result"
        }
      ],
      "source": [
        "food_captions = [\n",
        "    \"A steaming plate of pad thai, garnished with fresh lime wedges.\",\n",
        "    \"The aroma of freshly baked croissants wafted through the air.\",\n",
        "    \"Savoring the flavors of a traditional Indian curry.\",\n",
        "    \"A juicy burger and crispy fries on a sunny summer day.\",\n",
        "    \"Fresh sushi rolls, expertly crafted with love and care.\",\n",
        "    \"The sweet scent of ripe strawberries filled the room.\",\n",
        "    \"A warm, gooey cookie straight from the oven.\",\n",
        "    \"The art of making pasta from scratch, a labor of love.\",\n",
        "    \"A decadent chocolate cake, perfect for special occasions.\",\n",
        "    \"The vibrant colors of a fruit salad, a feast for the eyes.\"\n",
        "]\n",
        "\n",
        "food_not_food_classifier(food_captions)"
      ]
    },
    {
      "cell_type": "code",
      "execution_count": null,
      "metadata": {
        "colab": {
          "base_uri": "https://localhost:8080/"
        },
        "id": "IEofB95NUJ70",
        "outputId": "966764be-ee3c-4c88-e2e8-a55e7f644203"
      },
      "outputs": [
        {
          "data": {
            "text/plain": [
              "[[{'label': 'not_food', 'score': 0.9995392560958862}],\n",
              " [{'label': 'not_food', 'score': 0.9995989203453064}],\n",
              " [{'label': 'not_food', 'score': 0.9994889497756958}],\n",
              " [{'label': 'not_food', 'score': 0.9995678067207336}],\n",
              " [{'label': 'not_food', 'score': 0.9997194409370422}],\n",
              " [{'label': 'not_food', 'score': 0.999699592590332}],\n",
              " [{'label': 'not_food', 'score': 0.9996631145477295}],\n",
              " [{'label': 'not_food', 'score': 0.9996219873428345}],\n",
              " [{'label': 'not_food', 'score': 0.9996384382247925}],\n",
              " [{'label': 'not_food', 'score': 0.9050772190093994}]]"
            ]
          },
          "execution_count": 74,
          "metadata": {},
          "output_type": "execute_result"
        }
      ],
      "source": [
        "not_food_captions = [\n",
        "    \"A beautiful sunset over the rolling hills of Tuscany.\",\n",
        "    \"The sound of waves crashing against the shore, soothing the soul.\",\n",
        "    \"A stunning work of art, created with passion and precision.\",\n",
        "    \"The majestic beauty of a mountain range, inspiring awe.\",\n",
        "    \"A cozy living room, filled with warmth and comfort.\",\n",
        "    \"The intricate details of a handmade clock, a testament to craftsmanship.\",\n",
        "    \"A serene forest, teeming with life and tranquility.\",\n",
        "    \"The vibrant lights of a city skyline, pulsating with energy.\",\n",
        "    \"A breathtaking waterfall, a wonder of nature.\",\n",
        "    \"The soft petals of a flower, delicate and lovely.\"\n",
        "]\n",
        "\n",
        "food_not_food_classifier(not_food_captions)"
      ]
    },
    {
      "cell_type": "code",
      "execution_count": null,
      "metadata": {
        "colab": {
          "base_uri": "https://localhost:8080/"
        },
        "id": "XB7nPWHpUUNU",
        "outputId": "a953559f-67ff-4f2d-ebf5-551316571244"
      },
      "outputs": [
        {
          "data": {
            "text/plain": [
              "[[{'label': 'not_food', 'score': 0.9958445429801941}],\n",
              " [{'label': 'not_food', 'score': 0.9994168281555176}],\n",
              " [{'label': 'food', 'score': 0.9977148771286011}],\n",
              " [{'label': 'not_food', 'score': 0.9976984858512878}],\n",
              " [{'label': 'not_food', 'score': 0.9992478489875793}],\n",
              " [{'label': 'not_food', 'score': 0.9996260404586792}],\n",
              " [{'label': 'not_food', 'score': 0.9994964599609375}],\n",
              " [{'label': 'not_food', 'score': 0.9982442855834961}],\n",
              " [{'label': 'food', 'score': 0.9975225329399109}],\n",
              " [{'label': 'not_food', 'score': 0.9996243715286255}]]"
            ]
          },
          "execution_count": 75,
          "metadata": {},
          "output_type": "execute_result"
        }
      ],
      "source": [
        "confusing_captions = [\n",
        "    \"Bite into the weekend with a fresh start.\",\n",
        "    \"The sauce of sarcasm dripped from her words.\",\n",
        "    \"A pinch of salt in the wound made it hard to forgive.\",\n",
        "    \"The recipe for success involves hard work and dedication.\",\n",
        "    \"A taste of freedom was exhilarating, but short-lived.\",\n",
        "    \"The flavors of nostalgia washed over me as I flipped through old photos.\",\n",
        "    \"A dash of drama was added to the meeting with the CEO's announcement.\",\n",
        "    \"The bitter truth was hard to swallow.\",\n",
        "    \"A spoonful of sugar helps the medicine go down, but not in this case.\",\n",
        "    \"The aroma of opportunity filled the air at the career fair.\"\n",
        "]\n",
        "\n",
        "food_not_food_classifier(confusing_captions)"
      ]
    },
    {
      "cell_type": "markdown",
      "metadata": {
        "id": "BngxyJ0HVHJY"
      },
      "source": [
        "### Time our model across larger sample sizes."
      ]
    },
    {
      "cell_type": "code",
      "execution_count": null,
      "metadata": {
        "colab": {
          "base_uri": "https://localhost:8080/"
        },
        "id": "X7PSjy_cUnWt",
        "outputId": "78980359-5340-45da-d3a3-bf66d807d6e2"
      },
      "outputs": [
        {
          "name": "stderr",
          "output_type": "stream",
          "text": [
            "You seem to be using the pipelines sequentially on GPU. In order to maximize efficiency please use a dataset\n"
          ]
        },
        {
          "name": "stdout",
          "output_type": "stream",
          "text": [
            "[INFO] Number of sentences: 1008\n",
            "[INFO]: Total time for making predictions on 1008 samples one at a time: 11.061317205429077s\n",
            "[INFO] Average time per predictions one at a time: 0.010973528973639958s\n"
          ]
        }
      ],
      "source": [
        "import time\n",
        "\n",
        "# Create 1000 sentences\n",
        "sentences_1000 = sentences * 112\n",
        "\n",
        "# Time how long it takes to make predictions on all sentences (one at a time)\n",
        "print(f\"[INFO] Number of sentences: {len(sentences_1000)}\")\n",
        "start_time_one_at_a_time = time.time()\n",
        "for sentence in sentences_1000:\n",
        "  # Make a prediction\n",
        "  food_not_food_classifier(sentence)\n",
        "end_time_one_at_a_time = time.time()\n",
        "\n",
        "total_time_one_at_a_time = end_time_one_at_a_time - start_time_one_at_a_time\n",
        "avg_time_per_pred = total_time_one_at_a_time / len(sentences_1000)\n",
        "print(f\"[INFO]: Total time for making predictions on {len(sentences_1000)} samples one at a time: {total_time_one_at_a_time}s\")\n",
        "print(f\"[INFO] Average time per predictions one at a time: {avg_time_per_pred}s\")"
      ]
    },
    {
      "cell_type": "code",
      "execution_count": null,
      "metadata": {
        "colab": {
          "base_uri": "https://localhost:8080/"
        },
        "id": "QMrqIsdvVdPb",
        "outputId": "bea3d30c-3c50-486e-c753-0496c0d78289"
      },
      "outputs": [
        {
          "name": "stdout",
          "output_type": "stream",
          "text": [
            "[INFO] Number of sentences: 90\n",
            "[INFO] Inference time for 90 sentences: 0.134969s\n",
            "[INFO] Average inference time per sentence: 0.00149966s\n",
            "\n",
            "[INFO] Number of sentences: 900\n",
            "[INFO] Inference time for 900 sentences: 0.982856s\n",
            "[INFO] Average inference time per sentence: 0.00109206s\n",
            "\n",
            "[INFO] Number of sentences: 9000\n",
            "[INFO] Inference time for 9000 sentences: 10.601799s\n",
            "[INFO] Average inference time per sentence: 0.00117798s\n",
            "\n",
            "[INFO] Number of sentences: 90000\n",
            "[INFO] Inference time for 90000 sentences: 85.448431s\n",
            "[INFO] Average inference time per sentence: 0.00094943s\n",
            "\n"
          ]
        }
      ],
      "source": [
        "# Let's now use batches\n",
        "for i in [10, 100, 1000, 10000]:\n",
        "  sentences_big = sentences * i\n",
        "  print(f\"[INFO] Number of sentences: {len(sentences_big)}\")\n",
        "\n",
        "  start_time_batches = time.time()\n",
        "  food_not_food_classifier(sentences_big)\n",
        "  end_time_batches = time.time()\n",
        "\n",
        "  total_time_per_all_sentences_batch_mode = end_time_batches - start_time_batches\n",
        "  avg_time_per_pred_batch_mode = total_time_per_all_sentences_batch_mode / len(sentences_big)\n",
        "\n",
        "  print(f\"[INFO] Inference time for {len(sentences_big)} sentences: {round(total_time_per_all_sentences_batch_mode, 6)}s\")\n",
        "  print(f\"[INFO] Average inference time per sentence: {round(avg_time_per_pred_batch_mode, 8)}s\")\n",
        "  print()"
      ]
    },
    {
      "cell_type": "markdown",
      "metadata": {
        "id": "lAEyGMB7ZM8S"
      },
      "source": [
        "### Making predictions with PyTorch.\n",
        "\n",
        "Steps with PyTorch predictions:\n",
        "\n",
        "1. Create the tokenizer with `AutoTokenizer`\n",
        "2. Create the model with `AutoModel` (AutoModelForSequenceClassification)\n",
        "3. Tokenize text with 1\n",
        "4. Make predictions with 2\n",
        "5. Format predictions"
      ]
    },
    {
      "cell_type": "code",
      "execution_count": null,
      "metadata": {
        "colab": {
          "base_uri": "https://localhost:8080/"
        },
        "id": "Hjn8VL6UYmjE",
        "outputId": "a5505675-c52e-4ddc-bff5-22097f4a7adf"
      },
      "outputs": [
        {
          "data": {
            "text/plain": [
              "{'input_ids': tensor([[  101,  1037, 12090,  6302,  1997,  1037,  5127,  1997,  6949,  8808,\n",
              "          1010,  9370,  2007, 12428,  6949,  1998, 13137, 20968,  1012,   102]]), 'attention_mask': tensor([[1, 1, 1, 1, 1, 1, 1, 1, 1, 1, 1, 1, 1, 1, 1, 1, 1, 1, 1, 1]])}"
            ]
          },
          "execution_count": 78,
          "metadata": {},
          "output_type": "execute_result"
        }
      ],
      "source": [
        "from transformers import AutoTokenizer, AutoModelForSequenceClassification\n",
        "\n",
        "# Setup the model path\n",
        "model_path = \"models/food_not_food_distilbert-base-uncased_text_classification_model\"\n",
        "\n",
        "# Create an example to predict on\n",
        "sample_food_text = \"A delicious photo of a plate of cream cheese, topped with whipped cream and strawberries.\"\n",
        "\n",
        "# Create an instance of AutoTokenizer\n",
        "tokenizer = AutoTokenizer.from_pretrained(pretrained_model_name_or_path=model_path)\n",
        "inputs = tokenizer(sample_food_text,\n",
        "                   return_tensors=\"pt\")\n",
        "inputs"
      ]
    },
    {
      "cell_type": "code",
      "execution_count": null,
      "metadata": {
        "id": "oHf9Nu7raxFM"
      },
      "outputs": [],
      "source": [
        "from transformers import AutoModelForSequenceClassification\n",
        "\n",
        "# Load our  text classification model\n",
        "model = AutoModelForSequenceClassification.from_pretrained(pretrained_model_name_or_path=model_path)"
      ]
    },
    {
      "cell_type": "code",
      "execution_count": null,
      "metadata": {
        "colab": {
          "base_uri": "https://localhost:8080/"
        },
        "id": "s9ER5ovNa_Jl",
        "outputId": "25ca2f37-a1b4-4607-fbbf-e92d14d631f0"
      },
      "outputs": [
        {
          "name": "stdout",
          "output_type": "stream",
          "text": [
            "[INFO] Outputs: SequenceClassifierOutput(loss=None, logits=tensor([[-3.9283,  3.5295]]), hidden_states=None, attentions=None)\n"
          ]
        }
      ],
      "source": [
        "import tensorflow as tf\n",
        "\n",
        "model.eval()\n",
        "\n",
        "with torch.inference_mode():\n",
        "  outputs = model(**inputs)\n",
        "  print(f\"[INFO] Outputs: {outputs}\")"
      ]
    },
    {
      "cell_type": "code",
      "execution_count": null,
      "metadata": {
        "colab": {
          "base_uri": "https://localhost:8080/"
        },
        "id": "H7aKpwS7biZ0",
        "outputId": "848c67e4-5079-4c87-ae3b-7b7e2cf9c2ee"
      },
      "outputs": [
        {
          "name": "stdout",
          "output_type": "stream",
          "text": [
            "Text: A delicious photo of a plate of cream cheese, topped with whipped cream and strawberries.\n",
            "[INFO] Predicted class label: food\n",
            "[INFO] Predicted class probability: 0.9994233846664429\n"
          ]
        }
      ],
      "source": [
        "# Convert logits to prediction probability plus label\n",
        "predicted_class_id = outputs.logits.argmax().item()\n",
        "predicted_prob = torch.softmax(outputs.logits, dim=1).max().item()\n",
        "\n",
        "print(f\"Text: {sample_food_text}\")\n",
        "print(f\"[INFO] Predicted class label: {model.config.id2label[predicted_class_id]}\")\n",
        "print(f\"[INFO] Predicted class probability: {predicted_prob}\")"
      ]
    },
    {
      "cell_type": "code",
      "execution_count": null,
      "metadata": {
        "colab": {
          "base_uri": "https://localhost:8080/"
        },
        "id": "dy2g0cUncN8k",
        "outputId": "3d560bad-cb52-4396-aae1-5f79cd5a29c4"
      },
      "outputs": [
        {
          "data": {
            "text/plain": [
              "[[{'label': 'food', 'score': 0.9994233846664429}]]"
            ]
          },
          "execution_count": 82,
          "metadata": {},
          "output_type": "execute_result"
        }
      ],
      "source": [
        "food_not_food_classifier(sample_food_text)"
      ]
    },
    {
      "cell_type": "markdown",
      "metadata": {
        "id": "aakXYw5vc_kh"
      },
      "source": [
        "### Putting it all together.\n",
        "\n",
        "End-to-end from data import to model evaluation to model saving for our text classification project."
      ]
    },
    {
      "cell_type": "code",
      "execution_count": null,
      "metadata": {
        "colab": {
          "base_uri": "https://localhost:8080/",
          "height": 980,
          "referenced_widgets": [
            "17a94705ce4b47309ec709c5ff598db7",
            "db91557a09c6455ba906bb0f2f3fe4d2",
            "94d2115cb9824e2c94897f7c6016b1ba",
            "e4d613b005a9496e8e2d2d9e5b13b5cd",
            "76e833c84f9a48a88c3cac2cd3a0bccd",
            "8f5a91fe41c74613aba220d30326fa94",
            "f1a6b558484f4be089433fe5574fbc93",
            "4568c65776f44f2187400e98a2353acc",
            "d6b46f047fa748f99e2fae0307561cde",
            "cf314a2958ae4bfc9e5273a150a0c368",
            "a4dc743215354c9fbadb0ab46ae7dff7",
            "9d070a74c8344fee89ec0910f4bfac62",
            "528f52d8bee6499fbb0f7434fed3be19",
            "1f7aa87feebf46259626346fbafa77fa",
            "6cc3b25cb7e64559885b21184e61d78e",
            "ace48454510d4ffda678a777ab547b70",
            "33285ec3fdf64b9e8a275d8bbf13d1b9",
            "1c40f7044ee54e26a489710f44882d36",
            "06570dfd2c6d4ab1bccac339f1a0c6be",
            "2dadac3130784933961bea5adc9296ba",
            "cda9f9c0e5d14dacb375673912413853",
            "e4112cc717c84c29b3946385f2d25c0c",
            "f039013aa7304c7a8071858828489e5d",
            "6690f034a6034383af5d7c62dff793f1",
            "9d8ae7c690f54883a501745df42e19d8",
            "cdff4440c5ce426cb0170e93dfa5186e",
            "bf39066cc3764cfcab8df713dbfbd493",
            "b36e099f14fb4a72899ccacb75d3be9f",
            "eec7845d7605463baf6a94ed6c661712",
            "28d2d3e626364e12871d74d7f491cfeb",
            "b3d42a98cddf4e5f8ac86230eb3e6fcb",
            "d5c5fe8a2703476786ea4754b41801d3",
            "ff8ecc9a240b4891b80eca59e6ad1018",
            "d67d16a149f8473d9799b337e8480073",
            "645f81ad02a64845af608d53cfbdd27e",
            "275b8c847d974a009742d0852abaeb6c",
            "2e5299179eed4d2db3de6403a7022231",
            "77f0115a92c449a08b0d29bc8e455955",
            "5cdeb0072d364d8781b6c434b22e2525",
            "31e7a9ad050042d39868381a7e38fba9",
            "ad9c0bef38f94e70bfb9542fc32e0ba0",
            "322c0415a5b14e96abde34740c4a6e09",
            "962b2ba8afb84c868dff84b462cf63a0",
            "26603be2514e4d918a421f3a77444aba",
            "44a5d70cef064e1cbb76b2ea3c16200d",
            "9a34c8097d12433bb4f830e192461a8a",
            "c7cd81d36cc64a8a90792ea83abf9aba",
            "44d75d7275704c5695912b5118ecf9f5",
            "d94904f564fe402fb39d49b129f941a9",
            "aec9482ff1de4b47b953b855a22fa286",
            "2505fdbe1bbb45159f76a09949a33f37",
            "47210aab09234857b5675ea3d1efc423",
            "851442e2186c43b8b1b3e22813d1d534",
            "96214680672c4e4d9f06ab06542d664f",
            "8400d0564d16461f9375775bc2ce5f1d",
            "8b9834caaa05446f8628730a321b5a2c",
            "fa7762f9855141b6b70fd20007dc86f5",
            "be8477d384384b989ed06d5724383075",
            "62091c502d234be094e91fa06d91b800",
            "43572f17a9b64a92963e79bd07f42ee7",
            "dcaf65851f514827aeef72e009e72caf",
            "23cf6d9840134a539b243f7d508cba40",
            "f3db5b517e09416a83ae56c11d35c486",
            "7ca213c9cbe643b981fbc8d8ac335df4",
            "7969b9a6ed3f43f398b4284cb0aea560",
            "020e451879fc4e58b89389d2723dfc0e",
            "dd66d3c4809c4ce39f16220d61ebb258",
            "6c15c250d96b4dfeb3dea4a5a4d3b27f",
            "56f0b843855444a899e35bfdf9843a51",
            "c9cd1ba8de6a4d8f83bd735c07ce37e8",
            "1c59795c5ea54a7ebf10d5cb5b459d7d",
            "d03c75649b0d4b9489055f3820b579cb",
            "babf40f4ecd04d2a9c6e965e79aee555",
            "e924b209d7724e6d94358f6db28c1f5d",
            "befb229d22924cb1a28a298b59115666",
            "f82d537290ba41b0b757782cc95d158c",
            "c57dfd603f2d4f048f1be30ef776a323"
          ]
        },
        "id": "Tg7-wbNTc44k",
        "outputId": "3151f2b1-0f97-4ddb-bebb-771ad717304e"
      },
      "outputs": [
        {
          "name": "stdout",
          "output_type": "stream",
          "text": [
            "[INFO] Creating directory for saving models: models/food_not_food_text_classifier_distilbert-base-uncased\n",
            "[INFO] Downloading dataset from Hugging Face Hub, name: mrdbourke/learn_hf_food_not_food_image_captions\n"
          ]
        },
        {
          "data": {
            "application/vnd.jupyter.widget-view+json": {
              "model_id": "17a94705ce4b47309ec709c5ff598db7",
              "version_major": 2,
              "version_minor": 0
            },
            "text/plain": [
              "Map:   0%|          | 0/250 [00:00<?, ? examples/s]"
            ]
          },
          "metadata": {},
          "output_type": "display_data"
        },
        {
          "name": "stdout",
          "output_type": "stream",
          "text": [
            "[INFO] Tokenizing text for model training with tokenizer: distilbert/distilbert-base-uncased\n"
          ]
        },
        {
          "data": {
            "application/vnd.jupyter.widget-view+json": {
              "model_id": "9d070a74c8344fee89ec0910f4bfac62",
              "version_major": 2,
              "version_minor": 0
            },
            "text/plain": [
              "Map:   0%|          | 0/200 [00:00<?, ? examples/s]"
            ]
          },
          "metadata": {},
          "output_type": "display_data"
        },
        {
          "data": {
            "application/vnd.jupyter.widget-view+json": {
              "model_id": "f039013aa7304c7a8071858828489e5d",
              "version_major": 2,
              "version_minor": 0
            },
            "text/plain": [
              "Map:   0%|          | 0/50 [00:00<?, ? examples/s]"
            ]
          },
          "metadata": {},
          "output_type": "display_data"
        },
        {
          "name": "stdout",
          "output_type": "stream",
          "text": [
            "[INFO] Loading model: distilbert/distilbert-base-uncased\n"
          ]
        },
        {
          "name": "stderr",
          "output_type": "stream",
          "text": [
            "Some weights of DistilBertForSequenceClassification were not initialized from the model checkpoint at distilbert/distilbert-base-uncased and are newly initialized: ['classifier.bias', 'classifier.weight', 'pre_classifier.bias', 'pre_classifier.weight']\n",
            "You should probably TRAIN this model on a down-stream task to be able to use it for predictions and inference.\n",
            "/tmp/ipython-input-1701595809.py:101: FutureWarning: `tokenizer` is deprecated and will be removed in version 5.0.0 for `Trainer.__init__`. Use `processing_class` instead.\n",
            "  trainer = Trainer(\n"
          ]
        },
        {
          "name": "stdout",
          "output_type": "stream",
          "text": [
            "[INFO] Model loading complete!\n",
            "[INFO] Commencing model training...\n"
          ]
        },
        {
          "data": {
            "text/html": [
              "\n",
              "    <div>\n",
              "      \n",
              "      <progress value='70' max='70' style='width:300px; height:20px; vertical-align: middle;'></progress>\n",
              "      [70/70 04:12, Epoch 10/10]\n",
              "    </div>\n",
              "    <table border=\"1\" class=\"dataframe\">\n",
              "  <thead>\n",
              " <tr style=\"text-align: left;\">\n",
              "      <th>Epoch</th>\n",
              "      <th>Training Loss</th>\n",
              "      <th>Validation Loss</th>\n",
              "      <th>Accuracy</th>\n",
              "    </tr>\n",
              "  </thead>\n",
              "  <tbody>\n",
              "    <tr>\n",
              "      <td>1</td>\n",
              "      <td>0.338800</td>\n",
              "      <td>0.041322</td>\n",
              "      <td>1.000000</td>\n",
              "    </tr>\n",
              "    <tr>\n",
              "      <td>2</td>\n",
              "      <td>0.019300</td>\n",
              "      <td>0.005754</td>\n",
              "      <td>1.000000</td>\n",
              "    </tr>\n",
              "    <tr>\n",
              "      <td>3</td>\n",
              "      <td>0.003700</td>\n",
              "      <td>0.002047</td>\n",
              "      <td>1.000000</td>\n",
              "    </tr>\n",
              "    <tr>\n",
              "      <td>4</td>\n",
              "      <td>0.001700</td>\n",
              "      <td>0.001152</td>\n",
              "      <td>1.000000</td>\n",
              "    </tr>\n",
              "    <tr>\n",
              "      <td>5</td>\n",
              "      <td>0.001000</td>\n",
              "      <td>0.000819</td>\n",
              "      <td>1.000000</td>\n",
              "    </tr>\n",
              "    <tr>\n",
              "      <td>6</td>\n",
              "      <td>0.000800</td>\n",
              "      <td>0.000670</td>\n",
              "      <td>1.000000</td>\n",
              "    </tr>\n",
              "    <tr>\n",
              "      <td>7</td>\n",
              "      <td>0.000700</td>\n",
              "      <td>0.000593</td>\n",
              "      <td>1.000000</td>\n",
              "    </tr>\n",
              "    <tr>\n",
              "      <td>8</td>\n",
              "      <td>0.000600</td>\n",
              "      <td>0.000550</td>\n",
              "      <td>1.000000</td>\n",
              "    </tr>\n",
              "    <tr>\n",
              "      <td>9</td>\n",
              "      <td>0.000600</td>\n",
              "      <td>0.000528</td>\n",
              "      <td>1.000000</td>\n",
              "    </tr>\n",
              "    <tr>\n",
              "      <td>10</td>\n",
              "      <td>0.000600</td>\n",
              "      <td>0.000520</td>\n",
              "      <td>1.000000</td>\n",
              "    </tr>\n",
              "  </tbody>\n",
              "</table><p>"
            ],
            "text/plain": [
              "<IPython.core.display.HTML object>"
            ]
          },
          "metadata": {},
          "output_type": "display_data"
        },
        {
          "name": "stdout",
          "output_type": "stream",
          "text": [
            "[INFO] Model training complete, saving model to local path: models/food_not_food_text_classifier_distilbert-base-uncased\n",
            "[INFO] Uploading model to Hugging Face Hub...\n"
          ]
        },
        {
          "data": {
            "application/vnd.jupyter.widget-view+json": {
              "model_id": "d67d16a149f8473d9799b337e8480073",
              "version_major": 2,
              "version_minor": 0
            },
            "text/plain": [
              "Processing Files (0 / 0)      : |          |  0.00B /  0.00B            "
            ]
          },
          "metadata": {},
          "output_type": "display_data"
        },
        {
          "data": {
            "application/vnd.jupyter.widget-view+json": {
              "model_id": "44a5d70cef064e1cbb76b2ea3c16200d",
              "version_major": 2,
              "version_minor": 0
            },
            "text/plain": [
              "New Data Upload               : |          |  0.00B /  0.00B            "
            ]
          },
          "metadata": {},
          "output_type": "display_data"
        },
        {
          "data": {
            "application/vnd.jupyter.widget-view+json": {
              "model_id": "8b9834caaa05446f8628730a321b5a2c",
              "version_major": 2,
              "version_minor": 0
            },
            "text/plain": [
              "  ...uncased/model.safetensors:  16%|#5        | 41.5MB /  268MB            "
            ]
          },
          "metadata": {},
          "output_type": "display_data"
        },
        {
          "data": {
            "application/vnd.jupyter.widget-view+json": {
              "model_id": "dd66d3c4809c4ce39f16220d61ebb258",
              "version_major": 2,
              "version_minor": 0
            },
            "text/plain": [
              "  ...uncased/training_args.bin:  22%|##2       | 1.30kB / 5.84kB            "
            ]
          },
          "metadata": {},
          "output_type": "display_data"
        },
        {
          "name": "stdout",
          "output_type": "stream",
          "text": [
            "[INFO] Model upload complete, model available at: https://huggingface.co/LizzChall/food_not_food_text_classifier_distilbert-base-uncased/tree/main/\n",
            "[INFO] Performing evaluation on test dataset...\n"
          ]
        },
        {
          "data": {
            "text/html": [],
            "text/plain": [
              "<IPython.core.display.HTML object>"
            ]
          },
          "metadata": {},
          "output_type": "display_data"
        },
        {
          "name": "stdout",
          "output_type": "stream",
          "text": [
            "[INFO] Prediction metrics on the test data:\n",
            "{'test_accuracy': 1.0,\n",
            " 'test_loss': 0.0005204931367188692,\n",
            " 'test_runtime': 0.0913,\n",
            " 'test_samples_per_second': 547.898,\n",
            " 'test_steps_per_second': 21.916}\n"
          ]
        }
      ],
      "source": [
        "# 1. Import necessary packages\n",
        "import pprint\n",
        "from pathlib import Path\n",
        "\n",
        "import numpy as np\n",
        "import torch\n",
        "\n",
        "import datasets\n",
        "import evaluate\n",
        "\n",
        "from transformers import pipeline\n",
        "from transformers import TrainingArguments, Trainer\n",
        "from transformers import AutoTokenizer, AutoModelForSequenceClassification\n",
        "\n",
        "#2. Setup variables for model training and saving pipeline\n",
        "DATASET_NAME = \"mrdbourke/learn_hf_food_not_food_image_captions\"\n",
        "MODEL_NAME = \"distilbert/distilbert-base-uncased\"\n",
        "MODEL_SAVE_DIR_NAME = \"models/food_not_food_text_classifier_distilbert-base-uncased\"\n",
        "\n",
        "# 3. Create a directory for saving models\n",
        "print(f\"[INFO] Creating directory for saving models: {MODEL_SAVE_DIR_NAME}\")\n",
        "model_save_dir = Path(MODEL_SAVE_DIR_NAME)\n",
        "model_save_dir.mkdir(parents=True, exist_ok=True)\n",
        "\n",
        "# 4. Load and preprocess the dataset from Hugging Face Hub\n",
        "print(f\"[INFO] Downloading dataset from Hugging Face Hub, name: {DATASET_NAME}\")\n",
        "dataset = datasets.load_dataset(DATASET_NAME)\n",
        "\n",
        "# Create mappings from id2label and label2id (adjust these for your target dataset, can also create these programmatically)\n",
        "id2labe = {0: \"not_food\", 1: \"food\"}\n",
        "label2id = {\"not_food\": 0, \"food\":1}\n",
        "\n",
        "# Create function to map IDs to labels in dataset\n",
        "def map_labels_to_number(example):\n",
        "  example[\"label\"] = label2id[example[\"label\"]]\n",
        "  return example\n",
        "\n",
        "# Map preprocessing function to dataset\n",
        "dataset = dataset[\"train\"].map(map_labels_to_number)\n",
        "\n",
        "# Split the dataset into train/test sets\n",
        "dataset = dataset.train_test_split(test_size=0.2, seed=42)\n",
        "\n",
        "# 5. Import a tokenizer and map it to our dataset\n",
        "print(f\"[INFO] Tokenizing text for model training with tokenizer: {MODEL_NAME}\")\n",
        "tokenizer = AutoTokenizer.from_pretrained(pretrained_model_name_or_path=MODEL_NAME,\n",
        "                                          use_fast=True)\n",
        "\n",
        "# Create a preprocessing function to tokenize text samples\n",
        "def tokenize_text(examples):\n",
        "  return tokenizer(examples[\"text\"],\n",
        "                   padding=True,\n",
        "                   truncation=True)\n",
        "\n",
        "tokenized_dataset = dataset.map(function=tokenize_text,\n",
        "                                batched=True,\n",
        "                                batch_size=1000)\n",
        "\n",
        "# 6. Set up an evaluation metric & function to evaluate our model\n",
        "accuracy_metric = evaluate.load(\"accuracy\")\n",
        "\n",
        "def compute_accuracy(predictions_and_labels):\n",
        "  predictions, labels = predictions_and_labels\n",
        "\n",
        "  if len(predictions.shape) >= 2:\n",
        "    predictions = np.argmax(predictions, axis=1)\n",
        "\n",
        "  return accuracy_metric.compute(predictions=predictions, references=labels)\n",
        "\n",
        "# 7. Import a model and prepare it for training\n",
        "print(f\"[INFO] Loading model: {MODEL_NAME}\")\n",
        "\n",
        "model = AutoModelForSequenceClassification.from_pretrained(\n",
        "    pretrained_model_name_or_path=MODEL_NAME,\n",
        "    num_labels=2,\n",
        "    id2label=id2label,\n",
        "    label2id=label2id\n",
        ")\n",
        "print(f\"[INFO] Model loading complete!\")\n",
        "\n",
        "# Setup TrainingArguments\n",
        "training_args = TrainingArguments(\n",
        "    output_dir=model_save_dir,\n",
        "    learning_rate=0.0001,\n",
        "    per_device_train_batch_size=32,\n",
        "    per_device_eval_batch_size=32,\n",
        "    num_train_epochs=10,\n",
        "    eval_strategy=\"epoch\",\n",
        "    save_strategy=\"epoch\",\n",
        "    save_total_limit=3,\n",
        "    use_cpu=False,\n",
        "    seed=42,\n",
        "    load_best_model_at_end=True,\n",
        "    logging_strategy=\"epoch\",\n",
        "    report_to=\"none\",\n",
        "    push_to_hub=False,\n",
        "    hub_private_repo=False\n",
        ")\n",
        "\n",
        "# Create Trainer instance and train model\n",
        "trainer = Trainer(\n",
        "    model=model,\n",
        "    args=training_args,\n",
        "    train_dataset=tokenized_dataset['train'],\n",
        "    eval_dataset=tokenized_dataset[\"test\"],\n",
        "    tokenizer=tokenizer,\n",
        "    compute_metrics=compute_accuracy\n",
        "\n",
        ")\n",
        "\n",
        "# 8. Train the model on our text dataset\n",
        "print(f\"[INFO] Commencing model training...\")\n",
        "results = trainer.train()\n",
        "\n",
        "# 9. Save the trained model (note: this will overwrite our previous model)\n",
        "print(f\"[INFO] Model training complete, saving model to local path: {model_save_dir}\")\n",
        "trainer.save_model(output_dir=model_save_dir)\n",
        "\n",
        "# 10. Push the model to the Hugging Face Hub\n",
        "print(f\"[INFO] Uploading model to Hugging Face Hub...\")\n",
        "model_upload_url = trainer.push_to_hub(\n",
        "    commit_message=\"Uploading food not food text classifier model (putting it all together)\"\n",
        ")\n",
        "print(f\"[INFO] Model upload complete, model available at: {model_upload_url}\")\n",
        "\n",
        "# 11. Evaluate the model on the test data\n",
        "print(f\"[INFO] Performing evaluation on test dataset...\")\n",
        "\n",
        "predictions_all = trainer.predict(tokenized_dataset[\"test\"])\n",
        "predictions_values = predictions_all.predictions\n",
        "predictions_metrics = predictions_all.metrics\n",
        "\n",
        "print(f\"[INFO] Prediction metrics on the test data:\")\n",
        "pprint.pprint(predictions_metrics)\n"
      ]
    },
    {
      "cell_type": "code",
      "execution_count": null,
      "metadata": {
        "colab": {
          "base_uri": "https://localhost:8080/"
        },
        "id": "KbBpZmyOf661",
        "outputId": "23a5b9f1-732b-4988-beb6-73802c731b30"
      },
      "outputs": [
        {
          "name": "stderr",
          "output_type": "stream",
          "text": [
            "Device set to use cuda\n"
          ]
        },
        {
          "name": "stdout",
          "output_type": "stream",
          "text": [
            "[INFO] Testing the model on a custom sample...\n"
          ]
        },
        {
          "data": {
            "text/plain": [
              "[[{'label': 'food', 'score': 0.9994199275970459}]]"
            ]
          },
          "execution_count": 90,
          "metadata": {},
          "output_type": "execute_result"
        }
      ],
      "source": [
        "# 12. Testing the model on a custom sample to make certain that it works\n",
        "from transformers import pipeline\n",
        "food_not_food_classifier = pipeline(task=\"text-classification\",\n",
        "                                    model= model_save_dir,\n",
        "                                    device=torch.device(\"cuda\") if torch.cuda.is_available() else torch.ddevice(\"cpu\"),\n",
        "                                    top_k=1,\n",
        "                                    batch_size=32)\n",
        "\n",
        "custom_sample = \"A delicious photo of a plate of cream cheese, topped with whipped cream and strawberries.\"\n",
        "print(f\"[INFO] Testing the model on a custom sample...\")\n",
        "\n",
        "food_not_food_classifier(custom_sample)"
      ]
    },
    {
      "cell_type": "markdown",
      "metadata": {
        "id": "rgDEb7UY6DYx"
      },
      "source": [
        "### Turning our model into a demo.\n",
        "\n",
        "We're going to create a machine learning demo using Gradio.\n",
        "\n",
        "Workflow:\n",
        "1. ✅ Create and preprocess data\n",
        "2. ✅ Define the model we'd like to use for our problem (in our case it will be the `distilbert/distilbert-base-uncased` model found here:   https://huggingface.co/distilbert/distilbert-base-uncased)\n",
        "3. ✅ Define training arguments for training our model using `transformers.TrainingArguments`\n",
        "\n",
        "   - These are also known as \"hyperparameters\" = settings on your model that you can adjust\n",
        "   - Parameters = weightes/patterns in the model that get updated automatically\n",
        "\n",
        "4. ✅ Pass `TrainingArguments` to an instance of `transformers.Trainer`\n",
        "5. ✅ Train the model by calling `Trainer.train()`\n",
        "6. ✅ Save the model (to our local machine or to the HuggingFace Hub)\n",
        "7. ✅ Evaluate the trained model by making and inspecting predictions on the test data (and our own custom data)\n",
        "8. Turn the model into a shareable demo"
      ]
    },
    {
      "cell_type": "markdown",
      "metadata": {
        "id": "B-LmkQCC7n9D"
      },
      "source": [
        "### Creating a function to perform inference.\n",
        "\n",
        "1. Take an input of string.\n",
        "2. Setup a text classification pipeline.\n",
        "3. Get the output from the pipeline.\n",
        "4. Return the output from the pipeline in step 3 as a formatted dictionary with the format:\n",
        "`{\"label_1\": probability_1, \"label_2\": probability_2}`"
      ]
    },
    {
      "cell_type": "code",
      "execution_count": null,
      "metadata": {
        "colab": {
          "base_uri": "https://localhost:8080/"
        },
        "id": "HsW6nJenqKku",
        "outputId": "eb16ea35-e8b8-45e2-8b36-e583f6b102cf"
      },
      "outputs": [
        {
          "name": "stderr",
          "output_type": "stream",
          "text": [
            "Device set to use cuda\n"
          ]
        },
        {
          "data": {
            "text/plain": [
              "{'not_food': 0.9161254167556763, 'food': 0.08387455344200134}"
            ]
          },
          "execution_count": 91,
          "metadata": {},
          "output_type": "execute_result"
        }
      ],
      "source": [
        "from typing import Dict\n",
        "\n",
        "# 1. Create a function which takes text as input\n",
        "def food_not_food_classifier(text: str) -> Dict[str, float]:\n",
        "    \"\"\"\n",
        "    Takes an input string of text and classifies it into food/not_food in the form of a dictionary.\n",
        "    \"\"\"\n",
        "\n",
        "    # 2. Setup the pipeline to use the local model (or Hugging Face model path)\n",
        "    food_not_food_classifier = pipeline(task=\"text-classification\",\n",
        "                                        model=local_model_path,\n",
        "                                        batch_size=32,\n",
        "                                        device=\"cuda\" if torch.cuda.is_available() else \"cpu\", # set the device to work in any environment\n",
        "                                        top_k=None) # return all possible scores (not just top-1)\n",
        "\n",
        "    # 3. Get outputs from pipeline (as a list of dicts)\n",
        "    outputs = food_not_food_classifier(text)[0]\n",
        "\n",
        "    # 4. Format output for Gradio (e.g. {\"label_1\": probability_1, \"label_2\": probability_2})\n",
        "    output_dict = {}\n",
        "    for item in outputs:\n",
        "        output_dict[item[\"label\"]] = item[\"score\"]\n",
        "\n",
        "    return output_dict\n",
        "\n",
        "# Test out the function\n",
        "food_not_food_classifier(\"My lunch today was chicken and salad\")"
      ]
    },
    {
      "cell_type": "markdown",
      "metadata": {
        "id": "ppCKd1J3Bv8U"
      },
      "source": [
        "### Building a small Gradio demo to run locally."
      ]
    },
    {
      "cell_type": "code",
      "execution_count": null,
      "metadata": {
        "colab": {
          "base_uri": "https://localhost:8080/",
          "height": 646
        },
        "id": "tlXRWCiQB1Er",
        "outputId": "77a81647-b289-4927-b9d9-b6c6ca2a28bc"
      },
      "outputs": [
        {
          "name": "stdout",
          "output_type": "stream",
          "text": [
            "It looks like you are running Gradio on a hosted Jupyter notebook, which requires `share=True`. Automatically setting `share=True` (you can turn this off by setting `share=False` in `launch()` explicitly).\n",
            "\n",
            "Colab notebook detected. To show errors in colab notebook, set debug=True in launch()\n",
            "* Running on public URL: https://46e5a74e106e486972.gradio.live\n",
            "\n",
            "This share link expires in 1 week. For free permanent hosting and GPU upgrades, run `gradio deploy` from the terminal in the working directory to deploy to Hugging Face Spaces (https://huggingface.co/spaces)\n"
          ]
        },
        {
          "data": {
            "text/html": [
              "<div><iframe src=\"https://46e5a74e106e486972.gradio.live\" width=\"100%\" height=\"500\" allow=\"autoplay; camera; microphone; clipboard-read; clipboard-write;\" frameborder=\"0\" allowfullscreen></iframe></div>"
            ],
            "text/plain": [
              "<IPython.core.display.HTML object>"
            ]
          },
          "metadata": {},
          "output_type": "display_data"
        },
        {
          "data": {
            "text/plain": []
          },
          "execution_count": 92,
          "metadata": {},
          "output_type": "execute_result"
        }
      ],
      "source": [
        "# Import Gradio\n",
        "import gradio as gr\n",
        "\n",
        "# Create a gradio interface\n",
        "demo = gr.Interface(\n",
        "    fn=food_not_food_classifier,\n",
        "    inputs=\"text\",\n",
        "    outputs=gr.Label(num_top_classes=2),\n",
        "    title=\"Food Not Food Classifier\",\n",
        "    description=\"A text classifier to determine if a sentence or text is about food or not.\",\n",
        "    examples=[\n",
        "        [\"I'm craving a juicy burger and crispy fries right now!\"],\n",
        "        [\"The new smartphone features an impressive camera and sleek design.\"]\n",
        "    ]\n",
        ")\n",
        "\n",
        "# Launch the interface\n",
        "demo.launch()"
      ]
    },
    {
      "cell_type": "markdown",
      "metadata": {
        "id": "tAblVnOgEond"
      },
      "source": [
        "### Making our demo publicly accessible.\n",
        "\n",
        "There are two main ways to make our demo pubicly accessible with Hugging Face Spaces:\n",
        "\n",
        "1. Manually - We can go to huggingface.co/spaces -> \"Create new space\" -> add our files and publish!\n",
        "2. Programmatically - We can use the Hugging Face Hub Python API and add our files to a Space with code.\n",
        "\n",
        "We're going to create these three files to create a Space programmatically:\n",
        "1. `app.py` - This is the main app with functionality of our demo.\n",
        "2. `requirements.txt` - These are the dependencies which our app will require.\n",
        "3. `README.md` - This will explain what the project/demo is about.\n",
        "\n",
        "We'll create these files with the following file structure:\n",
        "\n",
        "```\n",
        "demos/\n",
        "└── food_not_food_text_classifier/\n",
        "    ├── app.py\n",
        "    ├── README.md\n",
        "    └── requirements.txt\n",
        "```\n"
      ]
    },
    {
      "cell_type": "markdown",
      "metadata": {
        "id": "pJHdkdWGG7Fs"
      },
      "source": [
        "### Making a directory to store our demo."
      ]
    },
    {
      "cell_type": "code",
      "execution_count": null,
      "metadata": {
        "id": "bDycvqEcEBlh"
      },
      "outputs": [],
      "source": [
        "from pathlib import Path\n",
        "\n",
        "# Make directory for demos\n",
        "demos_dir = Path(\"../demos\")\n",
        "demos_dir.mkdir(exist_ok=True)\n",
        "\n",
        "# Create a folder for the food_not_food_text_classifier demo\n",
        "food_not_food_text_classifier_demo_dir = Path(demos_dir, \"food_not_food_text_classifier\")\n",
        "food_not_food_text_classifier_demo_dir.mkdir(exist_ok=True)"
      ]
    },
    {
      "cell_type": "markdown",
      "metadata": {
        "id": "lfESy1IZISyt"
      },
      "source": [
        "### Making an app.py file.\n",
        "\n",
        "In the `app.py` file we are going to:\n",
        "1. Import packages.\n",
        "2. Define our function to use our model (this will work with Grdio).\n",
        "3. Create a demo with Gradio.\n",
        "4. Run the demo with `demo.launch()`."
      ]
    },
    {
      "cell_type": "code",
      "execution_count": null,
      "metadata": {
        "colab": {
          "base_uri": "https://localhost:8080/"
        },
        "id": "gKt-AixSH-Hz",
        "outputId": "a9d96238-1411-4757-c36f-e8633fee1e96"
      },
      "outputs": [
        {
          "name": "stdout",
          "output_type": "stream",
          "text": [
            "Writing ../demos/food_not_food_text_classifier/app.py\n"
          ]
        }
      ],
      "source": [
        "%%writefile ../demos/food_not_food_text_classifier/app.py\n",
        "import torch\n",
        "import gradio as gr\n",
        "\n",
        "from typing import Dict\n",
        "from transformers import pipeline\n",
        "\n",
        "# Define our function to use with our model\n",
        "def food_not_food_classifier(text: str) -> Dict[str, float]:\n",
        "    \"\"\"\n",
        "    Takes an input string of text and classifies it into food/not_food in the form of a dictionary.\n",
        "    \"\"\"\n",
        "\n",
        "    # Setup the pipeline to use the local model (or Hugging Face model path)\n",
        "    food_not_food_classifier = pipeline(task=\"text-classification\",\n",
        "                                        model=\"LizzChall/food_not_food_text_classifier_distilbert-base-uncased\",\n",
        "                                        batch_size=32,\n",
        "                                        device=\"cuda\" if torch.cuda.is_available() else \"cpu\", # set the device to work in any environment\n",
        "                                        top_k=None) # return all possible scores (not just top-1)\n",
        "\n",
        "    # Get outputs from pipeline (as a list of dicts)\n",
        "    outputs = food_not_food_classifier(text)[0]\n",
        "\n",
        "    # Format output for Gradio (e.g. {\"label_1\": probability_1, \"label_2\": probability_2})\n",
        "    output_dict = {}\n",
        "    for item in outputs:\n",
        "        output_dict[item[\"label\"]] = item[\"score\"]\n",
        "\n",
        "    return output_dict\n",
        "\n",
        "# 3. Create a Gradio interface with details about our app\n",
        "description = \"\"\"\n",
        "A text classifier to determine if a sentence is about food or not food.\n",
        "\n",
        "Fine-tuned from [DistilBERT](https://huggingface.co/distilbert/distilbert-base-uncased) on a [small dataset of food and not food text](https://huggingface.co/datasets/mrdbourke/learn_hf_food_not_food_image_captions).\n",
        "\n",
        "See [source code](https://github.com/mrdbourke/learn-huggingface/blob/main/notebooks/hugging_face_text_classification_tutorial.ipynb).\n",
        "\"\"\"\n",
        "\n",
        "demo = gr.Interface(\n",
        "    fn=food_not_food_classifier,\n",
        "    inputs=\"text\",\n",
        "    outputs=gr.Label(num_top_classes=2),\n",
        "    title=\"🥑🚫🍗Food Not Food Classifier\",\n",
        "    description=description,\n",
        "    examples=[\n",
        "        [\"I'm craving a juicy burger and crispy fries right now!\"],\n",
        "        [\"The new smartphone features an impressive camera and sleek design.\"]\n",
        "    ]\n",
        ")\n",
        "\n",
        "# 4. Launch the interface\n",
        "if __name__ == \"__main__\":\n",
        "demo.launch()"
      ]
    },
    {
      "cell_type": "markdown",
      "metadata": {
        "id": "h1oFDdmQMqlM"
      },
      "source": [
        "### Making a README file.\n",
        "\n",
        "This file is in markdown format, with a special YAML block at the top."
      ]
    },
    {
      "cell_type": "code",
      "execution_count": null,
      "metadata": {
        "colab": {
          "base_uri": "https://localhost:8080/"
        },
        "id": "ilyU4PlIMTIt",
        "outputId": "775a023e-1d3c-4258-f30b-a4e96291857d"
      },
      "outputs": [
        {
          "name": "stdout",
          "output_type": "stream",
          "text": [
            "Writing ../demos/food_not_food_text_classifier/README.md\n"
          ]
        }
      ],
      "source": [
        "%%writefile ../demos/food_not_food_text_classifier/README.md\n",
        "\n",
        "---\n",
        "title: Food Not Food Text Classifier\n",
        "emoji: 🥑🚫🍗\n",
        "colorFrom: pink\n",
        "colorTo: blue\n",
        "sdk: gradio\n",
        "sdk_version: 5.47.2\n",
        "app_file: app.py\n",
        "pinned: true\n",
        "license: apache-2.0\n",
        "---\n",
        "\n",
        "# 🥑🚫🍗 Food Not Food Text Classifier\n",
        "\n",
        "Small demo to showcase a text classifier to determine if a sentence is about food or not food.\n",
        "\n",
        "DistillBERT model fine-tuned on a small synthetic dataset of 250 generated [Food or Not Food image captions.](https://huggingface.co/datasets/mrdbourke/learn_hf_food_not_food_image_captions).\n",
        "\n",
        "[Source code notebook](https://github.com/mrdbourke/learn-huggingface/blob/main/notebooks/hugging_face_text_classification_tutorial.ipynb).\n"
      ]
    },
    {
      "cell_type": "markdown",
      "metadata": {
        "id": "nG6g9j2iO8TI"
      },
      "source": [
        "### Making a requirements file.\n",
        "\n",
        "This file is going to tell our Hugging Face Space which versions/ which packages to use."
      ]
    },
    {
      "cell_type": "code",
      "execution_count": null,
      "metadata": {
        "colab": {
          "base_uri": "https://localhost:8080/"
        },
        "id": "41VwZRiEO3O6",
        "outputId": "9dd9bc1f-1547-4764-d671-f82723e26220"
      },
      "outputs": [
        {
          "name": "stdout",
          "output_type": "stream",
          "text": [
            "Writing ../demos/food_not_food_text_classifier/requirements.txt\n"
          ]
        }
      ],
      "source": [
        "%%writefile ../demos/food_not_food_text_classifier/requirements.txt\n",
        "gradio\n",
        "torch\n",
        "transformers"
      ]
    },
    {
      "cell_type": "markdown",
      "metadata": {
        "id": "hcPlYdmgPpPj"
      },
      "source": [
        "### Uploading our demo to Hugging Face Spaces.\n",
        "\n",
        "We will be using the Hugging Face Hub Python API.\n",
        "\n",
        "To get our demo hosted on Hugging Face Spaces we’ll go through the following steps:\n",
        "\n",
        "1. Import the required methods from the `huggingface_hub` package, including create_repo, get_full_repo_name, upload_file (optional, we’ll be using upload_folder) and upload_folder.\n",
        "2. Define the demo folder we’d like to upload as well as the different parameters for the Hugging Face Space such as repo type (\"space\"), our target Space name, the target Space SDK (\"gradio\"), our Hugging Face token with write access (optional if it already isn’t setup).\n",
        "3. Create a repository on Hugging Face Spaces using the `huggingface_hub.create_repo` method and filling out the appropriate parameters.\n",
        "4. Get the full name of our created repository using the `huggingface_hub.get_full_repo_name` method.\n",
        "5. Upload the contents of our target demo folder (../demos/food_not_food_text_classifier/) to Hugging Face Hub with `huggingface_hub.upload_folder`.\n",
        "6. Hope it all works and inspect the results! 🤞\n",
        "\n"
      ]
    },
    {
      "cell_type": "code",
      "execution_count": null,
      "metadata": {
        "colab": {
          "base_uri": "https://localhost:8080/"
        },
        "id": "3v6_f-edPezB",
        "outputId": "e519a870-35ba-4874-bf03-fadb344bcdbe"
      },
      "outputs": [
        {
          "name": "stdout",
          "output_type": "stream",
          "text": [
            "[INFO] Creating Space repository on Hugging Face Hub...\n",
            "[INFO] Full Hugging Face Hub repo name: LizzChall/food_not_food_text_classifier_demo\n",
            "[INFO] Uploading ../demos/food_not_food_text_classifier to repo: LizzChall/food_not_food_text_classifier_demo\n",
            "[INFO] Demo folder successfully uploaded with commit URL: https://huggingface.co/spaces/LizzChall/food_not_food_text_classifier_demo/tree/main/.\n"
          ]
        }
      ],
      "source": [
        "# 1. Import the required methods for uploading to the HF Hub\n",
        "from huggingface_hub import (\n",
        "    create_repo,\n",
        "    get_full_repo_name,\n",
        "    upload_file,\n",
        "    upload_folder\n",
        ")\n",
        "\n",
        "# 2. Define the parameters we'd like to use for uploading our space\n",
        "LOCAL_DEMO_FOLDER_PATH_TO_UPLOAD = \"../demos/food_not_food_text_classifier\"\n",
        "HF_TARGET_SPACE_NAME = \"food_not_food_text_classifier_demo\"\n",
        "HF_REPO_TYPE = \"space\"\n",
        "HF_SPACE_SDK = \"gradio\"\n",
        "\n",
        "# 3. Create a Space Repo on Hugging Face Hub\n",
        "print(f\"[INFO] Creating Space repository on Hugging Face Hub...\")\n",
        "create_repo(\n",
        "    repo_id=HF_TARGET_SPACE_NAME,\n",
        "    repo_type=HF_REPO_TYPE,\n",
        "    private=False,\n",
        "    space_sdk=HF_SPACE_SDK,\n",
        "    exist_ok=True\n",
        ")\n",
        "\n",
        "# 4. Get the full repo name\n",
        "hf_full_repo_name = get_full_repo_name(model_id=HF_TARGET_SPACE_NAME)\n",
        "print(f\"[INFO] Full Hugging Face Hub repo name: {hf_full_repo_name}\")\n",
        "\n",
        "# 5. Upload our demo folder\n",
        "print(f\"[INFO] Uploading {LOCAL_DEMO_FOLDER_PATH_TO_UPLOAD} to repo: {hf_full_repo_name}\")\n",
        "folder_upload_url = upload_folder(\n",
        "    folder_path=LOCAL_DEMO_FOLDER_PATH_TO_UPLOAD,\n",
        "    repo_id=hf_full_repo_name,\n",
        "    repo_type=HF_REPO_TYPE,\n",
        "    path_in_repo=\".\",\n",
        "    commit_message=\"Uploading food not food text classifier demo from a notebook!\"\n",
        ")\n",
        "\n",
        "print(f\"[INFO] Demo folder successfully uploaded with commit URL: {folder_upload_url}\")"
      ]
    },
    {
      "cell_type": "markdown",
      "source": [
        "### Saving a backup of notebook before cleaning the metadata to push to github. (just incase)"
      ],
      "metadata": {
        "id": "mgS3puDYeX8I"
      }
    },
    {
      "cell_type": "code",
      "execution_count": null,
      "metadata": {
        "id": "Lj-GhgozZGdV"
      },
      "outputs": [],
      "source": [
        "!cp \"/content/drive/MyDrive/Colab Notebooks/huggingface_text_classification.ipynb\" \\\n",
        "   \"/content/drive/MyDrive/Colab Notebooks/huggingface_text_classification_backup.ipynb\""
      ]
    },
    {
      "cell_type": "markdown",
      "source": [
        "### Cleaning Broken Widget Metadata from a Colab Notebook.\n",
        "\n",
        "When commiting this notebook to GitHub we encountered a metadata error.\n",
        "\n",
        "💡 Here is essentially a safe script to \"strip out\" the broken widget metadata so the notebook can open and render correctly.\n",
        "\n",
        "1. Imports `nbformat` – a library to read and write Jupyter notebooks programmatically.\n",
        "\n",
        "2. Specifies the notebook file path on your Google Drive.\n",
        "\n",
        "3. Opens the notebook and loads its content into a Python object (nb).\n",
        "\n",
        "4. Checks for metadata.widgets – this is the part of the notebook metadata causing rendering errors in Colab.\n",
        "\n",
        "5. Removes `metadata.widgets` if it exists, or prints a message if it doesn’t.\n",
        "\n",
        "6. Writes the cleaned notebook back to the same file, overwriting the old version.\n",
        "\n",
        "7. Prints a confirmation once the notebook has been cleaned and saved."
      ],
      "metadata": {
        "id": "W1j5wAG8el4M"
      }
    },
    {
      "cell_type": "code",
      "execution_count": 108,
      "metadata": {
        "id": "_wfSXvafcDst",
        "colab": {
          "base_uri": "https://localhost:8080/"
        },
        "outputId": "f9e0f205-2b48-47b3-e9c6-529f205b704f"
      },
      "outputs": [
        {
          "output_type": "stream",
          "name": "stdout",
          "text": [
            "No 'metadata.widgets' found. Nothing to clean.\n",
            "Notebook metadata cleaned and saved ✅\n"
          ]
        }
      ],
      "source": [
        "import nbformat\n",
        "\n",
        "# Path to the notebook in Drive\n",
        "notebook_path = \"/content/drive/MyDrive/Colab Notebooks/huggingface_text_classification.ipynb\"\n",
        "\n",
        "# Load the notebook\n",
        "with open(notebook_path, \"r\", encoding=\"utf-8\") as f:\n",
        "    nb = nbformat.read(f, as_version=nbformat.NO_CONVERT)\n",
        "\n",
        "# Clean out the problematic metadata\n",
        "if \"widgets\" in nb.metadata:\n",
        "    print(\"Found 'metadata.widgets' — removing it...\")\n",
        "    del nb.metadata[\"widgets\"]\n",
        "else:\n",
        "    print(\"No 'metadata.widgets' found. Nothing to clean.\")\n",
        "\n",
        "# Save cleaned notebook back\n",
        "with open(notebook_path, \"w\", encoding=\"utf-8\") as f:\n",
        "    nbformat.write(nb, f)\n",
        "\n",
        "print(\"Notebook metadata cleaned and saved ✅\")"
      ]
    },
    {
      "cell_type": "code",
      "source": [],
      "metadata": {
        "id": "GdyKXnlheSwV"
      },
      "execution_count": null,
      "outputs": []
    }
  ],
  "metadata": {
    "accelerator": "GPU",
    "colab": {
      "gpuType": "T4",
      "provenance": [],
      "mount_file_id": "1iD4pqI4Rk6L1bJzyg3uW1SA3FAD0UYqx",
      "authorship_tag": "ABX9TyNm5VfmlJIcSpW82MXI8EU1",
      "include_colab_link": true
    },
    "kernelspec": {
      "display_name": "Python 3",
      "name": "python3"
    },
    "language_info": {
      "name": "python"
    }
  },
  "nbformat": 4,
  "nbformat_minor": 0
}